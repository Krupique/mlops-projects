{
 "cells": [
  {
   "attachments": {},
   "cell_type": "markdown",
   "metadata": {},
   "source": [
    "# Regressão Linear Simples e Regressão Linear Múltipla"
   ]
  },
  {
   "attachments": {},
   "cell_type": "markdown",
   "metadata": {},
   "source": [
    "## Sumário\n",
    "\n",
    "* <a href=\"\">Introdução</a>"
   ]
  },
  {
   "attachments": {},
   "cell_type": "markdown",
   "metadata": {},
   "source": [
    "---\n",
    "\n",
    "<h2 id=\"#id1\">1) Introdução</h2>\n",
    "\n",
    "A regressão linear simples modela o relacionamento entre a magnitude de uma variável e aquela de uma segunda - por exemplo, conforme X aumenta, Y também aumenta. Ou conforme X aumenta, Y diminui. A correlação é outro jeito de medir como duas variáveis estão relacionadas. A diferença é que enquanto a correlação mede a força de uma associação entre duas variáveis, a regressão quantifica a natureza do relacionamento.\n",
    "\n",
    "É um processo de Machine Learning supervisionado. É semelhante à classificação, mas, em vez de prever um rótulo, tentamos prever um valor contínuo. Se você estiver tentando prever um número, utilize a regressão.\n",
    "\n",
    "* **Variável independente (x) -> Variável dependente (y)**<br/>\n",
    "Análise de regressão é uma metodologia estatística que utiliza a relação entre duas ou mais variáveis quantitativas de tal forma que uma variável possa ser predita a partir de outra.\n",
    "\n",
    "<h3 id=\"#id1_1\">1.1) Termos-Chave</h3>\n",
    "\n",
    "* **Resposta**: A variável que estamos tentando prever. *Sinônimos*: Variável dependente, variável Y, alvo, resultado.\n",
    "* **Variável independente**: A variável usada para prever a resposta. *Sinônimos*: Variável X, característica, atributo.\n",
    "* **Registro**: O vetor de valores preditor e de resultado para um indivíduo ou caso específico. *Sinônimos*: linha, caso, exemplo.\n",
    "* **Intercepto**: O interceptor da linha de regressão - ou seja, o valor previsto quando X = 0. *Sinônimos*: b0, ß0.\n",
    "* **Coeficiente de Regressão**: O declive da linha de regressão s. *Sinônimos*: declive, b1, ß1, estimativas de parâmetro, pesos.\n",
    "* **Valores ajustados**: As estimativas Ŷi obtidas da linha de regressão. *Sinônimos*: Valores previstos.\n",
    "* **Resíduo**: A diferença entre os valores observados e os valores ajustados. *Sinônimos*: erros.\n",
    "* **Mínimos Quadrados**: O método de ajustar uma regressão pela minimização da soma dos quadrados dos resíduos. *Sinônimos*: mínimos quadrados ordinários.\n",
    "\n",
    "---\n",
    "\n",
    "<h2 id=\"#id2\">2) A Equação de Regressão</h2>\n",
    "\n",
    "A regressão linear simples estima exatamente o quanto Y mudará quando X mudar em uma certa quantidade. Com o coeficiente de correlação, as variáveis X e Y são intercambiáveis. Com a regressão, estamos tentando prever a variável Y a partir de X usando um relacionamento linear (ou seja, uma linha):\n",
    "\n",
    "<img src=\"assets/00_linearRegression.jpg\" alt=\"Fórmula da regressão linear\" width=\"450\">\n",
    "\n",
    "Quando resolvida, temos um intercepto e um coeficiente. O intercepto nos dá um valor de base para uma predição, modificado pela soma do produto entre o coeficiente e o dado de entrada. Esse formato pode ser generalizado para dimensões maiores. Nesse caso, cada atributo terá um coeficiente. Quando maior o valor absoluto do coeficiente, mais impacto terá o atributo no alvo.\n",
    "\n",
    "O modelo pressupõe que a predição é uma combinação linear dos dados de entrada. Para alguns conjuntos de dados, isso não será suficientemente flexível. Mais complexidade poderá ser acrescentada por meio da transformação dos atributos (o transformador `preprocessing.PolynomialFeatures` do sklearn é capaz de criar combinações polinomiais dos atributos). Se isso resultar em overfitting, regressões ridge e lasso poderão ser usadas para regularizar o estimador. \n",
    "\n",
    "Esse modelo também é suscetível a **heterocedasticidade**. A heterocedasticidade é a ideia de que, à medida que os valores de entrada mudam, o erro da predição (ou resíduos) geralmente muda também.\n",
    "\n",
    "Outra questão que deve ser considerada é a **multicolinearidade**. Se as colunas tiverem um alto nível de correlação, será mais difícil interpretar os coeficientes. Em geral, isso não causará impactos no modelo, mas apenas no significado dos coeficientes.\n",
    "\n",
    "<h3 id=\"#id2_1\">2.1) Propriedades do modelo</h3>\n",
    "\n",
    "Um modelo de regressão linear tem as seguintes propriedades:\n",
    "* **Eficiência na execução**: Use n_jobs para melhorar o desempenho.\n",
    "* **Pré-processamento dos dados**: Padronize os dados antes de fazer o treinamento do modelo.\n",
    "* **Para evitar overfitting**: Você pode simplificar o modelo não usando ou adicionando atributos polinomiais.\n",
    "* **Interpretação dos resultados**: É possível interpretar os resultados como pesos para contribuição dos atributos, mas supõe-se que os atributos tenham uma distribuição normal e sejam independentes. Você pode remover atributos colineares para facilitar a interpretação. R² informará até que ponto a variância total do resultado é explicada pelo modelo.\n",
    "\n",
    "Parâmetros da instância:\n",
    "* **n_jobs**: Número de CPUs a ser usadas. -1 se todas.\n",
    "\n",
    "Atributos após a adequação:\n",
    "* **coef_**: Coeficientes da regressão linear.\n",
    "* **intercept_**: Intercepto do modelo linear.\n",
    "\n",
    "O valor do **.intercept_** é o valor médio esperado. Podemos ver como o fato de escalar os dados afeta os coeficientes. O sinal dos coeficientes explica a direção da relação entre o atributo e o alvo (target). Um sinal positivo informa que, à medida que o atributo aumenta, o rótulo (label) aumenta. Um sinal negativo mmostra que, à medida que o atributo aumenta, o rótulo diminui. Quanto maior o valor absoluto do coeficiente, mais impacto ele causará.\n",
    "\n",
    "<h3 id=\"#id2_2\">2.2) Exemplo básico do algoritmo</h3>"
   ]
  },
  {
   "cell_type": "code",
   "execution_count": 1,
   "metadata": {},
   "outputs": [
    {
     "data": {
      "text/html": [
       "<div>\n",
       "<style scoped>\n",
       "    .dataframe tbody tr th:only-of-type {\n",
       "        vertical-align: middle;\n",
       "    }\n",
       "\n",
       "    .dataframe tbody tr th {\n",
       "        vertical-align: top;\n",
       "    }\n",
       "\n",
       "    .dataframe thead th {\n",
       "        text-align: right;\n",
       "    }\n",
       "</style>\n",
       "<table border=\"1\" class=\"dataframe\">\n",
       "  <thead>\n",
       "    <tr style=\"text-align: right;\">\n",
       "      <th></th>\n",
       "      <th>AGE</th>\n",
       "    </tr>\n",
       "  </thead>\n",
       "  <tbody>\n",
       "    <tr>\n",
       "      <th>0</th>\n",
       "      <td>65.2</td>\n",
       "    </tr>\n",
       "    <tr>\n",
       "      <th>1</th>\n",
       "      <td>78.9</td>\n",
       "    </tr>\n",
       "    <tr>\n",
       "      <th>2</th>\n",
       "      <td>61.1</td>\n",
       "    </tr>\n",
       "  </tbody>\n",
       "</table>\n",
       "</div>"
      ],
      "text/plain": [
       "    AGE\n",
       "0  65.2\n",
       "1  78.9\n",
       "2  61.1"
      ]
     },
     "metadata": {},
     "output_type": "display_data"
    },
    {
     "data": {
      "text/plain": [
       "0    24.0\n",
       "1    21.6\n",
       "2    34.7\n",
       "Name: MEDV, dtype: float64"
      ]
     },
     "metadata": {},
     "output_type": "display_data"
    }
   ],
   "source": [
    "import pandas as pd\n",
    "from sklearn import model_selection, preprocessing\n",
    "\n",
    "df = pd.read_csv('../data/bostonhousing.csv')\n",
    "bos_X = df.drop(columns=['MEDV'])\n",
    "bos_X = bos_X[['AGE']]\n",
    "bos_y = df['MEDV']\n",
    "\n",
    "display(bos_X.head(3))\n",
    "display(bos_y.head(3))\n",
    "\n",
    "for col in bos_X:\n",
    "    bos_X[col].fillna(bos_X[col].median(), inplace=True)\n",
    "\n",
    "bos_sX = preprocessing.StandardScaler().fit_transform(bos_X)\n",
    "bos_sX_train, bos_sX_test, bos_sy_train, bos_sy_test = model_selection.train_test_split(bos_sX, bos_y, test_size=0.3, random_state=42)"
   ]
  },
  {
   "cell_type": "code",
   "execution_count": 7,
   "metadata": {},
   "outputs": [
    {
     "name": "stdout",
     "output_type": "stream",
     "text": [
      "0.15388228824187467\n",
      "Coef: [-3.40549831]\n",
      "Intercept: 23.040506838183067\n"
     ]
    }
   ],
   "source": [
    "from sklearn.linear_model import LinearRegression\n",
    "\n",
    "lr = LinearRegression()\n",
    "lr.fit(bos_sX_train, bos_sy_train)\n",
    "print(lr.score(bos_sX_test, bos_sy_test))\n",
    "print(f\"Coef: {lr.coef_}\")\n",
    "print(f\"Intercept: {lr.intercept_}\")"
   ]
  },
  {
   "attachments": {},
   "cell_type": "markdown",
   "metadata": {},
   "source": [
    "Alguns conceitos importantes na análise de regressão são os valores *ajustados* e *resíduos*. Em geral, os dados não ficam exatamente em linha, então a equação de regressão deveria incluir um termo explícito de erro ei.\n",
    "\n",
    "Os valores ajustados, também chamados de valores *previstos*, são geralmente denotados por **Ŷ**. As notações de *b0(chapéu)* e *b1(chapéu)* indicam que os coeficientes são os estimados versus os conhecidos.\n",
    "\n",
    "Notação Chapéu: Estimativas versus valores conhecidos. A notação \"chapéu\" é usada para diferenciar as estimativas dos valores conhecidos."
   ]
  },
  {
   "attachments": {},
   "cell_type": "markdown",
   "metadata": {},
   "source": [
    "<h3 id=\"#id2_3\">2.3) Mínimos Quadrados</h3>\n",
    "\n",
    "Como o modelo é ajustado aos dados? Quando existe um relacionamento claro, pode-se imaginar ajustar a linha à mão. Na prática, a linha de regressão é a estiamtiva que minimiza a soma dos valores quadrados do resíduo, também chamados de *residual sum of squares* ou RSS:\n",
    "\n",
    "<img src=\"assets/01_residual_sum_squares.png\" alt=\"RSS\" width=\"400\">"
   ]
  },
  {
   "attachments": {},
   "cell_type": "markdown",
   "metadata": {},
   "source": [
    "As estimativas b0 (chapéu) e b1 (chapéu) são os valores que minimizam a RSS. O método de minizar a soma dos resíduos quadrados é chamado de regressão de mínimos quadrados, ou regressão de mínimos quadrados ordinários (Ordinary Least Squares - OLS). \n",
    "\n",
    "Os quadrados mínimos, como média, são sensíveis aos outliers, porém isso costuma ser um problema significativo apenas em problemas pequenos ou de tamanho moderado."
   ]
  },
  {
   "attachments": {},
   "cell_type": "markdown",
   "metadata": {},
   "source": [
    "<h3 id=\"#id2_4\">2.4) Previsão versus Explicação (Profiling)</h3>\n",
    "\n",
    "Historicamente, um dos primeiros usos da regressão era desvendar um suposto relacionamento linear entre as variáveis preditoras e uma variável resultante. O objetivo tem sido entender um relacionamento e explicá-lo usandos os dados para os quais a regressão foi ajustada. \n",
    "\n",
    "Nesse caso, o objetivo principal está no declive estimado da equação de regressão, b(chapéu). Ou seja, de modo geral, o objetivo não é prever casos individuais, mas, sim, entender o relacionamento geral."
   ]
  },
  {
   "attachments": {},
   "cell_type": "markdown",
   "metadata": {},
   "source": [
    "---\n",
    "\n",
    "<h2 id=\"#id3\">3) Regressão Linear Múltipla</h2>\n",
    "\n",
    "Quando existem múltiplas preditoras, a equação simplesmente se estende para acomodá-las:\n",
    "\n",
    "<img src=\"assets/02_multiple_linear_regression.png\" alt=\"Multiple Linear Regression\" width=\"400\">\n",
    "\n",
    "Em vez de uma linha, agora temos um modelo linear - o relacionamento entre cada coeficiente e sua variável (característica) é linear.\n",
    "\n",
    "<h3 id=\"#id3_1\">3.1) Termos-Chave</h3>\n",
    "\n",
    "* **Raiz quadrada do erro quadrático médio**: A raiz quadrada do erro quadrático médio de regressão (esta é a métrica mais usada para comparar modelos de regressão). *Sinônimo*: RMSE.\n",
    "* **Erro-padrão residual**: O mesmo qua a raiz quadrada do erro quadrático médio, mas ajustada para graus de liberdade. *Sinônimo*: RSE.\n",
    "* **R-quadrado**: A proporção de variância explicada pelo modelo, de 0 a 1. *Sinônimos*: Coeficiente de determinação, R2.\n",
    "* **Estatística-t**: O coeficiente para um preditor, dividido pelo erro-padrão do coeficiente, fornecendo uma métrica para comparar a importância das variáveis no modelo.\n",
    "* **Regressão ponderada**: A regressão com os registros tendo pesos diferentes.\n",
    "\n",
    "Todos os outros conceitos em regressão linear simples, como ajuste por mínimos quadrados e a definição de valores ajustados e resíduos, se estendem à configuração da regressão linear múltipla."
   ]
  },
  {
   "attachments": {},
   "cell_type": "markdown",
   "metadata": {},
   "source": [
    "<h3 id=\"#id3_2\">3.2) Exemplo básico do algoritmo</h3>"
   ]
  },
  {
   "cell_type": "code",
   "execution_count": 2,
   "metadata": {},
   "outputs": [
    {
     "data": {
      "text/html": [
       "<div>\n",
       "<style scoped>\n",
       "    .dataframe tbody tr th:only-of-type {\n",
       "        vertical-align: middle;\n",
       "    }\n",
       "\n",
       "    .dataframe tbody tr th {\n",
       "        vertical-align: top;\n",
       "    }\n",
       "\n",
       "    .dataframe thead th {\n",
       "        text-align: right;\n",
       "    }\n",
       "</style>\n",
       "<table border=\"1\" class=\"dataframe\">\n",
       "  <thead>\n",
       "    <tr style=\"text-align: right;\">\n",
       "      <th></th>\n",
       "      <th>CRIM</th>\n",
       "      <th>ZN</th>\n",
       "      <th>INDUS</th>\n",
       "      <th>CHAS</th>\n",
       "      <th>NOX</th>\n",
       "      <th>RM</th>\n",
       "      <th>AGE</th>\n",
       "      <th>DIS</th>\n",
       "      <th>RAD</th>\n",
       "      <th>TAX</th>\n",
       "      <th>PTRATIO</th>\n",
       "      <th>B</th>\n",
       "      <th>LSTAT</th>\n",
       "    </tr>\n",
       "  </thead>\n",
       "  <tbody>\n",
       "    <tr>\n",
       "      <th>0</th>\n",
       "      <td>0.00632</td>\n",
       "      <td>18.0</td>\n",
       "      <td>2.31</td>\n",
       "      <td>0.0</td>\n",
       "      <td>0.538</td>\n",
       "      <td>6.575</td>\n",
       "      <td>65.2</td>\n",
       "      <td>4.0900</td>\n",
       "      <td>1</td>\n",
       "      <td>296</td>\n",
       "      <td>15.3</td>\n",
       "      <td>396.90</td>\n",
       "      <td>4.98</td>\n",
       "    </tr>\n",
       "    <tr>\n",
       "      <th>1</th>\n",
       "      <td>0.02731</td>\n",
       "      <td>0.0</td>\n",
       "      <td>7.07</td>\n",
       "      <td>0.0</td>\n",
       "      <td>0.469</td>\n",
       "      <td>6.421</td>\n",
       "      <td>78.9</td>\n",
       "      <td>4.9671</td>\n",
       "      <td>2</td>\n",
       "      <td>242</td>\n",
       "      <td>17.8</td>\n",
       "      <td>396.90</td>\n",
       "      <td>9.14</td>\n",
       "    </tr>\n",
       "    <tr>\n",
       "      <th>2</th>\n",
       "      <td>0.02729</td>\n",
       "      <td>0.0</td>\n",
       "      <td>7.07</td>\n",
       "      <td>0.0</td>\n",
       "      <td>0.469</td>\n",
       "      <td>7.185</td>\n",
       "      <td>61.1</td>\n",
       "      <td>4.9671</td>\n",
       "      <td>2</td>\n",
       "      <td>242</td>\n",
       "      <td>17.8</td>\n",
       "      <td>392.83</td>\n",
       "      <td>4.03</td>\n",
       "    </tr>\n",
       "  </tbody>\n",
       "</table>\n",
       "</div>"
      ],
      "text/plain": [
       "      CRIM    ZN  INDUS  CHAS    NOX     RM   AGE     DIS  RAD  TAX  PTRATIO  \\\n",
       "0  0.00632  18.0   2.31   0.0  0.538  6.575  65.2  4.0900    1  296     15.3   \n",
       "1  0.02731   0.0   7.07   0.0  0.469  6.421  78.9  4.9671    2  242     17.8   \n",
       "2  0.02729   0.0   7.07   0.0  0.469  7.185  61.1  4.9671    2  242     17.8   \n",
       "\n",
       "        B  LSTAT  \n",
       "0  396.90   4.98  \n",
       "1  396.90   9.14  \n",
       "2  392.83   4.03  "
      ]
     },
     "metadata": {},
     "output_type": "display_data"
    },
    {
     "data": {
      "text/plain": [
       "0    24.0\n",
       "1    21.6\n",
       "2    34.7\n",
       "Name: MEDV, dtype: float64"
      ]
     },
     "metadata": {},
     "output_type": "display_data"
    }
   ],
   "source": [
    "import pandas as pd\n",
    "from sklearn import model_selection, preprocessing\n",
    "\n",
    "df = pd.read_csv('../data/bostonhousing.csv')\n",
    "bos_X = df.drop(columns=['MEDV'])\n",
    "bos_y = df['MEDV']\n",
    "\n",
    "display(bos_X.head(3))\n",
    "display(bos_y.head(3))\n",
    "\n",
    "for col in bos_X:\n",
    "    bos_X[col].fillna(bos_X[col].median(), inplace=True)\n",
    "\n",
    "bos_sX = preprocessing.StandardScaler().fit_transform(bos_X)\n",
    "bos_sX_train, bos_sX_test, bos_sy_train, bos_sy_test = model_selection.train_test_split(bos_sX, bos_y, test_size=0.3, random_state=42)"
   ]
  },
  {
   "cell_type": "code",
   "execution_count": 10,
   "metadata": {},
   "outputs": [
    {
     "name": "stdout",
     "output_type": "stream",
     "text": [
      "0.707643863232741\n",
      "Coefs:\n"
     ]
    },
    {
     "data": {
      "text/html": [
       "<div>\n",
       "<style scoped>\n",
       "    .dataframe tbody tr th:only-of-type {\n",
       "        vertical-align: middle;\n",
       "    }\n",
       "\n",
       "    .dataframe tbody tr th {\n",
       "        vertical-align: top;\n",
       "    }\n",
       "\n",
       "    .dataframe thead th {\n",
       "        text-align: right;\n",
       "    }\n",
       "</style>\n",
       "<table border=\"1\" class=\"dataframe\">\n",
       "  <thead>\n",
       "    <tr style=\"text-align: right;\">\n",
       "      <th></th>\n",
       "      <th>Atributo</th>\n",
       "      <th>Peso</th>\n",
       "    </tr>\n",
       "  </thead>\n",
       "  <tbody>\n",
       "    <tr>\n",
       "      <th>0</th>\n",
       "      <td>CRIM</td>\n",
       "      <td>-1.067488</td>\n",
       "    </tr>\n",
       "    <tr>\n",
       "      <th>1</th>\n",
       "      <td>ZN</td>\n",
       "      <td>0.698338</td>\n",
       "    </tr>\n",
       "    <tr>\n",
       "      <th>2</th>\n",
       "      <td>INDUS</td>\n",
       "      <td>-0.053129</td>\n",
       "    </tr>\n",
       "    <tr>\n",
       "      <th>3</th>\n",
       "      <td>CHAS</td>\n",
       "      <td>0.936162</td>\n",
       "    </tr>\n",
       "    <tr>\n",
       "      <th>4</th>\n",
       "      <td>NOX</td>\n",
       "      <td>-1.606479</td>\n",
       "    </tr>\n",
       "    <tr>\n",
       "      <th>5</th>\n",
       "      <td>RM</td>\n",
       "      <td>3.076974</td>\n",
       "    </tr>\n",
       "    <tr>\n",
       "      <th>6</th>\n",
       "      <td>AGE</td>\n",
       "      <td>-0.668085</td>\n",
       "    </tr>\n",
       "    <tr>\n",
       "      <th>7</th>\n",
       "      <td>DIS</td>\n",
       "      <td>-2.960249</td>\n",
       "    </tr>\n",
       "    <tr>\n",
       "      <th>8</th>\n",
       "      <td>RAD</td>\n",
       "      <td>1.657826</td>\n",
       "    </tr>\n",
       "    <tr>\n",
       "      <th>9</th>\n",
       "      <td>TAX</td>\n",
       "      <td>-1.193402</td>\n",
       "    </tr>\n",
       "    <tr>\n",
       "      <th>10</th>\n",
       "      <td>PTRATIO</td>\n",
       "      <td>-1.925828</td>\n",
       "    </tr>\n",
       "    <tr>\n",
       "      <th>11</th>\n",
       "      <td>B</td>\n",
       "      <td>1.051473</td>\n",
       "    </tr>\n",
       "    <tr>\n",
       "      <th>12</th>\n",
       "      <td>LSTAT</td>\n",
       "      <td>-3.372158</td>\n",
       "    </tr>\n",
       "  </tbody>\n",
       "</table>\n",
       "</div>"
      ],
      "text/plain": [
       "   Atributo      Peso\n",
       "0      CRIM -1.067488\n",
       "1        ZN  0.698338\n",
       "2     INDUS -0.053129\n",
       "3      CHAS  0.936162\n",
       "4       NOX -1.606479\n",
       "5        RM  3.076974\n",
       "6       AGE -0.668085\n",
       "7       DIS -2.960249\n",
       "8       RAD  1.657826\n",
       "9       TAX -1.193402\n",
       "10  PTRATIO -1.925828\n",
       "11        B  1.051473\n",
       "12    LSTAT -3.372158"
      ]
     },
     "metadata": {},
     "output_type": "display_data"
    },
    {
     "name": "stdout",
     "output_type": "stream",
     "text": [
      "Intercept: 22.502241446611375\n"
     ]
    }
   ],
   "source": [
    "from sklearn.linear_model import LinearRegression\n",
    "\n",
    "lr = LinearRegression()\n",
    "lr.fit(bos_sX_train, bos_sy_train)\n",
    "print(lr.score(bos_sX_test, bos_sy_test))\n",
    "\n",
    "coefs = pd.DataFrame(list(zip(bos_X.columns, lr.coef_)), columns=['Atributo', 'Peso'])\n",
    "print(\"Coefs:\")\n",
    "display(coefs)\n",
    "print(f\"Intercept: {lr.intercept_}\")"
   ]
  },
  {
   "attachments": {},
   "cell_type": "markdown",
   "metadata": {},
   "source": [
    "Podemos utilizar o pacote `yellowbrick` para visualizar os coeficientes. Como os dados do conjunto de dados escalados não são um DataFrame pandas, mas um array numpy, é necessário passar o parâmetro *labels* se quisermos usar os nomes das colunas:"
   ]
  },
  {
   "cell_type": "code",
   "execution_count": 4,
   "metadata": {},
   "outputs": [
    {
     "data": {
      "image/png": "[encoded data removed]",
      "text/plain": [
       "<Figure size 600x400 with 1 Axes>"
      ]
     },
     "metadata": {},
     "output_type": "display_data"
    },
    {
     "data": {
      "text/plain": [
       "<Axes: title={'center': 'Feature Importances of 13 Features using LinearRegression'}, xlabel='relative coefficient magnitude'>"
      ]
     },
     "execution_count": 4,
     "metadata": {},
     "output_type": "execute_result"
    }
   ],
   "source": [
    "from yellowbrick.features import FeatureImportances\n",
    "import matplotlib.pyplot as plt\n",
    "\n",
    "fig, ax = plt.subplots(figsize=(6, 4))\n",
    "fi_viz = FeatureImportances(lr, labels=bos_X.columns)\n",
    "fi_viz.fit(bos_sX, bos_y)\n",
    "fi_viz.poof()"
   ]
  },
  {
   "attachments": {},
   "cell_type": "markdown",
   "metadata": {},
   "source": [
    "### **Ver conteúdo do livro de estatística**\n",
    "### **Ver conteúdo do curso de Machine Learning DSA**"
   ]
  }
 ],
 "metadata": {
  "kernelspec": {
   "display_name": "base",
   "language": "python",
   "name": "python3"
  },
  "language_info": {
   "codemirror_mode": {
    "name": "ipython",
    "version": 3
   },
   "file_extension": ".py",
   "mimetype": "text/x-python",
   "name": "python",
   "nbconvert_exporter": "python",
   "pygments_lexer": "ipython3",
   "version": "3.10.9"
  },
  "orig_nbformat": 4
 },
 "nbformat": 4,
 "nbformat_minor": 2
}
