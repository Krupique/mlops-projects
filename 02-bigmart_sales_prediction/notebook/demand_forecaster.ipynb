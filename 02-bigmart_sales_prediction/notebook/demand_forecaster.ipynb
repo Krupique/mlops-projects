{
 "cells": [
  {
   "cell_type": "markdown",
   "metadata": {},
   "source": [
    "# Demand Forecaster"
   ]
  },
  {
   "cell_type": "markdown",
   "metadata": {},
   "source": [
    "## 1) Business problem\n",
    "\n",
    "URL Project: [Sales Prediction for Big Mart Outlets](https://www.kaggle.com/datasets/shivan118/big-mart-sales-prediction-datasets?select=test.csv)\n",
    "\n",
    "The data scientists at BigMart have collected 2013 sales data for 1559 products across 10 stores in different cities. Also, certain attributes of each product and store have been defined. The aim is to build a predictive model and predict the sales of each product at a particular outlet.\n",
    "\n",
    "Using this model, BigMart will try to understand the properties of products and outlets which play a key role in increasing sales.\n",
    "\n",
    "Please note that the data may have missing values as some stores might not report all the data due to technical glitches. Hence, it will be required to treat them accordingly.\n",
    "\n",
    "**Data Dictionary**\n",
    "\n",
    "We have a train (8523) and test (5681) data set, the train data set has both input and output variable(s). You need to predict the sales for the test data set.\n",
    "\n",
    "#### Train file:\n",
    "CSV containing the item outlet information with a sales value\n",
    "\n",
    "**Variable Description**\n",
    "* *Item_Identifier*: Unique product ID\n",
    "* *Item_Weight*: Weight of product\n",
    "* *Item_Fat_Content*: Whether the product is low fat or not\n",
    "* *Item_Visibility*: The % of the total display area of all products in a store allocated to the particular product\n",
    "* *Item_Type*: The category to which the product belongs\n",
    "* *Item_MRP*: Maximum Retail Price (list price) of the product\n",
    "* *Outlet_Identifier*: Unique store ID\n",
    "* *Outlet_Establishment_Year*: The year in which the store was established\n",
    "* *Outlet_Size*: The size of the store in terms of ground area covered\n",
    "* *Outlet_Location_Type*: The type of city in which the store is located\n",
    "* *Outlet_Type*: Whether the outlet is just a grocery store or some sort of supermarket\n",
    "* *Item_Outlet_Sales*: sales of the product in t particular store. This is the outcome variable to be predicted.\n",
    "\n",
    "### Test file:\n",
    "CSV containing item outlet combinations for which sales need to be forecasted\n",
    "\n",
    "**Variable Description**\n",
    "* *Item_Identifier*:  Unique product ID\n",
    "* *Item_Weight*: Weight of product\n",
    "* *Item_Fat_Content*:  Whether the product is low fat or not\n",
    "* *Item_Visibility*: The % of the total display area of all products in a store allocated to the particular product\n",
    "* *Item_Type*: The category to which the product belongs\n",
    "* *Item_MRP*:  Maximum Retail Price (list price) of the product\n",
    "* *Outlet_Identifier*:  Unique store ID\n",
    "* *Outlet_Establishment_Year*:  The year in which store store was established\n",
    "* *Outlet_Size*:  The size of the store in terms of ground area covered\n",
    "* *Outlet_Location_Type*: The type of city in which the store is located\n",
    "* *Outlet_Type*: whether the outlet is just a grocery store or some sort of supermarket\n",
    "\n",
    "### Submission file format\n",
    "**Variable Description**\n",
    "* *Item_Identifier*:  Unique product ID\n",
    "* *Outlet_Identifier*:  Unique store ID\n",
    "* *Item_Outlet_Sales*:  Sales of the product in t particular store. This is the outcome variable to be predicted.\n",
    "\n",
    "**Evaluation Metric**\n",
    "\n",
    "Your model performance will be evaluated on the basis of your prediction of the sales for the test data (test.csv), which contains similar data-points as train except for the sales to be predicted. Your submission needs to be in the format as shown in the same sample submission.\n",
    "\n",
    "We at our end, have the actual sales for the test dataset, against which your predictions will be evaluated. We will use the Root Mean Square Error value to judge your response."
   ]
  },
  {
   "cell_type": "markdown",
   "metadata": {},
   "source": [
    "### 1.1) Imports and Load Data"
   ]
  },
  {
   "cell_type": "code",
   "execution_count": 53,
   "metadata": {},
   "outputs": [],
   "source": [
    "import pandas as pd\n",
    "import numpy as np\n",
    "\n",
    "from scipy.stats import normaltest, zscore\n",
    "from sklearn.preprocessing import LabelEncoder\n",
    "\n",
    "import matplotlib.pyplot as plt\n",
    "import seaborn as sns\n",
    "import plotly.graph_objects as go\n",
    "import missingno\n",
    "\n",
    "from sklearn.metrics import mean_absolute_percentage_error, r2_score\n",
    "\n",
    "import warnings\n",
    "warnings.filterwarnings(\"ignore\")\n",
    "pd.set_option('display.max_columns', None)\n",
    "sns.set_style(\"darkgrid\", {\"axes.facecolor\": \".95\"})\n",
    "sns.set_context(\"paper\")"
   ]
  },
  {
   "cell_type": "code",
   "execution_count": 54,
   "metadata": {},
   "outputs": [],
   "source": [
    "from sklearn.model_selection import train_test_split\n",
    "from sklearn.preprocessing import LabelEncoder"
   ]
  },
  {
   "cell_type": "markdown",
   "metadata": {},
   "source": [
    "### 1.2) Utilities Functions"
   ]
  },
  {
   "cell_type": "code",
   "execution_count": 55,
   "metadata": {},
   "outputs": [],
   "source": [
    "def currencyFormatting(value):\n",
    "    if value / 1000000 > 1:\n",
    "        return f'$ {str(round(value/1000000, 2))}M'\n",
    "    elif value / 100000 > 1:\n",
    "        return f'$ {str(round(value/100000, 2))}KK'\n",
    "    elif value / 1000 > 1:\n",
    "        return f'$ {str(round(value/10000, 2))}k'\n",
    "    else: \n",
    "        return f'$ {str(round(value, 2))}'"
   ]
  },
  {
   "cell_type": "code",
   "execution_count": 56,
   "metadata": {},
   "outputs": [],
   "source": [
    "def resumeNumber(value):\n",
    "    if value / 1000000 > 1:\n",
    "        return f'{str(round(value/1000000, 2))}M'\n",
    "    elif value / 100000 > 1:\n",
    "        return f'{str(round(value/100000, 2))}KK'\n",
    "    elif value / 1000 > 1:\n",
    "        return f'{str(round(value/10000, 2))}k'\n",
    "    else: \n",
    "        return f'{str(round(value, 2))}'"
   ]
  },
  {
   "cell_type": "markdown",
   "metadata": {},
   "source": [
    "## 2) EDA - Exploratory Data Analysis"
   ]
  },
  {
   "cell_type": "code",
   "execution_count": 57,
   "metadata": {},
   "outputs": [],
   "source": [
    "df_train_raw = pd.read_csv('../data/train.csv')\n",
    "df_valid_raw = pd.read_csv('../data/test.csv')"
   ]
  },
  {
   "cell_type": "code",
   "execution_count": 58,
   "metadata": {},
   "outputs": [
    {
     "data": {
      "text/plain": [
       "(8523, 12)"
      ]
     },
     "metadata": {},
     "output_type": "display_data"
    },
    {
     "data": {
      "text/html": [
       "<div>\n",
       "<style scoped>\n",
       "    .dataframe tbody tr th:only-of-type {\n",
       "        vertical-align: middle;\n",
       "    }\n",
       "\n",
       "    .dataframe tbody tr th {\n",
       "        vertical-align: top;\n",
       "    }\n",
       "\n",
       "    .dataframe thead th {\n",
       "        text-align: right;\n",
       "    }\n",
       "</style>\n",
       "<table border=\"1\" class=\"dataframe\">\n",
       "  <thead>\n",
       "    <tr style=\"text-align: right;\">\n",
       "      <th></th>\n",
       "      <th>Item_Identifier</th>\n",
       "      <th>Item_Weight</th>\n",
       "      <th>Item_Fat_Content</th>\n",
       "      <th>Item_Visibility</th>\n",
       "      <th>Item_Type</th>\n",
       "      <th>Item_MRP</th>\n",
       "      <th>Outlet_Identifier</th>\n",
       "      <th>Outlet_Establishment_Year</th>\n",
       "      <th>Outlet_Size</th>\n",
       "      <th>Outlet_Location_Type</th>\n",
       "      <th>Outlet_Type</th>\n",
       "      <th>Item_Outlet_Sales</th>\n",
       "    </tr>\n",
       "  </thead>\n",
       "  <tbody>\n",
       "    <tr>\n",
       "      <th>0</th>\n",
       "      <td>FDA15</td>\n",
       "      <td>9.30</td>\n",
       "      <td>Low Fat</td>\n",
       "      <td>0.016047</td>\n",
       "      <td>Dairy</td>\n",
       "      <td>249.8092</td>\n",
       "      <td>OUT049</td>\n",
       "      <td>1999</td>\n",
       "      <td>Medium</td>\n",
       "      <td>Tier 1</td>\n",
       "      <td>Supermarket Type1</td>\n",
       "      <td>3735.1380</td>\n",
       "    </tr>\n",
       "    <tr>\n",
       "      <th>1</th>\n",
       "      <td>DRC01</td>\n",
       "      <td>5.92</td>\n",
       "      <td>Regular</td>\n",
       "      <td>0.019278</td>\n",
       "      <td>Soft Drinks</td>\n",
       "      <td>48.2692</td>\n",
       "      <td>OUT018</td>\n",
       "      <td>2009</td>\n",
       "      <td>Medium</td>\n",
       "      <td>Tier 3</td>\n",
       "      <td>Supermarket Type2</td>\n",
       "      <td>443.4228</td>\n",
       "    </tr>\n",
       "    <tr>\n",
       "      <th>2</th>\n",
       "      <td>FDN15</td>\n",
       "      <td>17.50</td>\n",
       "      <td>Low Fat</td>\n",
       "      <td>0.016760</td>\n",
       "      <td>Meat</td>\n",
       "      <td>141.6180</td>\n",
       "      <td>OUT049</td>\n",
       "      <td>1999</td>\n",
       "      <td>Medium</td>\n",
       "      <td>Tier 1</td>\n",
       "      <td>Supermarket Type1</td>\n",
       "      <td>2097.2700</td>\n",
       "    </tr>\n",
       "    <tr>\n",
       "      <th>3</th>\n",
       "      <td>FDX07</td>\n",
       "      <td>19.20</td>\n",
       "      <td>Regular</td>\n",
       "      <td>0.000000</td>\n",
       "      <td>Fruits and Vegetables</td>\n",
       "      <td>182.0950</td>\n",
       "      <td>OUT010</td>\n",
       "      <td>1998</td>\n",
       "      <td>NaN</td>\n",
       "      <td>Tier 3</td>\n",
       "      <td>Grocery Store</td>\n",
       "      <td>732.3800</td>\n",
       "    </tr>\n",
       "    <tr>\n",
       "      <th>4</th>\n",
       "      <td>NCD19</td>\n",
       "      <td>8.93</td>\n",
       "      <td>Low Fat</td>\n",
       "      <td>0.000000</td>\n",
       "      <td>Household</td>\n",
       "      <td>53.8614</td>\n",
       "      <td>OUT013</td>\n",
       "      <td>1987</td>\n",
       "      <td>High</td>\n",
       "      <td>Tier 3</td>\n",
       "      <td>Supermarket Type1</td>\n",
       "      <td>994.7052</td>\n",
       "    </tr>\n",
       "  </tbody>\n",
       "</table>\n",
       "</div>"
      ],
      "text/plain": [
       "  Item_Identifier  Item_Weight Item_Fat_Content  Item_Visibility  \\\n",
       "0           FDA15         9.30          Low Fat         0.016047   \n",
       "1           DRC01         5.92          Regular         0.019278   \n",
       "2           FDN15        17.50          Low Fat         0.016760   \n",
       "3           FDX07        19.20          Regular         0.000000   \n",
       "4           NCD19         8.93          Low Fat         0.000000   \n",
       "\n",
       "               Item_Type  Item_MRP Outlet_Identifier  \\\n",
       "0                  Dairy  249.8092            OUT049   \n",
       "1            Soft Drinks   48.2692            OUT018   \n",
       "2                   Meat  141.6180            OUT049   \n",
       "3  Fruits and Vegetables  182.0950            OUT010   \n",
       "4              Household   53.8614            OUT013   \n",
       "\n",
       "   Outlet_Establishment_Year Outlet_Size Outlet_Location_Type  \\\n",
       "0                       1999      Medium               Tier 1   \n",
       "1                       2009      Medium               Tier 3   \n",
       "2                       1999      Medium               Tier 1   \n",
       "3                       1998         NaN               Tier 3   \n",
       "4                       1987        High               Tier 3   \n",
       "\n",
       "         Outlet_Type  Item_Outlet_Sales  \n",
       "0  Supermarket Type1          3735.1380  \n",
       "1  Supermarket Type2           443.4228  \n",
       "2  Supermarket Type1          2097.2700  \n",
       "3      Grocery Store           732.3800  \n",
       "4  Supermarket Type1           994.7052  "
      ]
     },
     "metadata": {},
     "output_type": "display_data"
    }
   ],
   "source": [
    "display(df_train_raw.shape)\n",
    "display(df_train_raw.head())"
   ]
  },
  {
   "cell_type": "code",
   "execution_count": 59,
   "metadata": {},
   "outputs": [
    {
     "data": {
      "text/plain": [
       "(5681, 11)"
      ]
     },
     "metadata": {},
     "output_type": "display_data"
    },
    {
     "data": {
      "text/html": [
       "<div>\n",
       "<style scoped>\n",
       "    .dataframe tbody tr th:only-of-type {\n",
       "        vertical-align: middle;\n",
       "    }\n",
       "\n",
       "    .dataframe tbody tr th {\n",
       "        vertical-align: top;\n",
       "    }\n",
       "\n",
       "    .dataframe thead th {\n",
       "        text-align: right;\n",
       "    }\n",
       "</style>\n",
       "<table border=\"1\" class=\"dataframe\">\n",
       "  <thead>\n",
       "    <tr style=\"text-align: right;\">\n",
       "      <th></th>\n",
       "      <th>Item_Identifier</th>\n",
       "      <th>Item_Weight</th>\n",
       "      <th>Item_Fat_Content</th>\n",
       "      <th>Item_Visibility</th>\n",
       "      <th>Item_Type</th>\n",
       "      <th>Item_MRP</th>\n",
       "      <th>Outlet_Identifier</th>\n",
       "      <th>Outlet_Establishment_Year</th>\n",
       "      <th>Outlet_Size</th>\n",
       "      <th>Outlet_Location_Type</th>\n",
       "      <th>Outlet_Type</th>\n",
       "    </tr>\n",
       "  </thead>\n",
       "  <tbody>\n",
       "    <tr>\n",
       "      <th>0</th>\n",
       "      <td>FDW58</td>\n",
       "      <td>20.750</td>\n",
       "      <td>Low Fat</td>\n",
       "      <td>0.007565</td>\n",
       "      <td>Snack Foods</td>\n",
       "      <td>107.8622</td>\n",
       "      <td>OUT049</td>\n",
       "      <td>1999</td>\n",
       "      <td>Medium</td>\n",
       "      <td>Tier 1</td>\n",
       "      <td>Supermarket Type1</td>\n",
       "    </tr>\n",
       "    <tr>\n",
       "      <th>1</th>\n",
       "      <td>FDW14</td>\n",
       "      <td>8.300</td>\n",
       "      <td>reg</td>\n",
       "      <td>0.038428</td>\n",
       "      <td>Dairy</td>\n",
       "      <td>87.3198</td>\n",
       "      <td>OUT017</td>\n",
       "      <td>2007</td>\n",
       "      <td>NaN</td>\n",
       "      <td>Tier 2</td>\n",
       "      <td>Supermarket Type1</td>\n",
       "    </tr>\n",
       "    <tr>\n",
       "      <th>2</th>\n",
       "      <td>NCN55</td>\n",
       "      <td>14.600</td>\n",
       "      <td>Low Fat</td>\n",
       "      <td>0.099575</td>\n",
       "      <td>Others</td>\n",
       "      <td>241.7538</td>\n",
       "      <td>OUT010</td>\n",
       "      <td>1998</td>\n",
       "      <td>NaN</td>\n",
       "      <td>Tier 3</td>\n",
       "      <td>Grocery Store</td>\n",
       "    </tr>\n",
       "    <tr>\n",
       "      <th>3</th>\n",
       "      <td>FDQ58</td>\n",
       "      <td>7.315</td>\n",
       "      <td>Low Fat</td>\n",
       "      <td>0.015388</td>\n",
       "      <td>Snack Foods</td>\n",
       "      <td>155.0340</td>\n",
       "      <td>OUT017</td>\n",
       "      <td>2007</td>\n",
       "      <td>NaN</td>\n",
       "      <td>Tier 2</td>\n",
       "      <td>Supermarket Type1</td>\n",
       "    </tr>\n",
       "    <tr>\n",
       "      <th>4</th>\n",
       "      <td>FDY38</td>\n",
       "      <td>NaN</td>\n",
       "      <td>Regular</td>\n",
       "      <td>0.118599</td>\n",
       "      <td>Dairy</td>\n",
       "      <td>234.2300</td>\n",
       "      <td>OUT027</td>\n",
       "      <td>1985</td>\n",
       "      <td>Medium</td>\n",
       "      <td>Tier 3</td>\n",
       "      <td>Supermarket Type3</td>\n",
       "    </tr>\n",
       "  </tbody>\n",
       "</table>\n",
       "</div>"
      ],
      "text/plain": [
       "  Item_Identifier  Item_Weight Item_Fat_Content  Item_Visibility    Item_Type  \\\n",
       "0           FDW58       20.750          Low Fat         0.007565  Snack Foods   \n",
       "1           FDW14        8.300              reg         0.038428        Dairy   \n",
       "2           NCN55       14.600          Low Fat         0.099575       Others   \n",
       "3           FDQ58        7.315          Low Fat         0.015388  Snack Foods   \n",
       "4           FDY38          NaN          Regular         0.118599        Dairy   \n",
       "\n",
       "   Item_MRP Outlet_Identifier  Outlet_Establishment_Year Outlet_Size  \\\n",
       "0  107.8622            OUT049                       1999      Medium   \n",
       "1   87.3198            OUT017                       2007         NaN   \n",
       "2  241.7538            OUT010                       1998         NaN   \n",
       "3  155.0340            OUT017                       2007         NaN   \n",
       "4  234.2300            OUT027                       1985      Medium   \n",
       "\n",
       "  Outlet_Location_Type        Outlet_Type  \n",
       "0               Tier 1  Supermarket Type1  \n",
       "1               Tier 2  Supermarket Type1  \n",
       "2               Tier 3      Grocery Store  \n",
       "3               Tier 2  Supermarket Type1  \n",
       "4               Tier 3  Supermarket Type3  "
      ]
     },
     "metadata": {},
     "output_type": "display_data"
    }
   ],
   "source": [
    "display(df_valid_raw.shape)\n",
    "display(df_valid_raw.head())"
   ]
  },
  {
   "cell_type": "code",
   "execution_count": 60,
   "metadata": {},
   "outputs": [
    {
     "data": {
      "text/plain": [
       "Item_Identifier                 0\n",
       "Item_Weight                  1463\n",
       "Item_Fat_Content                0\n",
       "Item_Visibility                 0\n",
       "Item_Type                       0\n",
       "Item_MRP                        0\n",
       "Outlet_Identifier               0\n",
       "Outlet_Establishment_Year       0\n",
       "Outlet_Size                  2410\n",
       "Outlet_Location_Type            0\n",
       "Outlet_Type                     0\n",
       "Item_Outlet_Sales               0\n",
       "dtype: int64"
      ]
     },
     "execution_count": 60,
     "metadata": {},
     "output_type": "execute_result"
    }
   ],
   "source": [
    "df_train_raw.isnull().sum()"
   ]
  },
  {
   "cell_type": "code",
   "execution_count": 61,
   "metadata": {},
   "outputs": [
    {
     "data": {
      "text/plain": [
       "Item_Identifier                 0\n",
       "Item_Weight                   976\n",
       "Item_Fat_Content                0\n",
       "Item_Visibility                 0\n",
       "Item_Type                       0\n",
       "Item_MRP                        0\n",
       "Outlet_Identifier               0\n",
       "Outlet_Establishment_Year       0\n",
       "Outlet_Size                  1606\n",
       "Outlet_Location_Type            0\n",
       "Outlet_Type                     0\n",
       "dtype: int64"
      ]
     },
     "execution_count": 61,
     "metadata": {},
     "output_type": "execute_result"
    }
   ],
   "source": [
    "df_valid_raw.isnull().sum()"
   ]
  },
  {
   "cell_type": "code",
   "execution_count": 62,
   "metadata": {},
   "outputs": [
    {
     "data": {
      "text/plain": [
       "Item_Identifier               object\n",
       "Item_Weight                  float64\n",
       "Item_Fat_Content              object\n",
       "Item_Visibility              float64\n",
       "Item_Type                     object\n",
       "Item_MRP                     float64\n",
       "Outlet_Identifier             object\n",
       "Outlet_Establishment_Year      int64\n",
       "Outlet_Size                   object\n",
       "Outlet_Location_Type          object\n",
       "Outlet_Type                   object\n",
       "Item_Outlet_Sales            float64\n",
       "dtype: object"
      ]
     },
     "execution_count": 62,
     "metadata": {},
     "output_type": "execute_result"
    }
   ],
   "source": [
    "df_train_raw.dtypes"
   ]
  },
  {
   "cell_type": "code",
   "execution_count": 63,
   "metadata": {},
   "outputs": [
    {
     "data": {
      "text/html": [
       "<div>\n",
       "<style scoped>\n",
       "    .dataframe tbody tr th:only-of-type {\n",
       "        vertical-align: middle;\n",
       "    }\n",
       "\n",
       "    .dataframe tbody tr th {\n",
       "        vertical-align: top;\n",
       "    }\n",
       "\n",
       "    .dataframe thead th {\n",
       "        text-align: right;\n",
       "    }\n",
       "</style>\n",
       "<table border=\"1\" class=\"dataframe\">\n",
       "  <thead>\n",
       "    <tr style=\"text-align: right;\">\n",
       "      <th></th>\n",
       "      <th>Item_Weight</th>\n",
       "      <th>Item_Visibility</th>\n",
       "      <th>Item_MRP</th>\n",
       "      <th>Outlet_Establishment_Year</th>\n",
       "      <th>Item_Outlet_Sales</th>\n",
       "    </tr>\n",
       "  </thead>\n",
       "  <tbody>\n",
       "    <tr>\n",
       "      <th>count</th>\n",
       "      <td>7060.000000</td>\n",
       "      <td>8523.000000</td>\n",
       "      <td>8523.000000</td>\n",
       "      <td>8523.000000</td>\n",
       "      <td>8523.000000</td>\n",
       "    </tr>\n",
       "    <tr>\n",
       "      <th>mean</th>\n",
       "      <td>12.857645</td>\n",
       "      <td>0.066132</td>\n",
       "      <td>140.992782</td>\n",
       "      <td>1997.831867</td>\n",
       "      <td>2181.288914</td>\n",
       "    </tr>\n",
       "    <tr>\n",
       "      <th>std</th>\n",
       "      <td>4.643456</td>\n",
       "      <td>0.051598</td>\n",
       "      <td>62.275067</td>\n",
       "      <td>8.371760</td>\n",
       "      <td>1706.499616</td>\n",
       "    </tr>\n",
       "    <tr>\n",
       "      <th>min</th>\n",
       "      <td>4.555000</td>\n",
       "      <td>0.000000</td>\n",
       "      <td>31.290000</td>\n",
       "      <td>1985.000000</td>\n",
       "      <td>33.290000</td>\n",
       "    </tr>\n",
       "    <tr>\n",
       "      <th>25%</th>\n",
       "      <td>8.773750</td>\n",
       "      <td>0.026989</td>\n",
       "      <td>93.826500</td>\n",
       "      <td>1987.000000</td>\n",
       "      <td>834.247400</td>\n",
       "    </tr>\n",
       "    <tr>\n",
       "      <th>50%</th>\n",
       "      <td>12.600000</td>\n",
       "      <td>0.053931</td>\n",
       "      <td>143.012800</td>\n",
       "      <td>1999.000000</td>\n",
       "      <td>1794.331000</td>\n",
       "    </tr>\n",
       "    <tr>\n",
       "      <th>75%</th>\n",
       "      <td>16.850000</td>\n",
       "      <td>0.094585</td>\n",
       "      <td>185.643700</td>\n",
       "      <td>2004.000000</td>\n",
       "      <td>3101.296400</td>\n",
       "    </tr>\n",
       "    <tr>\n",
       "      <th>max</th>\n",
       "      <td>21.350000</td>\n",
       "      <td>0.328391</td>\n",
       "      <td>266.888400</td>\n",
       "      <td>2009.000000</td>\n",
       "      <td>13086.964800</td>\n",
       "    </tr>\n",
       "  </tbody>\n",
       "</table>\n",
       "</div>"
      ],
      "text/plain": [
       "       Item_Weight  Item_Visibility     Item_MRP  Outlet_Establishment_Year  \\\n",
       "count  7060.000000      8523.000000  8523.000000                8523.000000   \n",
       "mean     12.857645         0.066132   140.992782                1997.831867   \n",
       "std       4.643456         0.051598    62.275067                   8.371760   \n",
       "min       4.555000         0.000000    31.290000                1985.000000   \n",
       "25%       8.773750         0.026989    93.826500                1987.000000   \n",
       "50%      12.600000         0.053931   143.012800                1999.000000   \n",
       "75%      16.850000         0.094585   185.643700                2004.000000   \n",
       "max      21.350000         0.328391   266.888400                2009.000000   \n",
       "\n",
       "       Item_Outlet_Sales  \n",
       "count        8523.000000  \n",
       "mean         2181.288914  \n",
       "std          1706.499616  \n",
       "min            33.290000  \n",
       "25%           834.247400  \n",
       "50%          1794.331000  \n",
       "75%          3101.296400  \n",
       "max         13086.964800  "
      ]
     },
     "execution_count": 63,
     "metadata": {},
     "output_type": "execute_result"
    }
   ],
   "source": [
    "df_train_raw.describe()"
   ]
  },
  {
   "cell_type": "markdown",
   "metadata": {},
   "source": [
    "# 3) Divisão dos dados em Treino e Teste"
   ]
  },
  {
   "cell_type": "code",
   "execution_count": 64,
   "metadata": {},
   "outputs": [],
   "source": [
    "features_columns = [\n",
    "    'Item_Identifier', \n",
    "    'Item_Weight', \n",
    "    'Item_Fat_Content', \n",
    "    'Item_Visibility',\n",
    "    'Item_Type', \n",
    "    'Item_MRP', \n",
    "    'Outlet_Identifier',\n",
    "    'Outlet_Establishment_Year', \n",
    "    'Outlet_Size', \n",
    "    'Outlet_Location_Type',\n",
    "    'Outlet_Type'\n",
    "]\n",
    "\n",
    "target_column = ['Item_Outlet_Sales']"
   ]
  },
  {
   "cell_type": "code",
   "execution_count": 65,
   "metadata": {},
   "outputs": [],
   "source": [
    "x_train, x_test, y_train, y_test = train_test_split(df_train_raw[features_columns], df_train_raw[target_column], train_size=0.9)"
   ]
  },
  {
   "cell_type": "code",
   "execution_count": 66,
   "metadata": {},
   "outputs": [],
   "source": [
    "x_train.reset_index(drop=True, inplace=True)\n",
    "x_test.reset_index(drop=True, inplace=True)\n",
    "y_train.reset_index(drop=True, inplace=True)\n",
    "y_test.reset_index(drop=True, inplace=True)"
   ]
  },
  {
   "cell_type": "code",
   "execution_count": 67,
   "metadata": {},
   "outputs": [
    {
     "data": {
      "text/html": [
       "<div>\n",
       "<style scoped>\n",
       "    .dataframe tbody tr th:only-of-type {\n",
       "        vertical-align: middle;\n",
       "    }\n",
       "\n",
       "    .dataframe tbody tr th {\n",
       "        vertical-align: top;\n",
       "    }\n",
       "\n",
       "    .dataframe thead th {\n",
       "        text-align: right;\n",
       "    }\n",
       "</style>\n",
       "<table border=\"1\" class=\"dataframe\">\n",
       "  <thead>\n",
       "    <tr style=\"text-align: right;\">\n",
       "      <th></th>\n",
       "      <th>Item_Identifier</th>\n",
       "      <th>Item_Weight</th>\n",
       "      <th>Item_Fat_Content</th>\n",
       "      <th>Item_Visibility</th>\n",
       "      <th>Item_Type</th>\n",
       "      <th>Item_MRP</th>\n",
       "      <th>Outlet_Identifier</th>\n",
       "      <th>Outlet_Establishment_Year</th>\n",
       "      <th>Outlet_Size</th>\n",
       "      <th>Outlet_Location_Type</th>\n",
       "      <th>Outlet_Type</th>\n",
       "    </tr>\n",
       "  </thead>\n",
       "  <tbody>\n",
       "    <tr>\n",
       "      <th>0</th>\n",
       "      <td>FDQ48</td>\n",
       "      <td>14.30</td>\n",
       "      <td>Regular</td>\n",
       "      <td>0.034606</td>\n",
       "      <td>Baking Goods</td>\n",
       "      <td>95.9726</td>\n",
       "      <td>OUT017</td>\n",
       "      <td>2007</td>\n",
       "      <td>NaN</td>\n",
       "      <td>Tier 2</td>\n",
       "      <td>Supermarket Type1</td>\n",
       "    </tr>\n",
       "    <tr>\n",
       "      <th>1</th>\n",
       "      <td>FDQ12</td>\n",
       "      <td>12.65</td>\n",
       "      <td>LF</td>\n",
       "      <td>0.035411</td>\n",
       "      <td>Baking Goods</td>\n",
       "      <td>231.4010</td>\n",
       "      <td>OUT046</td>\n",
       "      <td>1997</td>\n",
       "      <td>Small</td>\n",
       "      <td>Tier 1</td>\n",
       "      <td>Supermarket Type1</td>\n",
       "    </tr>\n",
       "    <tr>\n",
       "      <th>2</th>\n",
       "      <td>FDK41</td>\n",
       "      <td>NaN</td>\n",
       "      <td>LF</td>\n",
       "      <td>0.126924</td>\n",
       "      <td>Frozen Foods</td>\n",
       "      <td>87.2224</td>\n",
       "      <td>OUT027</td>\n",
       "      <td>1985</td>\n",
       "      <td>Medium</td>\n",
       "      <td>Tier 3</td>\n",
       "      <td>Supermarket Type3</td>\n",
       "    </tr>\n",
       "  </tbody>\n",
       "</table>\n",
       "</div>"
      ],
      "text/plain": [
       "  Item_Identifier  Item_Weight Item_Fat_Content  Item_Visibility  \\\n",
       "0           FDQ48        14.30          Regular         0.034606   \n",
       "1           FDQ12        12.65               LF         0.035411   \n",
       "2           FDK41          NaN               LF         0.126924   \n",
       "\n",
       "      Item_Type  Item_MRP Outlet_Identifier  Outlet_Establishment_Year  \\\n",
       "0  Baking Goods   95.9726            OUT017                       2007   \n",
       "1  Baking Goods  231.4010            OUT046                       1997   \n",
       "2  Frozen Foods   87.2224            OUT027                       1985   \n",
       "\n",
       "  Outlet_Size Outlet_Location_Type        Outlet_Type  \n",
       "0         NaN               Tier 2  Supermarket Type1  \n",
       "1       Small               Tier 1  Supermarket Type1  \n",
       "2      Medium               Tier 3  Supermarket Type3  "
      ]
     },
     "metadata": {},
     "output_type": "display_data"
    },
    {
     "data": {
      "text/html": [
       "<div>\n",
       "<style scoped>\n",
       "    .dataframe tbody tr th:only-of-type {\n",
       "        vertical-align: middle;\n",
       "    }\n",
       "\n",
       "    .dataframe tbody tr th {\n",
       "        vertical-align: top;\n",
       "    }\n",
       "\n",
       "    .dataframe thead th {\n",
       "        text-align: right;\n",
       "    }\n",
       "</style>\n",
       "<table border=\"1\" class=\"dataframe\">\n",
       "  <thead>\n",
       "    <tr style=\"text-align: right;\">\n",
       "      <th></th>\n",
       "      <th>Item_Identifier</th>\n",
       "      <th>Item_Weight</th>\n",
       "      <th>Item_Fat_Content</th>\n",
       "      <th>Item_Visibility</th>\n",
       "      <th>Item_Type</th>\n",
       "      <th>Item_MRP</th>\n",
       "      <th>Outlet_Identifier</th>\n",
       "      <th>Outlet_Establishment_Year</th>\n",
       "      <th>Outlet_Size</th>\n",
       "      <th>Outlet_Location_Type</th>\n",
       "      <th>Outlet_Type</th>\n",
       "    </tr>\n",
       "  </thead>\n",
       "  <tbody>\n",
       "    <tr>\n",
       "      <th>0</th>\n",
       "      <td>FDB15</td>\n",
       "      <td>10.895</td>\n",
       "      <td>Low Fat</td>\n",
       "      <td>0.228993</td>\n",
       "      <td>Dairy</td>\n",
       "      <td>263.4568</td>\n",
       "      <td>OUT010</td>\n",
       "      <td>1998</td>\n",
       "      <td>NaN</td>\n",
       "      <td>Tier 3</td>\n",
       "      <td>Grocery Store</td>\n",
       "    </tr>\n",
       "    <tr>\n",
       "      <th>1</th>\n",
       "      <td>NCW18</td>\n",
       "      <td>15.100</td>\n",
       "      <td>Low Fat</td>\n",
       "      <td>0.059417</td>\n",
       "      <td>Household</td>\n",
       "      <td>237.9248</td>\n",
       "      <td>OUT049</td>\n",
       "      <td>1999</td>\n",
       "      <td>Medium</td>\n",
       "      <td>Tier 1</td>\n",
       "      <td>Supermarket Type1</td>\n",
       "    </tr>\n",
       "    <tr>\n",
       "      <th>2</th>\n",
       "      <td>NCR29</td>\n",
       "      <td>7.565</td>\n",
       "      <td>Low Fat</td>\n",
       "      <td>0.054752</td>\n",
       "      <td>Health and Hygiene</td>\n",
       "      <td>54.7930</td>\n",
       "      <td>OUT045</td>\n",
       "      <td>2002</td>\n",
       "      <td>NaN</td>\n",
       "      <td>Tier 2</td>\n",
       "      <td>Supermarket Type1</td>\n",
       "    </tr>\n",
       "  </tbody>\n",
       "</table>\n",
       "</div>"
      ],
      "text/plain": [
       "  Item_Identifier  Item_Weight Item_Fat_Content  Item_Visibility  \\\n",
       "0           FDB15       10.895          Low Fat         0.228993   \n",
       "1           NCW18       15.100          Low Fat         0.059417   \n",
       "2           NCR29        7.565          Low Fat         0.054752   \n",
       "\n",
       "            Item_Type  Item_MRP Outlet_Identifier  Outlet_Establishment_Year  \\\n",
       "0               Dairy  263.4568            OUT010                       1998   \n",
       "1           Household  237.9248            OUT049                       1999   \n",
       "2  Health and Hygiene   54.7930            OUT045                       2002   \n",
       "\n",
       "  Outlet_Size Outlet_Location_Type        Outlet_Type  \n",
       "0         NaN               Tier 3      Grocery Store  \n",
       "1      Medium               Tier 1  Supermarket Type1  \n",
       "2         NaN               Tier 2  Supermarket Type1  "
      ]
     },
     "metadata": {},
     "output_type": "display_data"
    }
   ],
   "source": [
    "display(x_train.head(3))\n",
    "display(x_test.head(3))"
   ]
  },
  {
   "cell_type": "code",
   "execution_count": 68,
   "metadata": {},
   "outputs": [
    {
     "data": {
      "text/html": [
       "<div>\n",
       "<style scoped>\n",
       "    .dataframe tbody tr th:only-of-type {\n",
       "        vertical-align: middle;\n",
       "    }\n",
       "\n",
       "    .dataframe tbody tr th {\n",
       "        vertical-align: top;\n",
       "    }\n",
       "\n",
       "    .dataframe thead th {\n",
       "        text-align: right;\n",
       "    }\n",
       "</style>\n",
       "<table border=\"1\" class=\"dataframe\">\n",
       "  <thead>\n",
       "    <tr style=\"text-align: right;\">\n",
       "      <th></th>\n",
       "      <th>Item_Outlet_Sales</th>\n",
       "    </tr>\n",
       "  </thead>\n",
       "  <tbody>\n",
       "    <tr>\n",
       "      <th>0</th>\n",
       "      <td>2153.1972</td>\n",
       "    </tr>\n",
       "    <tr>\n",
       "      <th>1</th>\n",
       "      <td>2067.3090</td>\n",
       "    </tr>\n",
       "    <tr>\n",
       "      <th>2</th>\n",
       "      <td>3494.1184</td>\n",
       "    </tr>\n",
       "  </tbody>\n",
       "</table>\n",
       "</div>"
      ],
      "text/plain": [
       "   Item_Outlet_Sales\n",
       "0          2153.1972\n",
       "1          2067.3090\n",
       "2          3494.1184"
      ]
     },
     "metadata": {},
     "output_type": "display_data"
    },
    {
     "data": {
      "text/html": [
       "<div>\n",
       "<style scoped>\n",
       "    .dataframe tbody tr th:only-of-type {\n",
       "        vertical-align: middle;\n",
       "    }\n",
       "\n",
       "    .dataframe tbody tr th {\n",
       "        vertical-align: top;\n",
       "    }\n",
       "\n",
       "    .dataframe thead th {\n",
       "        text-align: right;\n",
       "    }\n",
       "</style>\n",
       "<table border=\"1\" class=\"dataframe\">\n",
       "  <thead>\n",
       "    <tr style=\"text-align: right;\">\n",
       "      <th></th>\n",
       "      <th>Item_Outlet_Sales</th>\n",
       "    </tr>\n",
       "  </thead>\n",
       "  <tbody>\n",
       "    <tr>\n",
       "      <th>0</th>\n",
       "      <td>527.3136</td>\n",
       "    </tr>\n",
       "    <tr>\n",
       "      <th>1</th>\n",
       "      <td>2133.2232</td>\n",
       "    </tr>\n",
       "    <tr>\n",
       "      <th>2</th>\n",
       "      <td>622.5230</td>\n",
       "    </tr>\n",
       "  </tbody>\n",
       "</table>\n",
       "</div>"
      ],
      "text/plain": [
       "   Item_Outlet_Sales\n",
       "0           527.3136\n",
       "1          2133.2232\n",
       "2           622.5230"
      ]
     },
     "metadata": {},
     "output_type": "display_data"
    }
   ],
   "source": [
    "display(y_train.head(3))\n",
    "display(y_test.head(3))"
   ]
  },
  {
   "cell_type": "markdown",
   "metadata": {},
   "source": [
    "# 4) Lidando com dados outliers"
   ]
  },
  {
   "cell_type": "markdown",
   "metadata": {},
   "source": [
    "**Item_Identifier**"
   ]
  },
  {
   "cell_type": "code",
   "execution_count": 69,
   "metadata": {},
   "outputs": [
    {
     "data": {
      "text/plain": [
       "Item_Identifier\n",
       "FDQ40    9\n",
       "FDO19    9\n",
       "FDU12    9\n",
       "FDW26    9\n",
       "NCB18    9\n",
       "        ..\n",
       "FDC23    1\n",
       "FDM16    1\n",
       "FDE39    1\n",
       "FDO33    1\n",
       "FDN52    1\n",
       "Name: count, Length: 1558, dtype: int64"
      ]
     },
     "execution_count": 69,
     "metadata": {},
     "output_type": "execute_result"
    }
   ],
   "source": [
    "x_train['Item_Identifier'].value_counts()"
   ]
  },
  {
   "cell_type": "markdown",
   "metadata": {},
   "source": [
    "Essa variável não tem muito o que fazer, embora itens que aparecem apenas uma vez podem ser uma pedra no sapato."
   ]
  },
  {
   "cell_type": "markdown",
   "metadata": {},
   "source": [
    "**Item_Weight**"
   ]
  },
  {
   "cell_type": "code",
   "execution_count": 70,
   "metadata": {},
   "outputs": [
    {
     "data": {
      "text/plain": [
       "<Axes: xlabel='Item_Weight'>"
      ]
     },
     "execution_count": 70,
     "metadata": {},
     "output_type": "execute_result"
    },
    {
     "data": {
      "image/png": "[encoded data removed]",
      "text/plain": [
       "<Figure size 640x480 with 1 Axes>"
      ]
     },
     "metadata": {},
     "output_type": "display_data"
    }
   ],
   "source": [
    "sns.boxplot(x=x_train['Item_Weight'])"
   ]
  },
  {
   "cell_type": "markdown",
   "metadata": {},
   "source": [
    "**Item_Visibility**"
   ]
  },
  {
   "cell_type": "code",
   "execution_count": 71,
   "metadata": {},
   "outputs": [
    {
     "data": {
      "text/plain": [
       "<Axes: xlabel='Item_Visibility'>"
      ]
     },
     "execution_count": 71,
     "metadata": {},
     "output_type": "execute_result"
    },
    {
     "data": {
      "image/png": "[encoded data removed]",
      "text/plain": [
       "<Figure size 640x480 with 1 Axes>"
      ]
     },
     "metadata": {},
     "output_type": "display_data"
    }
   ],
   "source": [
    "sns.boxplot(x=x_train['Item_Visibility'])"
   ]
  },
  {
   "cell_type": "markdown",
   "metadata": {},
   "source": [
    "Esse atributo possui vários outliers. Mas como foi analisado no projeto de análise de dados, não necessariamente os outliers significam erros. Aqui são itens que possuem alta visibilidade nas prateleiras das lojas."
   ]
  },
  {
   "cell_type": "markdown",
   "metadata": {},
   "source": [
    "**Item_MRP**"
   ]
  },
  {
   "cell_type": "code",
   "execution_count": 72,
   "metadata": {},
   "outputs": [
    {
     "data": {
      "text/plain": [
       "<Axes: xlabel='Item_MRP'>"
      ]
     },
     "execution_count": 72,
     "metadata": {},
     "output_type": "execute_result"
    },
    {
     "data": {
      "image/png": "[encoded data removed]",
      "text/plain": [
       "<Figure size 640x480 with 1 Axes>"
      ]
     },
     "metadata": {},
     "output_type": "display_data"
    }
   ],
   "source": [
    "sns.boxplot(x=x_train['Item_MRP'])"
   ]
  },
  {
   "cell_type": "markdown",
   "metadata": {},
   "source": [
    "**Item_Fat_Content**"
   ]
  },
  {
   "cell_type": "code",
   "execution_count": 73,
   "metadata": {},
   "outputs": [
    {
     "data": {
      "text/plain": [
       "Item_Fat_Content\n",
       "Low Fat    4583\n",
       "Regular    2606\n",
       "LF          276\n",
       "low fat     105\n",
       "reg         100\n",
       "Name: count, dtype: int64"
      ]
     },
     "execution_count": 73,
     "metadata": {},
     "output_type": "execute_result"
    }
   ],
   "source": [
    "x_train['Item_Fat_Content'].value_counts()"
   ]
  },
  {
   "cell_type": "markdown",
   "metadata": {},
   "source": [
    "Temos que lidar com esses itens aqui."
   ]
  },
  {
   "cell_type": "markdown",
   "metadata": {},
   "source": [
    "**Item_Type**"
   ]
  },
  {
   "cell_type": "code",
   "execution_count": 74,
   "metadata": {},
   "outputs": [
    {
     "data": {
      "text/plain": [
       "Item_Type\n",
       "Fruits and Vegetables    1118\n",
       "Snack Foods              1084\n",
       "Household                 813\n",
       "Frozen Foods              767\n",
       "Dairy                     618\n",
       "Canned                    584\n",
       "Baking Goods              582\n",
       "Health and Hygiene        472\n",
       "Soft Drinks               396\n",
       "Meat                      376\n",
       "Breads                    230\n",
       "Hard Drinks               190\n",
       "Others                    152\n",
       "Starchy Foods             132\n",
       "Breakfast                  95\n",
       "Seafood                    61\n",
       "Name: count, dtype: int64"
      ]
     },
     "execution_count": 74,
     "metadata": {},
     "output_type": "execute_result"
    }
   ],
   "source": [
    "x_train['Item_Type'].value_counts()"
   ]
  },
  {
   "cell_type": "markdown",
   "metadata": {},
   "source": [
    "Pode-se dizer que está desbalanceado, mas a quantidade de registros pode ser suficiente para o modelo conseguir aprender."
   ]
  },
  {
   "cell_type": "markdown",
   "metadata": {},
   "source": [
    "**Outlet_Identifier**"
   ]
  },
  {
   "cell_type": "code",
   "execution_count": 75,
   "metadata": {},
   "outputs": [
    {
     "data": {
      "text/plain": [
       "Outlet_Identifier\n",
       "OUT027    843\n",
       "OUT018    843\n",
       "OUT035    842\n",
       "OUT049    840\n",
       "OUT046    838\n",
       "OUT017    835\n",
       "OUT013    834\n",
       "OUT045    826\n",
       "OUT010    489\n",
       "OUT019    480\n",
       "Name: count, dtype: int64"
      ]
     },
     "execution_count": 75,
     "metadata": {},
     "output_type": "execute_result"
    }
   ],
   "source": [
    "x_train['Outlet_Identifier'].value_counts()"
   ]
  },
  {
   "cell_type": "markdown",
   "metadata": {},
   "source": [
    "Está ok."
   ]
  },
  {
   "cell_type": "markdown",
   "metadata": {},
   "source": [
    "**Outlet_Establishment_Year**"
   ]
  },
  {
   "cell_type": "code",
   "execution_count": 76,
   "metadata": {},
   "outputs": [
    {
     "data": {
      "text/plain": [
       "Outlet_Establishment_Year\n",
       "1985    1323\n",
       "2009     843\n",
       "2004     842\n",
       "1999     840\n",
       "1997     838\n",
       "2007     835\n",
       "1987     834\n",
       "2002     826\n",
       "1998     489\n",
       "Name: count, dtype: int64"
      ]
     },
     "execution_count": 76,
     "metadata": {},
     "output_type": "execute_result"
    }
   ],
   "source": [
    "x_train['Outlet_Establishment_Year'].value_counts()"
   ]
  },
  {
   "cell_type": "markdown",
   "metadata": {},
   "source": [
    "Está ok, embora eu acredite que essa variável seja irrelevante para o modelo."
   ]
  },
  {
   "cell_type": "markdown",
   "metadata": {},
   "source": [
    "**Outlet_Size**"
   ]
  },
  {
   "cell_type": "code",
   "execution_count": 77,
   "metadata": {},
   "outputs": [
    {
     "data": {
      "text/plain": [
       "Outlet_Size\n",
       "Medium    2526\n",
       "Small     2160\n",
       "High       834\n",
       "Name: count, dtype: int64"
      ]
     },
     "execution_count": 77,
     "metadata": {},
     "output_type": "execute_result"
    }
   ],
   "source": [
    "x_train['Outlet_Size'].value_counts()"
   ]
  },
  {
   "cell_type": "markdown",
   "metadata": {},
   "source": [
    "Está ok."
   ]
  },
  {
   "cell_type": "markdown",
   "metadata": {},
   "source": [
    "**Outlet_Location_Type**"
   ]
  },
  {
   "cell_type": "code",
   "execution_count": 78,
   "metadata": {},
   "outputs": [
    {
     "data": {
      "text/plain": [
       "Outlet_Location_Type\n",
       "Tier 3    3009\n",
       "Tier 2    2503\n",
       "Tier 1    2158\n",
       "Name: count, dtype: int64"
      ]
     },
     "execution_count": 78,
     "metadata": {},
     "output_type": "execute_result"
    }
   ],
   "source": [
    "x_train['Outlet_Location_Type'].value_counts()"
   ]
  },
  {
   "cell_type": "markdown",
   "metadata": {},
   "source": [
    "Está ok."
   ]
  },
  {
   "cell_type": "markdown",
   "metadata": {},
   "source": [
    "**Outlet_Type**"
   ]
  },
  {
   "cell_type": "code",
   "execution_count": 79,
   "metadata": {},
   "outputs": [
    {
     "data": {
      "text/plain": [
       "Outlet_Type\n",
       "Supermarket Type1    5015\n",
       "Grocery Store         969\n",
       "Supermarket Type3     843\n",
       "Supermarket Type2     843\n",
       "Name: count, dtype: int64"
      ]
     },
     "execution_count": 79,
     "metadata": {},
     "output_type": "execute_result"
    }
   ],
   "source": [
    "x_train['Outlet_Type'].value_counts()"
   ]
  },
  {
   "cell_type": "markdown",
   "metadata": {},
   "source": [
    "Está ok."
   ]
  },
  {
   "cell_type": "markdown",
   "metadata": {},
   "source": [
    "# 5) Tratamento de valores ausentes"
   ]
  },
  {
   "cell_type": "code",
   "execution_count": 80,
   "metadata": {},
   "outputs": [
    {
     "data": {
      "text/plain": [
       "(7670, 11)"
      ]
     },
     "metadata": {},
     "output_type": "display_data"
    },
    {
     "data": {
      "text/plain": [
       "Item_Identifier                 0\n",
       "Item_Weight                  1323\n",
       "Item_Fat_Content                0\n",
       "Item_Visibility                 0\n",
       "Item_Type                       0\n",
       "Item_MRP                        0\n",
       "Outlet_Identifier               0\n",
       "Outlet_Establishment_Year       0\n",
       "Outlet_Size                  2150\n",
       "Outlet_Location_Type            0\n",
       "Outlet_Type                     0\n",
       "dtype: int64"
      ]
     },
     "execution_count": 80,
     "metadata": {},
     "output_type": "execute_result"
    }
   ],
   "source": [
    "display(x_train.shape)\n",
    "x_train.isnull().sum()"
   ]
  },
  {
   "cell_type": "markdown",
   "metadata": {},
   "source": [
    "**Item Weight**"
   ]
  },
  {
   "cell_type": "code",
   "execution_count": 81,
   "metadata": {},
   "outputs": [],
   "source": [
    "x_train['Item_Weight'].fillna(x_train.groupby('Item_Type')['Item_Weight'].transform('mean'), inplace=True)\n",
    "x_test['Item_Weight'].fillna(x_test.groupby('Item_Type')['Item_Weight'].transform('mean'), inplace=True)"
   ]
  },
  {
   "cell_type": "markdown",
   "metadata": {},
   "source": [
    "Eu decidi utilizar o valor médio do Item weight agrupado por Item Type porque:\n",
    "1. O atributo está bem distribuído, então não há diferença em usar a média ou a mediana (Talvez haja para departamentos).\n",
    "2. O Item_Type é o atributo que possui maior correlação com o Item_Weight"
   ]
  },
  {
   "cell_type": "markdown",
   "metadata": {},
   "source": [
    "**Outlet Size**"
   ]
  },
  {
   "cell_type": "code",
   "execution_count": 82,
   "metadata": {},
   "outputs": [],
   "source": [
    "x_train['Outlet_Size'].fillna('-1', inplace=True)\n",
    "x_test['Outlet_Size'].fillna('-1', inplace=True)"
   ]
  },
  {
   "cell_type": "code",
   "execution_count": 83,
   "metadata": {},
   "outputs": [
    {
     "data": {
      "text/plain": [
       "<Axes: >"
      ]
     },
     "execution_count": 83,
     "metadata": {},
     "output_type": "execute_result"
    },
    {
     "data": {
      "image/png": "[encoded data removed]",
      "text/plain": [
       "<Figure size 1200x800 with 2 Axes>"
      ]
     },
     "metadata": {},
     "output_type": "display_data"
    }
   ],
   "source": [
    "df_corr = x_train.copy()\n",
    "\n",
    "le = LabelEncoder()\n",
    "df_corr['Item_Identifier'] = le.fit_transform(df_corr['Item_Identifier'])\n",
    "df_corr['Item_Fat_Content'] = le.fit_transform(df_corr['Item_Fat_Content'])\n",
    "df_corr['Item_Type'] = le.fit_transform(df_corr['Item_Type'])\n",
    "df_corr['Outlet_Identifier'] = le.fit_transform(df_corr['Outlet_Identifier'])\n",
    "df_corr['Outlet_Size'] = le.fit_transform(df_corr['Outlet_Size'])\n",
    "df_corr['Outlet_Location_Type'] = le.fit_transform(df_corr['Outlet_Location_Type'])\n",
    "df_corr['Outlet_Type'] = le.fit_transform(df_corr['Outlet_Type'])\n",
    "\n",
    "plt.figure(figsize=(12, 8))\n",
    "sns.heatmap(df_corr.corr(), annot=True, cmap='coolwarm')"
   ]
  },
  {
   "cell_type": "code",
   "execution_count": 84,
   "metadata": {},
   "outputs": [
    {
     "data": {
      "text/html": [
       "<div>\n",
       "<style scoped>\n",
       "    .dataframe tbody tr th:only-of-type {\n",
       "        vertical-align: middle;\n",
       "    }\n",
       "\n",
       "    .dataframe tbody tr th {\n",
       "        vertical-align: top;\n",
       "    }\n",
       "\n",
       "    .dataframe thead th {\n",
       "        text-align: right;\n",
       "    }\n",
       "</style>\n",
       "<table border=\"1\" class=\"dataframe\">\n",
       "  <thead>\n",
       "    <tr style=\"text-align: right;\">\n",
       "      <th></th>\n",
       "      <th>Outlet_Size</th>\n",
       "      <th>Outlet_Location_Type</th>\n",
       "      <th>Outlet_Type</th>\n",
       "      <th>Item_Identifier</th>\n",
       "    </tr>\n",
       "  </thead>\n",
       "  <tbody>\n",
       "    <tr>\n",
       "      <th>0</th>\n",
       "      <td>-1</td>\n",
       "      <td>Tier 2</td>\n",
       "      <td>Supermarket Type1</td>\n",
       "      <td>1661</td>\n",
       "    </tr>\n",
       "    <tr>\n",
       "      <th>1</th>\n",
       "      <td>-1</td>\n",
       "      <td>Tier 3</td>\n",
       "      <td>Grocery Store</td>\n",
       "      <td>489</td>\n",
       "    </tr>\n",
       "    <tr>\n",
       "      <th>2</th>\n",
       "      <td>High</td>\n",
       "      <td>Tier 3</td>\n",
       "      <td>Supermarket Type1</td>\n",
       "      <td>834</td>\n",
       "    </tr>\n",
       "    <tr>\n",
       "      <th>3</th>\n",
       "      <td>Medium</td>\n",
       "      <td>Tier 1</td>\n",
       "      <td>Supermarket Type1</td>\n",
       "      <td>840</td>\n",
       "    </tr>\n",
       "    <tr>\n",
       "      <th>4</th>\n",
       "      <td>Medium</td>\n",
       "      <td>Tier 3</td>\n",
       "      <td>Supermarket Type2</td>\n",
       "      <td>843</td>\n",
       "    </tr>\n",
       "    <tr>\n",
       "      <th>5</th>\n",
       "      <td>Medium</td>\n",
       "      <td>Tier 3</td>\n",
       "      <td>Supermarket Type3</td>\n",
       "      <td>843</td>\n",
       "    </tr>\n",
       "    <tr>\n",
       "      <th>6</th>\n",
       "      <td>Small</td>\n",
       "      <td>Tier 1</td>\n",
       "      <td>Grocery Store</td>\n",
       "      <td>480</td>\n",
       "    </tr>\n",
       "    <tr>\n",
       "      <th>7</th>\n",
       "      <td>Small</td>\n",
       "      <td>Tier 1</td>\n",
       "      <td>Supermarket Type1</td>\n",
       "      <td>838</td>\n",
       "    </tr>\n",
       "    <tr>\n",
       "      <th>8</th>\n",
       "      <td>Small</td>\n",
       "      <td>Tier 2</td>\n",
       "      <td>Supermarket Type1</td>\n",
       "      <td>842</td>\n",
       "    </tr>\n",
       "  </tbody>\n",
       "</table>\n",
       "</div>"
      ],
      "text/plain": [
       "  Outlet_Size Outlet_Location_Type        Outlet_Type  Item_Identifier\n",
       "0          -1               Tier 2  Supermarket Type1             1661\n",
       "1          -1               Tier 3      Grocery Store              489\n",
       "2        High               Tier 3  Supermarket Type1              834\n",
       "3      Medium               Tier 1  Supermarket Type1              840\n",
       "4      Medium               Tier 3  Supermarket Type2              843\n",
       "5      Medium               Tier 3  Supermarket Type3              843\n",
       "6       Small               Tier 1      Grocery Store              480\n",
       "7       Small               Tier 1  Supermarket Type1              838\n",
       "8       Small               Tier 2  Supermarket Type1              842"
      ]
     },
     "execution_count": 84,
     "metadata": {},
     "output_type": "execute_result"
    }
   ],
   "source": [
    "x_train.groupby(['Outlet_Size', 'Outlet_Location_Type', 'Outlet_Type'], as_index=False)['Item_Identifier'].count()"
   ]
  },
  {
   "cell_type": "code",
   "execution_count": 85,
   "metadata": {},
   "outputs": [
    {
     "data": {
      "text/html": [
       "<div>\n",
       "<style scoped>\n",
       "    .dataframe tbody tr th:only-of-type {\n",
       "        vertical-align: middle;\n",
       "    }\n",
       "\n",
       "    .dataframe tbody tr th {\n",
       "        vertical-align: top;\n",
       "    }\n",
       "\n",
       "    .dataframe thead th {\n",
       "        text-align: right;\n",
       "    }\n",
       "</style>\n",
       "<table border=\"1\" class=\"dataframe\">\n",
       "  <thead>\n",
       "    <tr style=\"text-align: right;\">\n",
       "      <th></th>\n",
       "      <th>Outlet_Size</th>\n",
       "      <th>Outlet_Location_Type</th>\n",
       "      <th>Item_Identifier</th>\n",
       "    </tr>\n",
       "  </thead>\n",
       "  <tbody>\n",
       "    <tr>\n",
       "      <th>0</th>\n",
       "      <td>-1</td>\n",
       "      <td>Tier 2</td>\n",
       "      <td>194</td>\n",
       "    </tr>\n",
       "    <tr>\n",
       "      <th>1</th>\n",
       "      <td>-1</td>\n",
       "      <td>Tier 3</td>\n",
       "      <td>66</td>\n",
       "    </tr>\n",
       "    <tr>\n",
       "      <th>2</th>\n",
       "      <td>High</td>\n",
       "      <td>Tier 3</td>\n",
       "      <td>98</td>\n",
       "    </tr>\n",
       "    <tr>\n",
       "      <th>3</th>\n",
       "      <td>Medium</td>\n",
       "      <td>Tier 1</td>\n",
       "      <td>90</td>\n",
       "    </tr>\n",
       "    <tr>\n",
       "      <th>4</th>\n",
       "      <td>Medium</td>\n",
       "      <td>Tier 3</td>\n",
       "      <td>177</td>\n",
       "    </tr>\n",
       "    <tr>\n",
       "      <th>5</th>\n",
       "      <td>Small</td>\n",
       "      <td>Tier 1</td>\n",
       "      <td>140</td>\n",
       "    </tr>\n",
       "    <tr>\n",
       "      <th>6</th>\n",
       "      <td>Small</td>\n",
       "      <td>Tier 2</td>\n",
       "      <td>88</td>\n",
       "    </tr>\n",
       "  </tbody>\n",
       "</table>\n",
       "</div>"
      ],
      "text/plain": [
       "  Outlet_Size Outlet_Location_Type  Item_Identifier\n",
       "0          -1               Tier 2              194\n",
       "1          -1               Tier 3               66\n",
       "2        High               Tier 3               98\n",
       "3      Medium               Tier 1               90\n",
       "4      Medium               Tier 3              177\n",
       "5       Small               Tier 1              140\n",
       "6       Small               Tier 2               88"
      ]
     },
     "execution_count": 85,
     "metadata": {},
     "output_type": "execute_result"
    }
   ],
   "source": [
    "x_test.groupby(['Outlet_Size', 'Outlet_Location_Type'], as_index=False)['Item_Identifier'].count()"
   ]
  },
  {
   "cell_type": "code",
   "execution_count": 86,
   "metadata": {},
   "outputs": [],
   "source": [
    "def fillna_outlet_size(row):\n",
    "    if row.Outlet_Size == '-1':\n",
    "        if row.Outlet_Location_Type == 'Tier 2':\n",
    "            return 'Small'\n",
    "        elif row.Outlet_Location_Type == 'Tier 3':\n",
    "            return 'Medium' # Mas eu posso remover talvez.\n",
    "    else: \n",
    "        return row.Outlet_Size \n"
   ]
  },
  {
   "cell_type": "code",
   "execution_count": 87,
   "metadata": {},
   "outputs": [],
   "source": [
    "x_train['Outlet_Size'] = x_train.apply(lambda row: fillna_outlet_size(row), axis=1)\n",
    "x_test['Outlet_Size'] = x_test.apply(lambda row: fillna_outlet_size(row), axis=1)"
   ]
  },
  {
   "cell_type": "markdown",
   "metadata": {},
   "source": [
    "Justificativa:\n",
    "* Onde eu preenchi os valores ausentes como `Small`, foram em lojas cujo Location Type eram Tier 2, porque em todas as lojas Tier 2 eram Small;\n",
    "* Onde eu preenchi os valores ausentes como `Medium`, foi igual ao valor majoritário do atributo Outlet Size cujo os Location Type eram iguais a `Tier 3`. Pode ser que essa relação não faça muito sentido e que eu tenha que mudar futuramente."
   ]
  },
  {
   "cell_type": "markdown",
   "metadata": {},
   "source": [
    "**Item_Fat_Content**"
   ]
  },
  {
   "cell_type": "code",
   "execution_count": 88,
   "metadata": {},
   "outputs": [
    {
     "data": {
      "text/plain": [
       "Item_Fat_Content\n",
       "Low Fat    4583\n",
       "Regular    2606\n",
       "LF          276\n",
       "low fat     105\n",
       "reg         100\n",
       "Name: count, dtype: int64"
      ]
     },
     "execution_count": 88,
     "metadata": {},
     "output_type": "execute_result"
    }
   ],
   "source": [
    "x_train['Item_Fat_Content'].value_counts()"
   ]
  },
  {
   "cell_type": "code",
   "execution_count": 89,
   "metadata": {},
   "outputs": [],
   "source": [
    "map_fat_content = {\n",
    "    'Low Fat': 'Low Fat',\n",
    "    'Regular': 'Regular',\n",
    "    'LF': 'Low Fat',\n",
    "    'reg': 'Regular',\n",
    "    'low fat': 'Low Fat'\n",
    "}\n",
    "\n",
    "x_train['Item_Fat_Content'] = x_train['Item_Fat_Content'].map(map_fat_content)\n",
    "x_test['Item_Fat_Content'] = x_test['Item_Fat_Content'].map(map_fat_content)"
   ]
  },
  {
   "cell_type": "markdown",
   "metadata": {},
   "source": [
    "Justificativa: Como foi analisado no projeto de análise de dados, esses valores claramente se tratam de divergências no cadastro manual para o mesmo tipo de categoria. Portant, usando o pensamento lógico, percebemos que há apenas dois tipos de valores: `Low Fat` e `Regular`."
   ]
  },
  {
   "cell_type": "markdown",
   "metadata": {},
   "source": [
    "**Results**"
   ]
  },
  {
   "cell_type": "code",
   "execution_count": 90,
   "metadata": {},
   "outputs": [
    {
     "data": {
      "text/plain": [
       "Item_Identifier              0\n",
       "Item_Weight                  0\n",
       "Item_Fat_Content             0\n",
       "Item_Visibility              0\n",
       "Item_Type                    0\n",
       "Item_MRP                     0\n",
       "Outlet_Identifier            0\n",
       "Outlet_Establishment_Year    0\n",
       "Outlet_Size                  0\n",
       "Outlet_Location_Type         0\n",
       "Outlet_Type                  0\n",
       "dtype: int64"
      ]
     },
     "metadata": {},
     "output_type": "display_data"
    },
    {
     "data": {
      "text/plain": [
       "Item_Identifier              0\n",
       "Item_Weight                  0\n",
       "Item_Fat_Content             0\n",
       "Item_Visibility              0\n",
       "Item_Type                    0\n",
       "Item_MRP                     0\n",
       "Outlet_Identifier            0\n",
       "Outlet_Establishment_Year    0\n",
       "Outlet_Size                  0\n",
       "Outlet_Location_Type         0\n",
       "Outlet_Type                  0\n",
       "dtype: int64"
      ]
     },
     "metadata": {},
     "output_type": "display_data"
    }
   ],
   "source": [
    "display(x_train.isnull().sum())\n",
    "display(x_test.isnull().sum())"
   ]
  },
  {
   "cell_type": "markdown",
   "metadata": {},
   "source": [
    "# 6) Transformação dos atributos"
   ]
  },
  {
   "cell_type": "markdown",
   "metadata": {},
   "source": [
    "* `Item_Identifier`: Ordinal Encoder ou Label Encoder\n",
    "* `Item_Weight`: Padronização ou Normalização dos dados\n",
    "* `Item_Fat_Content`: Label Encoder\n",
    "* `Item_Visibility`: Padronização ou Normalização dos dados\n",
    "* `Item_Type`: Ordinal Encoder ou One Hot Encoder\n",
    "* `Item_MRP`: Padronização ou Normalização dos dados \n",
    "* `Outlet_Identifier`: Ordinal Encoder ou Label Encoder\n",
    "* `Outlet_Establishment_Year`: Desconsiderar\n",
    "* `Outlet_Size`: Ordinal Encoder (Testar One Hot Encoder)\n",
    "* `Outlet_Location_Type`: Ordinal Encoder (Testar One Hot Encoder)\n",
    "* `Outlet_Type`: Ordinal Encoder (Testar One Hot Encoder)"
   ]
  },
  {
   "cell_type": "code",
   "execution_count": 91,
   "metadata": {},
   "outputs": [],
   "source": [
    "from sklearn.preprocessing import OrdinalEncoder, LabelEncoder, OneHotEncoder"
   ]
  },
  {
   "cell_type": "code",
   "execution_count": 92,
   "metadata": {},
   "outputs": [],
   "source": [
    "x_train_transformed = x_train.copy()\n",
    "x_test_transformed = x_test.copy()"
   ]
  },
  {
   "cell_type": "markdown",
   "metadata": {},
   "source": [
    "**Item_Fat_Content, Outlet_Size, Outlet_Location_Type, Outlet_Type**"
   ]
  },
  {
   "cell_type": "code",
   "execution_count": 93,
   "metadata": {},
   "outputs": [],
   "source": [
    "map_fat_content_encode = {\n",
    "    'Low Fat': 0,\n",
    "    'Regular': 1\n",
    "}\n",
    "\n",
    "map_outlet_size_encode = {\n",
    "    'Small': 0, \n",
    "    'Medium': 0.5, \n",
    "    'High': 1\n",
    "}\n",
    "\n",
    "map_location_type_encode = {\n",
    "    'Tier 1': 0, \n",
    "    'Tier 2': 0.5, \n",
    "    'Tier 3': 1\n",
    "}\n",
    "\n",
    "map_outlet_type_encode = {\n",
    "'Grocery Store': 0, \n",
    "'Supermarket Type1': 0.33, \n",
    "'Supermarket Type2': 0.66,\n",
    "'Supermarket Type3': 1, \n",
    "}"
   ]
  },
  {
   "cell_type": "code",
   "execution_count": 94,
   "metadata": {},
   "outputs": [],
   "source": [
    "x_train_transformed['Item_Fat_Content'] = x_train_transformed['Item_Fat_Content'].map(map_fat_content_encode)\n",
    "# x_train_transformed['Outlet_Size'] = x_train_transformed['Outlet_Size'].map(map_outlet_size_encode)\n",
    "# x_train_transformed['Outlet_Location_Type'] = x_train_transformed['Outlet_Location_Type'].map(map_location_type_encode)\n",
    "# x_train_transformed['Outlet_Type'] = x_train_transformed['Outlet_Type'].map(map_outlet_type_encode)\n",
    "\n",
    "x_test_transformed['Item_Fat_Content'] = x_test_transformed['Item_Fat_Content'].map(map_fat_content_encode)\n",
    "# x_test_transformed['Outlet_Size'] = x_test_transformed['Outlet_Size'].map(map_outlet_size_encode)\n",
    "# x_test_transformed['Outlet_Location_Type'] = x_test_transformed['Outlet_Location_Type'].map(map_location_type_encode)\n",
    "# x_test_transformed['Outlet_Type'] = x_test_transformed['Outlet_Type'].map(map_outlet_type_encode)"
   ]
  },
  {
   "cell_type": "code",
   "execution_count": 95,
   "metadata": {},
   "outputs": [
    {
     "data": {
      "text/plain": [
       "Item_Fat_Content\n",
       "0    553\n",
       "1    300\n",
       "Name: count, dtype: int64"
      ]
     },
     "metadata": {},
     "output_type": "display_data"
    },
    {
     "data": {
      "text/plain": [
       "Outlet_Size\n",
       "Small     422\n",
       "Medium    333\n",
       "High       98\n",
       "Name: count, dtype: int64"
      ]
     },
     "metadata": {},
     "output_type": "display_data"
    },
    {
     "data": {
      "text/plain": [
       "Outlet_Location_Type\n",
       "Tier 3    341\n",
       "Tier 2    282\n",
       "Tier 1    230\n",
       "Name: count, dtype: int64"
      ]
     },
     "metadata": {},
     "output_type": "display_data"
    },
    {
     "data": {
      "text/plain": [
       "Outlet_Type\n",
       "Supermarket Type1    562\n",
       "Grocery Store        114\n",
       "Supermarket Type3     92\n",
       "Supermarket Type2     85\n",
       "Name: count, dtype: int64"
      ]
     },
     "metadata": {},
     "output_type": "display_data"
    }
   ],
   "source": [
    "display(x_test_transformed['Item_Fat_Content'].value_counts())\n",
    "display(x_test_transformed['Outlet_Size'].value_counts())\n",
    "display(x_test_transformed['Outlet_Location_Type'].value_counts())\n",
    "display(x_test_transformed['Outlet_Type'].value_counts())"
   ]
  },
  {
   "cell_type": "code",
   "execution_count": 96,
   "metadata": {},
   "outputs": [
    {
     "data": {
      "text/html": [
       "<div>\n",
       "<style scoped>\n",
       "    .dataframe tbody tr th:only-of-type {\n",
       "        vertical-align: middle;\n",
       "    }\n",
       "\n",
       "    .dataframe tbody tr th {\n",
       "        vertical-align: top;\n",
       "    }\n",
       "\n",
       "    .dataframe thead th {\n",
       "        text-align: right;\n",
       "    }\n",
       "</style>\n",
       "<table border=\"1\" class=\"dataframe\">\n",
       "  <thead>\n",
       "    <tr style=\"text-align: right;\">\n",
       "      <th></th>\n",
       "      <th>Item_Identifier</th>\n",
       "      <th>Item_Weight</th>\n",
       "      <th>Item_Fat_Content</th>\n",
       "      <th>Item_Visibility</th>\n",
       "      <th>Item_Type</th>\n",
       "      <th>Item_MRP</th>\n",
       "      <th>Outlet_Identifier</th>\n",
       "      <th>Outlet_Establishment_Year</th>\n",
       "      <th>Outlet_Size</th>\n",
       "      <th>Outlet_Location_Type</th>\n",
       "      <th>Outlet_Type</th>\n",
       "    </tr>\n",
       "  </thead>\n",
       "  <tbody>\n",
       "    <tr>\n",
       "      <th>0</th>\n",
       "      <td>FDB15</td>\n",
       "      <td>10.895</td>\n",
       "      <td>0</td>\n",
       "      <td>0.228993</td>\n",
       "      <td>Dairy</td>\n",
       "      <td>263.4568</td>\n",
       "      <td>OUT010</td>\n",
       "      <td>1998</td>\n",
       "      <td>Medium</td>\n",
       "      <td>Tier 3</td>\n",
       "      <td>Grocery Store</td>\n",
       "    </tr>\n",
       "    <tr>\n",
       "      <th>1</th>\n",
       "      <td>NCW18</td>\n",
       "      <td>15.100</td>\n",
       "      <td>0</td>\n",
       "      <td>0.059417</td>\n",
       "      <td>Household</td>\n",
       "      <td>237.9248</td>\n",
       "      <td>OUT049</td>\n",
       "      <td>1999</td>\n",
       "      <td>Medium</td>\n",
       "      <td>Tier 1</td>\n",
       "      <td>Supermarket Type1</td>\n",
       "    </tr>\n",
       "    <tr>\n",
       "      <th>2</th>\n",
       "      <td>NCR29</td>\n",
       "      <td>7.565</td>\n",
       "      <td>0</td>\n",
       "      <td>0.054752</td>\n",
       "      <td>Health and Hygiene</td>\n",
       "      <td>54.7930</td>\n",
       "      <td>OUT045</td>\n",
       "      <td>2002</td>\n",
       "      <td>Small</td>\n",
       "      <td>Tier 2</td>\n",
       "      <td>Supermarket Type1</td>\n",
       "    </tr>\n",
       "    <tr>\n",
       "      <th>3</th>\n",
       "      <td>FDY20</td>\n",
       "      <td>12.500</td>\n",
       "      <td>1</td>\n",
       "      <td>0.081753</td>\n",
       "      <td>Fruits and Vegetables</td>\n",
       "      <td>89.0488</td>\n",
       "      <td>OUT046</td>\n",
       "      <td>1997</td>\n",
       "      <td>Small</td>\n",
       "      <td>Tier 1</td>\n",
       "      <td>Supermarket Type1</td>\n",
       "    </tr>\n",
       "    <tr>\n",
       "      <th>4</th>\n",
       "      <td>FDY33</td>\n",
       "      <td>14.500</td>\n",
       "      <td>1</td>\n",
       "      <td>0.097751</td>\n",
       "      <td>Snack Foods</td>\n",
       "      <td>159.7262</td>\n",
       "      <td>OUT017</td>\n",
       "      <td>2007</td>\n",
       "      <td>Small</td>\n",
       "      <td>Tier 2</td>\n",
       "      <td>Supermarket Type1</td>\n",
       "    </tr>\n",
       "  </tbody>\n",
       "</table>\n",
       "</div>"
      ],
      "text/plain": [
       "  Item_Identifier  Item_Weight  Item_Fat_Content  Item_Visibility  \\\n",
       "0           FDB15       10.895                 0         0.228993   \n",
       "1           NCW18       15.100                 0         0.059417   \n",
       "2           NCR29        7.565                 0         0.054752   \n",
       "3           FDY20       12.500                 1         0.081753   \n",
       "4           FDY33       14.500                 1         0.097751   \n",
       "\n",
       "               Item_Type  Item_MRP Outlet_Identifier  \\\n",
       "0                  Dairy  263.4568            OUT010   \n",
       "1              Household  237.9248            OUT049   \n",
       "2     Health and Hygiene   54.7930            OUT045   \n",
       "3  Fruits and Vegetables   89.0488            OUT046   \n",
       "4            Snack Foods  159.7262            OUT017   \n",
       "\n",
       "   Outlet_Establishment_Year Outlet_Size Outlet_Location_Type  \\\n",
       "0                       1998      Medium               Tier 3   \n",
       "1                       1999      Medium               Tier 1   \n",
       "2                       2002       Small               Tier 2   \n",
       "3                       1997       Small               Tier 1   \n",
       "4                       2007       Small               Tier 2   \n",
       "\n",
       "         Outlet_Type  \n",
       "0      Grocery Store  \n",
       "1  Supermarket Type1  \n",
       "2  Supermarket Type1  \n",
       "3  Supermarket Type1  \n",
       "4  Supermarket Type1  "
      ]
     },
     "execution_count": 96,
     "metadata": {},
     "output_type": "execute_result"
    }
   ],
   "source": [
    "x_test_transformed.head()"
   ]
  },
  {
   "cell_type": "markdown",
   "metadata": {},
   "source": [
    "**Outlet Identifier Ordinal**"
   ]
  },
  {
   "cell_type": "code",
   "execution_count": 97,
   "metadata": {},
   "outputs": [],
   "source": [
    "ordinal_encoder = LabelEncoder()\n",
    "\n",
    "features_encoded = ordinal_encoder.fit_transform(x_train_transformed['Outlet_Identifier'])\n",
    "x_train_transformed['Outlet_Identifier_ordinal'] = features_encoded\n",
    "\n",
    "features_encoded = ordinal_encoder.transform(x_test_transformed['Outlet_Identifier'])\n",
    "x_test_transformed['Outlet_Identifier_ordinal'] = features_encoded"
   ]
  },
  {
   "cell_type": "markdown",
   "metadata": {},
   "source": [
    "**Item Type** & Outlet_Size, Outlet_Location_Type, Outlet_Type, Item_Type"
   ]
  },
  {
   "cell_type": "code",
   "execution_count": 98,
   "metadata": {},
   "outputs": [],
   "source": [
    "list_columns = ['Outlet_Size', 'Outlet_Location_Type', 'Outlet_Type', 'Item_Type']\n",
    "\n",
    "for col in list_columns:\n",
    "\n",
    "    ohe = OneHotEncoder(sparse=False)\n",
    "\n",
    "    Item_Type_ohe_train = ohe.fit_transform(x_train_transformed[[col]])\n",
    "    Item_Type_ohe_test = ohe.transform(x_test_transformed[[col]])\n",
    "\n",
    "    # columns_ohe = ['Item_Type_{}'.format(str.replace(item ,' ', '_')) for item in list(ohe.categories_[0])]\n",
    "    columns_ohe_train = pd.DataFrame(Item_Type_ohe_train, columns=ohe.get_feature_names_out([col]))\n",
    "    columns_ohe_test = pd.DataFrame(Item_Type_ohe_test, columns=ohe.get_feature_names_out([col]))\n",
    "\n",
    "    for row in ohe.get_feature_names_out([col]):\n",
    "        x_train_transformed[row.replace(' ', '_')] = columns_ohe_train[row]\n",
    "        x_test_transformed[row.replace(' ', '_')] = columns_ohe_test[row]"
   ]
  },
  {
   "cell_type": "code",
   "execution_count": 99,
   "metadata": {},
   "outputs": [],
   "source": [
    "x_train_transformed.drop(columns=list_columns, inplace=True)\n",
    "x_test_transformed.drop(columns=list_columns, inplace=True)"
   ]
  },
  {
   "cell_type": "code",
   "execution_count": 100,
   "metadata": {},
   "outputs": [
    {
     "data": {
      "text/html": [
       "<div>\n",
       "<style scoped>\n",
       "    .dataframe tbody tr th:only-of-type {\n",
       "        vertical-align: middle;\n",
       "    }\n",
       "\n",
       "    .dataframe tbody tr th {\n",
       "        vertical-align: top;\n",
       "    }\n",
       "\n",
       "    .dataframe thead th {\n",
       "        text-align: right;\n",
       "    }\n",
       "</style>\n",
       "<table border=\"1\" class=\"dataframe\">\n",
       "  <thead>\n",
       "    <tr style=\"text-align: right;\">\n",
       "      <th></th>\n",
       "      <th>Item_Identifier</th>\n",
       "      <th>Item_Weight</th>\n",
       "      <th>Item_Fat_Content</th>\n",
       "      <th>Item_Visibility</th>\n",
       "      <th>Item_MRP</th>\n",
       "      <th>Outlet_Identifier</th>\n",
       "      <th>Outlet_Establishment_Year</th>\n",
       "      <th>Outlet_Identifier_ordinal</th>\n",
       "      <th>Outlet_Size_High</th>\n",
       "      <th>Outlet_Size_Medium</th>\n",
       "      <th>Outlet_Size_Small</th>\n",
       "      <th>Outlet_Location_Type_Tier_1</th>\n",
       "      <th>Outlet_Location_Type_Tier_2</th>\n",
       "      <th>Outlet_Location_Type_Tier_3</th>\n",
       "      <th>Outlet_Type_Grocery_Store</th>\n",
       "      <th>Outlet_Type_Supermarket_Type1</th>\n",
       "      <th>Outlet_Type_Supermarket_Type2</th>\n",
       "      <th>Outlet_Type_Supermarket_Type3</th>\n",
       "      <th>Item_Type_Baking_Goods</th>\n",
       "      <th>Item_Type_Breads</th>\n",
       "      <th>Item_Type_Breakfast</th>\n",
       "      <th>Item_Type_Canned</th>\n",
       "      <th>Item_Type_Dairy</th>\n",
       "      <th>Item_Type_Frozen_Foods</th>\n",
       "      <th>Item_Type_Fruits_and_Vegetables</th>\n",
       "      <th>Item_Type_Hard_Drinks</th>\n",
       "      <th>Item_Type_Health_and_Hygiene</th>\n",
       "      <th>Item_Type_Household</th>\n",
       "      <th>Item_Type_Meat</th>\n",
       "      <th>Item_Type_Others</th>\n",
       "      <th>Item_Type_Seafood</th>\n",
       "      <th>Item_Type_Snack_Foods</th>\n",
       "      <th>Item_Type_Soft_Drinks</th>\n",
       "      <th>Item_Type_Starchy_Foods</th>\n",
       "    </tr>\n",
       "  </thead>\n",
       "  <tbody>\n",
       "    <tr>\n",
       "      <th>0</th>\n",
       "      <td>FDQ48</td>\n",
       "      <td>14.300000</td>\n",
       "      <td>1</td>\n",
       "      <td>0.034606</td>\n",
       "      <td>95.9726</td>\n",
       "      <td>OUT017</td>\n",
       "      <td>2007</td>\n",
       "      <td>2</td>\n",
       "      <td>0.0</td>\n",
       "      <td>0.0</td>\n",
       "      <td>1.0</td>\n",
       "      <td>0.0</td>\n",
       "      <td>1.0</td>\n",
       "      <td>0.0</td>\n",
       "      <td>0.0</td>\n",
       "      <td>1.0</td>\n",
       "      <td>0.0</td>\n",
       "      <td>0.0</td>\n",
       "      <td>1.0</td>\n",
       "      <td>0.0</td>\n",
       "      <td>0.0</td>\n",
       "      <td>0.0</td>\n",
       "      <td>0.0</td>\n",
       "      <td>0.0</td>\n",
       "      <td>0.0</td>\n",
       "      <td>0.0</td>\n",
       "      <td>0.0</td>\n",
       "      <td>0.0</td>\n",
       "      <td>0.0</td>\n",
       "      <td>0.0</td>\n",
       "      <td>0.0</td>\n",
       "      <td>0.0</td>\n",
       "      <td>0.0</td>\n",
       "      <td>0.0</td>\n",
       "    </tr>\n",
       "    <tr>\n",
       "      <th>1</th>\n",
       "      <td>FDQ12</td>\n",
       "      <td>12.650000</td>\n",
       "      <td>0</td>\n",
       "      <td>0.035411</td>\n",
       "      <td>231.4010</td>\n",
       "      <td>OUT046</td>\n",
       "      <td>1997</td>\n",
       "      <td>8</td>\n",
       "      <td>0.0</td>\n",
       "      <td>0.0</td>\n",
       "      <td>1.0</td>\n",
       "      <td>1.0</td>\n",
       "      <td>0.0</td>\n",
       "      <td>0.0</td>\n",
       "      <td>0.0</td>\n",
       "      <td>1.0</td>\n",
       "      <td>0.0</td>\n",
       "      <td>0.0</td>\n",
       "      <td>1.0</td>\n",
       "      <td>0.0</td>\n",
       "      <td>0.0</td>\n",
       "      <td>0.0</td>\n",
       "      <td>0.0</td>\n",
       "      <td>0.0</td>\n",
       "      <td>0.0</td>\n",
       "      <td>0.0</td>\n",
       "      <td>0.0</td>\n",
       "      <td>0.0</td>\n",
       "      <td>0.0</td>\n",
       "      <td>0.0</td>\n",
       "      <td>0.0</td>\n",
       "      <td>0.0</td>\n",
       "      <td>0.0</td>\n",
       "      <td>0.0</td>\n",
       "    </tr>\n",
       "    <tr>\n",
       "      <th>2</th>\n",
       "      <td>FDK41</td>\n",
       "      <td>12.839867</td>\n",
       "      <td>0</td>\n",
       "      <td>0.126924</td>\n",
       "      <td>87.2224</td>\n",
       "      <td>OUT027</td>\n",
       "      <td>1985</td>\n",
       "      <td>5</td>\n",
       "      <td>0.0</td>\n",
       "      <td>1.0</td>\n",
       "      <td>0.0</td>\n",
       "      <td>0.0</td>\n",
       "      <td>0.0</td>\n",
       "      <td>1.0</td>\n",
       "      <td>0.0</td>\n",
       "      <td>0.0</td>\n",
       "      <td>0.0</td>\n",
       "      <td>1.0</td>\n",
       "      <td>0.0</td>\n",
       "      <td>0.0</td>\n",
       "      <td>0.0</td>\n",
       "      <td>0.0</td>\n",
       "      <td>0.0</td>\n",
       "      <td>1.0</td>\n",
       "      <td>0.0</td>\n",
       "      <td>0.0</td>\n",
       "      <td>0.0</td>\n",
       "      <td>0.0</td>\n",
       "      <td>0.0</td>\n",
       "      <td>0.0</td>\n",
       "      <td>0.0</td>\n",
       "      <td>0.0</td>\n",
       "      <td>0.0</td>\n",
       "      <td>0.0</td>\n",
       "    </tr>\n",
       "    <tr>\n",
       "      <th>3</th>\n",
       "      <td>FDR55</td>\n",
       "      <td>12.150000</td>\n",
       "      <td>1</td>\n",
       "      <td>0.132084</td>\n",
       "      <td>189.5872</td>\n",
       "      <td>OUT046</td>\n",
       "      <td>1997</td>\n",
       "      <td>8</td>\n",
       "      <td>0.0</td>\n",
       "      <td>0.0</td>\n",
       "      <td>1.0</td>\n",
       "      <td>1.0</td>\n",
       "      <td>0.0</td>\n",
       "      <td>0.0</td>\n",
       "      <td>0.0</td>\n",
       "      <td>1.0</td>\n",
       "      <td>0.0</td>\n",
       "      <td>0.0</td>\n",
       "      <td>0.0</td>\n",
       "      <td>0.0</td>\n",
       "      <td>0.0</td>\n",
       "      <td>0.0</td>\n",
       "      <td>0.0</td>\n",
       "      <td>0.0</td>\n",
       "      <td>1.0</td>\n",
       "      <td>0.0</td>\n",
       "      <td>0.0</td>\n",
       "      <td>0.0</td>\n",
       "      <td>0.0</td>\n",
       "      <td>0.0</td>\n",
       "      <td>0.0</td>\n",
       "      <td>0.0</td>\n",
       "      <td>0.0</td>\n",
       "      <td>0.0</td>\n",
       "    </tr>\n",
       "    <tr>\n",
       "      <th>4</th>\n",
       "      <td>FDI15</td>\n",
       "      <td>13.800000</td>\n",
       "      <td>0</td>\n",
       "      <td>0.000000</td>\n",
       "      <td>263.7884</td>\n",
       "      <td>OUT049</td>\n",
       "      <td>1999</td>\n",
       "      <td>9</td>\n",
       "      <td>0.0</td>\n",
       "      <td>1.0</td>\n",
       "      <td>0.0</td>\n",
       "      <td>1.0</td>\n",
       "      <td>0.0</td>\n",
       "      <td>0.0</td>\n",
       "      <td>0.0</td>\n",
       "      <td>1.0</td>\n",
       "      <td>0.0</td>\n",
       "      <td>0.0</td>\n",
       "      <td>0.0</td>\n",
       "      <td>0.0</td>\n",
       "      <td>0.0</td>\n",
       "      <td>0.0</td>\n",
       "      <td>1.0</td>\n",
       "      <td>0.0</td>\n",
       "      <td>0.0</td>\n",
       "      <td>0.0</td>\n",
       "      <td>0.0</td>\n",
       "      <td>0.0</td>\n",
       "      <td>0.0</td>\n",
       "      <td>0.0</td>\n",
       "      <td>0.0</td>\n",
       "      <td>0.0</td>\n",
       "      <td>0.0</td>\n",
       "      <td>0.0</td>\n",
       "    </tr>\n",
       "  </tbody>\n",
       "</table>\n",
       "</div>"
      ],
      "text/plain": [
       "  Item_Identifier  Item_Weight  Item_Fat_Content  Item_Visibility  Item_MRP  \\\n",
       "0           FDQ48    14.300000                 1         0.034606   95.9726   \n",
       "1           FDQ12    12.650000                 0         0.035411  231.4010   \n",
       "2           FDK41    12.839867                 0         0.126924   87.2224   \n",
       "3           FDR55    12.150000                 1         0.132084  189.5872   \n",
       "4           FDI15    13.800000                 0         0.000000  263.7884   \n",
       "\n",
       "  Outlet_Identifier  Outlet_Establishment_Year  Outlet_Identifier_ordinal  \\\n",
       "0            OUT017                       2007                          2   \n",
       "1            OUT046                       1997                          8   \n",
       "2            OUT027                       1985                          5   \n",
       "3            OUT046                       1997                          8   \n",
       "4            OUT049                       1999                          9   \n",
       "\n",
       "   Outlet_Size_High  Outlet_Size_Medium  Outlet_Size_Small  \\\n",
       "0               0.0                 0.0                1.0   \n",
       "1               0.0                 0.0                1.0   \n",
       "2               0.0                 1.0                0.0   \n",
       "3               0.0                 0.0                1.0   \n",
       "4               0.0                 1.0                0.0   \n",
       "\n",
       "   Outlet_Location_Type_Tier_1  Outlet_Location_Type_Tier_2  \\\n",
       "0                          0.0                          1.0   \n",
       "1                          1.0                          0.0   \n",
       "2                          0.0                          0.0   \n",
       "3                          1.0                          0.0   \n",
       "4                          1.0                          0.0   \n",
       "\n",
       "   Outlet_Location_Type_Tier_3  Outlet_Type_Grocery_Store  \\\n",
       "0                          0.0                        0.0   \n",
       "1                          0.0                        0.0   \n",
       "2                          1.0                        0.0   \n",
       "3                          0.0                        0.0   \n",
       "4                          0.0                        0.0   \n",
       "\n",
       "   Outlet_Type_Supermarket_Type1  Outlet_Type_Supermarket_Type2  \\\n",
       "0                            1.0                            0.0   \n",
       "1                            1.0                            0.0   \n",
       "2                            0.0                            0.0   \n",
       "3                            1.0                            0.0   \n",
       "4                            1.0                            0.0   \n",
       "\n",
       "   Outlet_Type_Supermarket_Type3  Item_Type_Baking_Goods  Item_Type_Breads  \\\n",
       "0                            0.0                     1.0               0.0   \n",
       "1                            0.0                     1.0               0.0   \n",
       "2                            1.0                     0.0               0.0   \n",
       "3                            0.0                     0.0               0.0   \n",
       "4                            0.0                     0.0               0.0   \n",
       "\n",
       "   Item_Type_Breakfast  Item_Type_Canned  Item_Type_Dairy  \\\n",
       "0                  0.0               0.0              0.0   \n",
       "1                  0.0               0.0              0.0   \n",
       "2                  0.0               0.0              0.0   \n",
       "3                  0.0               0.0              0.0   \n",
       "4                  0.0               0.0              1.0   \n",
       "\n",
       "   Item_Type_Frozen_Foods  Item_Type_Fruits_and_Vegetables  \\\n",
       "0                     0.0                              0.0   \n",
       "1                     0.0                              0.0   \n",
       "2                     1.0                              0.0   \n",
       "3                     0.0                              1.0   \n",
       "4                     0.0                              0.0   \n",
       "\n",
       "   Item_Type_Hard_Drinks  Item_Type_Health_and_Hygiene  Item_Type_Household  \\\n",
       "0                    0.0                           0.0                  0.0   \n",
       "1                    0.0                           0.0                  0.0   \n",
       "2                    0.0                           0.0                  0.0   \n",
       "3                    0.0                           0.0                  0.0   \n",
       "4                    0.0                           0.0                  0.0   \n",
       "\n",
       "   Item_Type_Meat  Item_Type_Others  Item_Type_Seafood  Item_Type_Snack_Foods  \\\n",
       "0             0.0               0.0                0.0                    0.0   \n",
       "1             0.0               0.0                0.0                    0.0   \n",
       "2             0.0               0.0                0.0                    0.0   \n",
       "3             0.0               0.0                0.0                    0.0   \n",
       "4             0.0               0.0                0.0                    0.0   \n",
       "\n",
       "   Item_Type_Soft_Drinks  Item_Type_Starchy_Foods  \n",
       "0                    0.0                      0.0  \n",
       "1                    0.0                      0.0  \n",
       "2                    0.0                      0.0  \n",
       "3                    0.0                      0.0  \n",
       "4                    0.0                      0.0  "
      ]
     },
     "execution_count": 100,
     "metadata": {},
     "output_type": "execute_result"
    }
   ],
   "source": [
    "x_train_transformed.head()"
   ]
  },
  {
   "cell_type": "code",
   "execution_count": 101,
   "metadata": {},
   "outputs": [
    {
     "data": {
      "text/html": [
       "<div>\n",
       "<style scoped>\n",
       "    .dataframe tbody tr th:only-of-type {\n",
       "        vertical-align: middle;\n",
       "    }\n",
       "\n",
       "    .dataframe tbody tr th {\n",
       "        vertical-align: top;\n",
       "    }\n",
       "\n",
       "    .dataframe thead th {\n",
       "        text-align: right;\n",
       "    }\n",
       "</style>\n",
       "<table border=\"1\" class=\"dataframe\">\n",
       "  <thead>\n",
       "    <tr style=\"text-align: right;\">\n",
       "      <th></th>\n",
       "      <th>Item_Identifier</th>\n",
       "      <th>Item_Weight</th>\n",
       "      <th>Item_Fat_Content</th>\n",
       "      <th>Item_Visibility</th>\n",
       "      <th>Item_MRP</th>\n",
       "      <th>Outlet_Identifier</th>\n",
       "      <th>Outlet_Establishment_Year</th>\n",
       "      <th>Outlet_Identifier_ordinal</th>\n",
       "      <th>Outlet_Size_High</th>\n",
       "      <th>Outlet_Size_Medium</th>\n",
       "      <th>Outlet_Size_Small</th>\n",
       "      <th>Outlet_Location_Type_Tier_1</th>\n",
       "      <th>Outlet_Location_Type_Tier_2</th>\n",
       "      <th>Outlet_Location_Type_Tier_3</th>\n",
       "      <th>Outlet_Type_Grocery_Store</th>\n",
       "      <th>Outlet_Type_Supermarket_Type1</th>\n",
       "      <th>Outlet_Type_Supermarket_Type2</th>\n",
       "      <th>Outlet_Type_Supermarket_Type3</th>\n",
       "      <th>Item_Type_Baking_Goods</th>\n",
       "      <th>Item_Type_Breads</th>\n",
       "      <th>Item_Type_Breakfast</th>\n",
       "      <th>Item_Type_Canned</th>\n",
       "      <th>Item_Type_Dairy</th>\n",
       "      <th>Item_Type_Frozen_Foods</th>\n",
       "      <th>Item_Type_Fruits_and_Vegetables</th>\n",
       "      <th>Item_Type_Hard_Drinks</th>\n",
       "      <th>Item_Type_Health_and_Hygiene</th>\n",
       "      <th>Item_Type_Household</th>\n",
       "      <th>Item_Type_Meat</th>\n",
       "      <th>Item_Type_Others</th>\n",
       "      <th>Item_Type_Seafood</th>\n",
       "      <th>Item_Type_Snack_Foods</th>\n",
       "      <th>Item_Type_Soft_Drinks</th>\n",
       "      <th>Item_Type_Starchy_Foods</th>\n",
       "    </tr>\n",
       "  </thead>\n",
       "  <tbody>\n",
       "    <tr>\n",
       "      <th>0</th>\n",
       "      <td>FDB15</td>\n",
       "      <td>10.895</td>\n",
       "      <td>0</td>\n",
       "      <td>0.228993</td>\n",
       "      <td>263.4568</td>\n",
       "      <td>OUT010</td>\n",
       "      <td>1998</td>\n",
       "      <td>0</td>\n",
       "      <td>0.0</td>\n",
       "      <td>1.0</td>\n",
       "      <td>0.0</td>\n",
       "      <td>0.0</td>\n",
       "      <td>0.0</td>\n",
       "      <td>1.0</td>\n",
       "      <td>1.0</td>\n",
       "      <td>0.0</td>\n",
       "      <td>0.0</td>\n",
       "      <td>0.0</td>\n",
       "      <td>0.0</td>\n",
       "      <td>0.0</td>\n",
       "      <td>0.0</td>\n",
       "      <td>0.0</td>\n",
       "      <td>1.0</td>\n",
       "      <td>0.0</td>\n",
       "      <td>0.0</td>\n",
       "      <td>0.0</td>\n",
       "      <td>0.0</td>\n",
       "      <td>0.0</td>\n",
       "      <td>0.0</td>\n",
       "      <td>0.0</td>\n",
       "      <td>0.0</td>\n",
       "      <td>0.0</td>\n",
       "      <td>0.0</td>\n",
       "      <td>0.0</td>\n",
       "    </tr>\n",
       "    <tr>\n",
       "      <th>1</th>\n",
       "      <td>NCW18</td>\n",
       "      <td>15.100</td>\n",
       "      <td>0</td>\n",
       "      <td>0.059417</td>\n",
       "      <td>237.9248</td>\n",
       "      <td>OUT049</td>\n",
       "      <td>1999</td>\n",
       "      <td>9</td>\n",
       "      <td>0.0</td>\n",
       "      <td>1.0</td>\n",
       "      <td>0.0</td>\n",
       "      <td>1.0</td>\n",
       "      <td>0.0</td>\n",
       "      <td>0.0</td>\n",
       "      <td>0.0</td>\n",
       "      <td>1.0</td>\n",
       "      <td>0.0</td>\n",
       "      <td>0.0</td>\n",
       "      <td>0.0</td>\n",
       "      <td>0.0</td>\n",
       "      <td>0.0</td>\n",
       "      <td>0.0</td>\n",
       "      <td>0.0</td>\n",
       "      <td>0.0</td>\n",
       "      <td>0.0</td>\n",
       "      <td>0.0</td>\n",
       "      <td>0.0</td>\n",
       "      <td>1.0</td>\n",
       "      <td>0.0</td>\n",
       "      <td>0.0</td>\n",
       "      <td>0.0</td>\n",
       "      <td>0.0</td>\n",
       "      <td>0.0</td>\n",
       "      <td>0.0</td>\n",
       "    </tr>\n",
       "    <tr>\n",
       "      <th>2</th>\n",
       "      <td>NCR29</td>\n",
       "      <td>7.565</td>\n",
       "      <td>0</td>\n",
       "      <td>0.054752</td>\n",
       "      <td>54.7930</td>\n",
       "      <td>OUT045</td>\n",
       "      <td>2002</td>\n",
       "      <td>7</td>\n",
       "      <td>0.0</td>\n",
       "      <td>0.0</td>\n",
       "      <td>1.0</td>\n",
       "      <td>0.0</td>\n",
       "      <td>1.0</td>\n",
       "      <td>0.0</td>\n",
       "      <td>0.0</td>\n",
       "      <td>1.0</td>\n",
       "      <td>0.0</td>\n",
       "      <td>0.0</td>\n",
       "      <td>0.0</td>\n",
       "      <td>0.0</td>\n",
       "      <td>0.0</td>\n",
       "      <td>0.0</td>\n",
       "      <td>0.0</td>\n",
       "      <td>0.0</td>\n",
       "      <td>0.0</td>\n",
       "      <td>0.0</td>\n",
       "      <td>1.0</td>\n",
       "      <td>0.0</td>\n",
       "      <td>0.0</td>\n",
       "      <td>0.0</td>\n",
       "      <td>0.0</td>\n",
       "      <td>0.0</td>\n",
       "      <td>0.0</td>\n",
       "      <td>0.0</td>\n",
       "    </tr>\n",
       "    <tr>\n",
       "      <th>3</th>\n",
       "      <td>FDY20</td>\n",
       "      <td>12.500</td>\n",
       "      <td>1</td>\n",
       "      <td>0.081753</td>\n",
       "      <td>89.0488</td>\n",
       "      <td>OUT046</td>\n",
       "      <td>1997</td>\n",
       "      <td>8</td>\n",
       "      <td>0.0</td>\n",
       "      <td>0.0</td>\n",
       "      <td>1.0</td>\n",
       "      <td>1.0</td>\n",
       "      <td>0.0</td>\n",
       "      <td>0.0</td>\n",
       "      <td>0.0</td>\n",
       "      <td>1.0</td>\n",
       "      <td>0.0</td>\n",
       "      <td>0.0</td>\n",
       "      <td>0.0</td>\n",
       "      <td>0.0</td>\n",
       "      <td>0.0</td>\n",
       "      <td>0.0</td>\n",
       "      <td>0.0</td>\n",
       "      <td>0.0</td>\n",
       "      <td>1.0</td>\n",
       "      <td>0.0</td>\n",
       "      <td>0.0</td>\n",
       "      <td>0.0</td>\n",
       "      <td>0.0</td>\n",
       "      <td>0.0</td>\n",
       "      <td>0.0</td>\n",
       "      <td>0.0</td>\n",
       "      <td>0.0</td>\n",
       "      <td>0.0</td>\n",
       "    </tr>\n",
       "    <tr>\n",
       "      <th>4</th>\n",
       "      <td>FDY33</td>\n",
       "      <td>14.500</td>\n",
       "      <td>1</td>\n",
       "      <td>0.097751</td>\n",
       "      <td>159.7262</td>\n",
       "      <td>OUT017</td>\n",
       "      <td>2007</td>\n",
       "      <td>2</td>\n",
       "      <td>0.0</td>\n",
       "      <td>0.0</td>\n",
       "      <td>1.0</td>\n",
       "      <td>0.0</td>\n",
       "      <td>1.0</td>\n",
       "      <td>0.0</td>\n",
       "      <td>0.0</td>\n",
       "      <td>1.0</td>\n",
       "      <td>0.0</td>\n",
       "      <td>0.0</td>\n",
       "      <td>0.0</td>\n",
       "      <td>0.0</td>\n",
       "      <td>0.0</td>\n",
       "      <td>0.0</td>\n",
       "      <td>0.0</td>\n",
       "      <td>0.0</td>\n",
       "      <td>0.0</td>\n",
       "      <td>0.0</td>\n",
       "      <td>0.0</td>\n",
       "      <td>0.0</td>\n",
       "      <td>0.0</td>\n",
       "      <td>0.0</td>\n",
       "      <td>0.0</td>\n",
       "      <td>1.0</td>\n",
       "      <td>0.0</td>\n",
       "      <td>0.0</td>\n",
       "    </tr>\n",
       "  </tbody>\n",
       "</table>\n",
       "</div>"
      ],
      "text/plain": [
       "  Item_Identifier  Item_Weight  Item_Fat_Content  Item_Visibility  Item_MRP  \\\n",
       "0           FDB15       10.895                 0         0.228993  263.4568   \n",
       "1           NCW18       15.100                 0         0.059417  237.9248   \n",
       "2           NCR29        7.565                 0         0.054752   54.7930   \n",
       "3           FDY20       12.500                 1         0.081753   89.0488   \n",
       "4           FDY33       14.500                 1         0.097751  159.7262   \n",
       "\n",
       "  Outlet_Identifier  Outlet_Establishment_Year  Outlet_Identifier_ordinal  \\\n",
       "0            OUT010                       1998                          0   \n",
       "1            OUT049                       1999                          9   \n",
       "2            OUT045                       2002                          7   \n",
       "3            OUT046                       1997                          8   \n",
       "4            OUT017                       2007                          2   \n",
       "\n",
       "   Outlet_Size_High  Outlet_Size_Medium  Outlet_Size_Small  \\\n",
       "0               0.0                 1.0                0.0   \n",
       "1               0.0                 1.0                0.0   \n",
       "2               0.0                 0.0                1.0   \n",
       "3               0.0                 0.0                1.0   \n",
       "4               0.0                 0.0                1.0   \n",
       "\n",
       "   Outlet_Location_Type_Tier_1  Outlet_Location_Type_Tier_2  \\\n",
       "0                          0.0                          0.0   \n",
       "1                          1.0                          0.0   \n",
       "2                          0.0                          1.0   \n",
       "3                          1.0                          0.0   \n",
       "4                          0.0                          1.0   \n",
       "\n",
       "   Outlet_Location_Type_Tier_3  Outlet_Type_Grocery_Store  \\\n",
       "0                          1.0                        1.0   \n",
       "1                          0.0                        0.0   \n",
       "2                          0.0                        0.0   \n",
       "3                          0.0                        0.0   \n",
       "4                          0.0                        0.0   \n",
       "\n",
       "   Outlet_Type_Supermarket_Type1  Outlet_Type_Supermarket_Type2  \\\n",
       "0                            0.0                            0.0   \n",
       "1                            1.0                            0.0   \n",
       "2                            1.0                            0.0   \n",
       "3                            1.0                            0.0   \n",
       "4                            1.0                            0.0   \n",
       "\n",
       "   Outlet_Type_Supermarket_Type3  Item_Type_Baking_Goods  Item_Type_Breads  \\\n",
       "0                            0.0                     0.0               0.0   \n",
       "1                            0.0                     0.0               0.0   \n",
       "2                            0.0                     0.0               0.0   \n",
       "3                            0.0                     0.0               0.0   \n",
       "4                            0.0                     0.0               0.0   \n",
       "\n",
       "   Item_Type_Breakfast  Item_Type_Canned  Item_Type_Dairy  \\\n",
       "0                  0.0               0.0              1.0   \n",
       "1                  0.0               0.0              0.0   \n",
       "2                  0.0               0.0              0.0   \n",
       "3                  0.0               0.0              0.0   \n",
       "4                  0.0               0.0              0.0   \n",
       "\n",
       "   Item_Type_Frozen_Foods  Item_Type_Fruits_and_Vegetables  \\\n",
       "0                     0.0                              0.0   \n",
       "1                     0.0                              0.0   \n",
       "2                     0.0                              0.0   \n",
       "3                     0.0                              1.0   \n",
       "4                     0.0                              0.0   \n",
       "\n",
       "   Item_Type_Hard_Drinks  Item_Type_Health_and_Hygiene  Item_Type_Household  \\\n",
       "0                    0.0                           0.0                  0.0   \n",
       "1                    0.0                           0.0                  1.0   \n",
       "2                    0.0                           1.0                  0.0   \n",
       "3                    0.0                           0.0                  0.0   \n",
       "4                    0.0                           0.0                  0.0   \n",
       "\n",
       "   Item_Type_Meat  Item_Type_Others  Item_Type_Seafood  Item_Type_Snack_Foods  \\\n",
       "0             0.0               0.0                0.0                    0.0   \n",
       "1             0.0               0.0                0.0                    0.0   \n",
       "2             0.0               0.0                0.0                    0.0   \n",
       "3             0.0               0.0                0.0                    0.0   \n",
       "4             0.0               0.0                0.0                    1.0   \n",
       "\n",
       "   Item_Type_Soft_Drinks  Item_Type_Starchy_Foods  \n",
       "0                    0.0                      0.0  \n",
       "1                    0.0                      0.0  \n",
       "2                    0.0                      0.0  \n",
       "3                    0.0                      0.0  \n",
       "4                    0.0                      0.0  "
      ]
     },
     "execution_count": 101,
     "metadata": {},
     "output_type": "execute_result"
    }
   ],
   "source": [
    "x_test_transformed.head()"
   ]
  },
  {
   "cell_type": "code",
   "execution_count": 102,
   "metadata": {},
   "outputs": [
    {
     "data": {
      "text/plain": [
       "(7670, 34)"
      ]
     },
     "metadata": {},
     "output_type": "display_data"
    },
    {
     "data": {
      "text/plain": [
       "(853, 34)"
      ]
     },
     "metadata": {},
     "output_type": "display_data"
    }
   ],
   "source": [
    "display(x_train_transformed.shape)\n",
    "display(x_test_transformed.shape)"
   ]
  },
  {
   "cell_type": "code",
   "execution_count": 111,
   "metadata": {},
   "outputs": [],
   "source": [
    "x_train_transformed['Outlet_Sales'] = y_train['Item_Outlet_Sales']\n",
    "x_test_transformed['Outlet_Sales'] = y_test['Item_Outlet_Sales']"
   ]
  },
  {
   "cell_type": "code",
   "execution_count": 112,
   "metadata": {},
   "outputs": [],
   "source": [
    "x_train_transformed.to_parquet('../data/x_train_transformed.parquet', compression='gzip', engine='pyarrow')\n",
    "x_test_transformed.to_parquet('../data/x_test_transformed.parquet', compression='gzip', engine='pyarrow')"
   ]
  },
  {
   "cell_type": "markdown",
   "metadata": {},
   "source": [
    "# 7) Seleção de atributos"
   ]
  },
  {
   "cell_type": "code",
   "execution_count": null,
   "metadata": {},
   "outputs": [],
   "source": [
    "features_columns = [\n",
    "    # 'Item_Identifier', # Somente em modelos de árvore\n",
    "    # 'Outlet_Identifier',\n",
    "    # 'Outlet_Establishment_Year',\n",
    "    # 'Item_Type',\n",
    "    'Outlet_Identifier_ordinal',\n",
    "    'Item_Weight',\n",
    "    'Item_Fat_Content',\n",
    "    'Item_Visibility',\n",
    "    'Item_MRP',\n",
    "    'Outlet_Size',\n",
    "    'Outlet_Location_Type',\n",
    "    'Outlet_Type',\n",
    "    'Item_Type_Baking_Goods',\n",
    "    'Item_Type_Breads',\n",
    "    'Item_Type_Breakfast',\n",
    "    'Item_Type_Canned',\n",
    "    'Item_Type_Dairy',\n",
    "    'Item_Type_Frozen_Foods',\n",
    "    'Item_Type_Fruits_and_Vegetables',\n",
    "    'Item_Type_Hard_Drinks',\n",
    "    'Item_Type_Health_and_Hygiene',\n",
    "    'Item_Type_Household',\n",
    "    'Item_Type_Meat',\n",
    "    'Item_Type_Others',\n",
    "    'Item_Type_Seafood',\n",
    "    'Item_Type_Snack_Foods',\n",
    "    'Item_Type_Soft_Drinks',\n",
    "    'Item_Type_Starchy_Foods'\n",
    "]"
   ]
  },
  {
   "cell_type": "code",
   "execution_count": null,
   "metadata": {},
   "outputs": [],
   "source": [
    "x_train_transformed = x_train_transformed[features_columns]\n",
    "x_test_transformed = x_test_transformed[features_columns]"
   ]
  },
  {
   "cell_type": "code",
   "execution_count": null,
   "metadata": {},
   "outputs": [],
   "source": [
    "display(x_train_transformed.head())\n",
    "display(x_test_transformed.head())"
   ]
  },
  {
   "cell_type": "markdown",
   "metadata": {},
   "source": [
    "## 8) Padronização dos Dados"
   ]
  },
  {
   "cell_type": "code",
   "execution_count": null,
   "metadata": {},
   "outputs": [],
   "source": [
    "x_train_transformed"
   ]
  },
  {
   "cell_type": "code",
   "execution_count": null,
   "metadata": {},
   "outputs": [],
   "source": [
    "from sklearn.preprocessing import StandardScaler"
   ]
  },
  {
   "cell_type": "code",
   "execution_count": null,
   "metadata": {},
   "outputs": [],
   "source": [
    "standard_scaler = StandardScaler()\n",
    "\n",
    "x_train_scaled = standard_scaler.fit_transform(x_train_transformed)\n",
    "x_test_scaled = standard_scaler.transform(x_test_transformed)"
   ]
  },
  {
   "cell_type": "markdown",
   "metadata": {},
   "source": [
    "## 11) Primeira modelagem"
   ]
  },
  {
   "cell_type": "markdown",
   "metadata": {},
   "source": [
    "### Métricas de Avaliação\n",
    "\n",
    "**Erro de Previsão (E)**\n",
    "\n",
    "* Significado: o Erro de Previsão é a diferença entre o valor observado e o valor previsto pelo modelo.\n",
    "* Fórmula: $\\text{E} = y_i - \\hat{y}_i$. O termo $y_{i}$ corresponde aos valores observados da variável de interesse que o modelo desconhece. Já o termo $\\hat{y}_{i}$ corresponde aos valores previstos pelo modelo. O índice $_i$ corresponde ao i-ésimo ponto de previsão fora da amostra.\n",
    "* Interpretação: se o valor do Erro de Previsão for igual a zero, diz-se que o modelo prevê perfeitamente os dados; se valor for maior do que zero, o modelo possui viés positivo nas previsões; e se o valor for menor do que zero, o modelo possui viés negativo nas previsões.\n",
    "\n",
    "\n",
    "**Erro Médio (ME)**\n",
    "* Significado: o Erro Médio é a diferença média entre os valores observados e os valores previstos pelo modelo.\n",
    "* Fórmula: $\\text{ME} = \\text{média} (\\text{E})$\n",
    "* Interpretação: um valor positivo de ME indica superestimação; um valor negativo de ME indica subestimação; idealmente, o valor de ME deve ser zero ou próximo de zero.\n",
    "\n",
    "\n",
    "**Erro Absoluto Médio (MAE)**\n",
    "* Significado: o Erro Absoluto Médio é a diferença absoluta média entre os valores observados e os valores previstos pelo modelo.\n",
    "* Fórmula: $\\text{MAE} = \\text{média} (|\\text{E}|)$\n",
    "* Interpretação: quanto menor o valor do MAE, mais acuradas são as previsões do modelo.\n",
    "\n",
    "\n",
    "**Erro Quadrático Médio (MSE)**\n",
    "* Significado: o Erro Quadrático Médio é a diferença quadrática média entre os valores observados e os valores previstos pelo modelo.\n",
    "* Fórmula: $\\text{MSE} = \\text{média} (\\text{E}^2)$\n",
    "* Interpretação: quanto menor o valor do MSE, mais acuradas são as previsões do modelo; erros grandes são “penalizados” pela potenciação. Modelos que minimizam o MSE levam a previsões da mediana.\n",
    "\n",
    "\n",
    "**Raiz do Erro Quadrático Médio (RMSE)**\n",
    "* Significado: a Raiz do Erro Quadrático Médio é a raiz quadrada da diferença quadrática média entre os valores observados e os valores previstos pelo modelo.\n",
    "* Fórmula: $\\text{RMSE} = \\sqrt{\\text{MSE}}$\n",
    "* Interpretação: quanto menor o valor do RMSE, mais acuradas são as previsões do modelo; erros grandes são “penalizados” pela potenciação. Modelos que minimizam o RMSE levam a previsões da média.\n",
    "\n",
    "\n",
    "**Erro Percentual (PE)**\n",
    "* Significado: o Erro Percentual é o percentual de erros de previsão em relação aos valores observados.\n",
    "* Fórmula: $\\text{PE} = 100 \\text{E}_{i}/y_{i}$\n",
    "* Interpretação: um PE igual a zero indica que o modelo prevê perfeitamente os dados; quanto maior o valor de PE, maior a discrepância entre os valores observados e previstos.\n",
    "\n",
    "\n",
    "**Erro Percentual Absoluto Médio (MAPE)**\n",
    "*  Significado: o Erro Percentual Absoluto Médio é a média do percentual absoluto de erros de previsão em relação aos valores observados.\n",
    "*  Fórmula: $\\text{MAPE} = \\text{média} (|\\text{PE}|)$\n",
    "*  Interpretação: um MAPE igual a zero indica que o modelo prevê perfeitamente os dados; quanto maior o valor de MAPE, maior a discrepância entre os valores observados e previstos.\n",
    "\n",
    "**R²**\n",
    "* A métrica R², também conhecida como R-dois ou coeficiente de determinação, representa o percentual da variância dos dados que é explicado pelo modelo. Os resultados variam de 0 a 1, geralmente também são expressos em termos percentuais, ou seja, variando entre 0% e 100%. Quanto maior é o valor de R², mais explicativo é o modelo em relação aos dados previstos. Na equação 2 é mostrado o cálculo desta métrica, no qual y e ŷ os valores reais e previstos, respectivamente, e y-barra representa a média dos valores reais.\n",
    "\n",
    "$$\n",
    "R^2 = 1 - \\frac{{\\text{{Soma dos Quadrados dos Resíduos (SQRes)}}}}{{\\text{{Soma Total dos Quadrados (SQT)}}}}\n",
    "$$\n",
    "\n",
    "* Onde:\n",
    "- **SQRes** é a soma dos quadrados dos resíduos (ou erros) entre os valores previstos pelo modelo e os valores reais observados.\n",
    "- **SQT** é a soma total dos quadrados, que representa a variabilidade total dos dados em relação à média.\n",
    "\n",
    "* Porém, utilizando somente esta métrica, será que um valor de 0,5 já seria o suficiente para colocar o modelo em produção? Faz-se necessário aproximar ainda mais o seu resultado para 1? Para responder a essa e outras perguntas, deve-se sempre utilizar outras métricas para se ter uma visão global sobre a performance do modelo.\n",
    "\n",
    "---\n",
    "\n",
    "**Referências**\n",
    "* [1] Silva, Fernando. MAE, RMSE, ACC, F1, ROC, R2? AVALIAÇÃO DE DESEMPENHO DE MODELOS PREDITIVOS. 27 de outubro de 2023. Disponível em: <a href=\"https://analisemacro.com.br/econometria-e-machine-learning/mae-rmse-acc-f1-roc-r2-avaliacao-de-desempenho-de-modelos-preditivos/\" target=\"_blank\">Análise Macro</a>\n",
    "* [2] Júnior, Clébio. Métricas para Regressão: Entendendo as métricas R², MAE, MAPE, MSE e RMSE. 12 de dezembro de 2021. Disponível em <a href=\"https://medium.com/data-hackers/prevendo-n%C3%BAmeros-entendendo-m%C3%A9tricas-de-regress%C3%A3o-35545e011e70\" target=\"_blank\">Medium</a>\n",
    "\n",
    "---\n",
    "\n",
    "Para esse projeto irei utilizar o **$R²$** e o **$MAPE$**."
   ]
  },
  {
   "cell_type": "code",
   "execution_count": null,
   "metadata": {},
   "outputs": [],
   "source": [
    "features_columns = list(x_train_transformed.columns)"
   ]
  },
  {
   "cell_type": "markdown",
   "metadata": {},
   "source": [
    "**Decision Tree**"
   ]
  },
  {
   "cell_type": "code",
   "execution_count": null,
   "metadata": {},
   "outputs": [],
   "source": [
    "from sklearn.tree import DecisionTreeRegressor"
   ]
  },
  {
   "cell_type": "code",
   "execution_count": null,
   "metadata": {},
   "outputs": [],
   "source": [
    "X = x_train_scaled\n",
    "y = y_train\n",
    "\n",
    "tree_reg = DecisionTreeRegressor(max_depth=15)\n",
    "tree_reg.fit(X, y)\n",
    "\n",
    "predicted_train = tree_reg.predict(X)\n",
    "predicted_test = tree_reg.predict(x_test_scaled)\n",
    "\n",
    "x_train_transformed['Outlet_Sales'] = y_train\n",
    "x_test_transformed['Outlet_Sales'] = y_test\n",
    "\n",
    "x_train_transformed['Predicted'] = predicted_train\n",
    "x_test_transformed['Predicted'] = predicted_test"
   ]
  },
  {
   "cell_type": "code",
   "execution_count": null,
   "metadata": {},
   "outputs": [],
   "source": [
    "importances = tree_reg.feature_importances_\n",
    "df_results = pd.DataFrame({'Feature': features_columns, 'Importance': importances}).sort_values(by=['Importance'], ascending=False)\n",
    "\n",
    "\n",
    "plt.figure(figsize=(14, 6))\n",
    "\n",
    "sns.barplot(data=df_results, x='Importance', y='Feature',)\n",
    "plt.xlabel('Importance')\n",
    "plt.ylabel('Feature')\n",
    "plt.title('Feature Importances')\n",
    "plt.show()"
   ]
  },
  {
   "cell_type": "markdown",
   "metadata": {},
   "source": [
    "### Métricas de avaliação"
   ]
  },
  {
   "cell_type": "markdown",
   "metadata": {},
   "source": [
    "**MAPE**"
   ]
  },
  {
   "cell_type": "code",
   "execution_count": null,
   "metadata": {},
   "outputs": [],
   "source": [
    "train_mape = mean_absolute_percentage_error(x_train_transformed['Outlet_Sales'], x_train_transformed['Predicted'])\n",
    "test_mape = mean_absolute_percentage_error(x_test_transformed['Outlet_Sales'], x_test_transformed['Predicted'])\n",
    "\n",
    "train_mape, test_mape"
   ]
  },
  {
   "cell_type": "markdown",
   "metadata": {},
   "source": [
    "**R²**"
   ]
  },
  {
   "cell_type": "code",
   "execution_count": null,
   "metadata": {},
   "outputs": [],
   "source": [
    "train_r2 = r2_score(x_train_transformed['Outlet_Sales'], x_train_transformed['Predicted'])\n",
    "test_r2 = r2_score(x_test_transformed['Outlet_Sales'], x_test_transformed['Predicted'])\n",
    "\n",
    "train_r2, test_r2"
   ]
  },
  {
   "cell_type": "markdown",
   "metadata": {},
   "source": [
    "## 12) Testar diferentes modelos"
   ]
  },
  {
   "cell_type": "markdown",
   "metadata": {},
   "source": [
    "**Decision Tree with Grid Search**"
   ]
  },
  {
   "cell_type": "code",
   "execution_count": null,
   "metadata": {},
   "outputs": [],
   "source": [
    "from sklearn.model_selection import GridSearchCV\n",
    "from sklearn.metrics import make_scorer"
   ]
  },
  {
   "cell_type": "code",
   "execution_count": null,
   "metadata": {},
   "outputs": [],
   "source": [
    "X = x_train_scaled\n",
    "y = y_train\n",
    "\n",
    "tree_reg = DecisionTreeRegressor()\n",
    "\n",
    "param_grid = {\n",
    "    'max_depth': [None, 5, 10, 15, 20, 50, 100],\n",
    "    'min_samples_split': [2, 5, 10, 20, 40],\n",
    "    'min_samples_leaf': [1, 2, 4, 6, 10, 20],\n",
    "    'max_features': [None, 'auto', 'sqrt', 'log2'],\n",
    "    'splitter': ['best', 'random']\n",
    "}\n",
    "\n",
    "scorer = make_scorer(mean_absolute_percentage_error, greater_is_better=False)\n",
    "\n",
    "\n",
    "grid_search = GridSearchCV(tree_reg, param_grid, scoring=scorer, cv=5, n_jobs=-1)\n",
    "\n",
    "grid_search.fit(X, y)"
   ]
  },
  {
   "cell_type": "code",
   "execution_count": null,
   "metadata": {},
   "outputs": [],
   "source": [
    "print(\"Best parameters found: \", grid_search.best_params_)\n",
    "\n",
    "print(\"Best score found: \", grid_search.best_score_)"
   ]
  },
  {
   "cell_type": "code",
   "execution_count": null,
   "metadata": {},
   "outputs": [],
   "source": [
    "tree_reg = DecisionTreeRegressor(\n",
    "    max_depth=grid_search.best_params_['max_depth'],\n",
    "    max_features=grid_search.best_params_['max_features'],\n",
    "    min_samples_leaf=grid_search.best_params_['min_samples_leaf'],\n",
    "    min_samples_split=grid_search.best_params_['min_samples_split'],\n",
    "    splitter=grid_search.best_params_['splitter']\n",
    ")\n",
    "\n",
    "tree_reg.fit(X, y)\n",
    "\n",
    "predicted_train = tree_reg.predict(X)\n",
    "predicted_test = tree_reg.predict(x_test_scaled)\n",
    "\n",
    "x_train_transformed['Outlet_Sales'] = y_train\n",
    "x_test_transformed['Outlet_Sales'] = y_test\n",
    "\n",
    "x_train_transformed['Predicted'] = predicted_train\n",
    "x_test_transformed['Predicted'] = predicted_test"
   ]
  },
  {
   "cell_type": "markdown",
   "metadata": {},
   "source": [
    "**MAPE**"
   ]
  },
  {
   "cell_type": "code",
   "execution_count": null,
   "metadata": {},
   "outputs": [],
   "source": [
    "train_mape = mean_absolute_percentage_error(x_train_transformed['Outlet_Sales'], x_train_transformed['Predicted'])\n",
    "test_mape = mean_absolute_percentage_error(x_test_transformed['Outlet_Sales'], x_test_transformed['Predicted'])\n",
    "\n",
    "train_mape, test_mape"
   ]
  },
  {
   "cell_type": "markdown",
   "metadata": {},
   "source": [
    "**R²**"
   ]
  },
  {
   "cell_type": "code",
   "execution_count": null,
   "metadata": {},
   "outputs": [],
   "source": [
    "train_r2 = r2_score(x_train_transformed['Outlet_Sales'], x_train_transformed['Predicted'])\n",
    "test_r2 = r2_score(x_test_transformed['Outlet_Sales'], x_test_transformed['Predicted'])\n",
    "\n",
    "train_r2, test_r2"
   ]
  },
  {
   "cell_type": "markdown",
   "metadata": {},
   "source": [
    "### 12.1) Random Forest"
   ]
  },
  {
   "cell_type": "code",
   "execution_count": null,
   "metadata": {},
   "outputs": [],
   "source": [
    "from sklearn.ensemble import RandomForestRegressor"
   ]
  },
  {
   "cell_type": "code",
   "execution_count": null,
   "metadata": {},
   "outputs": [],
   "source": [
    "X = x_train_scaled\n",
    "y = y_train\n",
    "\n",
    "rf_reg = DecisionTreeRegressor(max_depth=10)\n",
    "rf_reg.fit(X, y)\n",
    "\n",
    "predicted_train = rf_reg.predict(X)\n",
    "predicted_test = rf_reg.predict(x_test_scaled)\n",
    "\n",
    "x_train_transformed['Outlet_Sales'] = y_train\n",
    "x_test_transformed['Outlet_Sales'] = y_test\n",
    "\n",
    "x_train_transformed['Predicted'] = predicted_train\n",
    "x_test_transformed['Predicted'] = predicted_test"
   ]
  },
  {
   "cell_type": "code",
   "execution_count": null,
   "metadata": {},
   "outputs": [],
   "source": [
    "train_mape = round(mean_absolute_percentage_error(x_train_transformed['Outlet_Sales'], x_train_transformed['Predicted']), 3)\n",
    "test_mape = round(mean_absolute_percentage_error(x_test_transformed['Outlet_Sales'], x_test_transformed['Predicted']), 3)\n",
    "train_r2 = round(r2_score(x_train_transformed['Outlet_Sales'], x_train_transformed['Predicted']), 3)\n",
    "test_r2 = round(r2_score(x_test_transformed['Outlet_Sales'], x_test_transformed['Predicted']), 3)\n",
    "\n",
    "print('MAPE Results:')\n",
    "print(f'Train: {train_mape}')\n",
    "print(f'Test: {test_mape}')\n",
    "\n",
    "print('\\nR2 Results:')\n",
    "print(f'Train: {train_r2}')\n",
    "print(f'Test: {test_r2}')\n"
   ]
  },
  {
   "cell_type": "code",
   "execution_count": null,
   "metadata": {},
   "outputs": [],
   "source": [
    "importances = tree_reg.feature_importances_\n",
    "df_results = pd.DataFrame({'Feature': features_columns, 'Importance': importances}).sort_values(by=['Importance'], ascending=False)\n",
    "\n",
    "\n",
    "plt.figure(figsize=(14, 6))\n",
    "\n",
    "sns.barplot(data=df_results, x='Importance', y='Feature')\n",
    "plt.xlabel('Importance')\n",
    "plt.ylabel('Feature')\n",
    "plt.title('Feature Importances')\n",
    "plt.show()"
   ]
  },
  {
   "cell_type": "markdown",
   "metadata": {},
   "source": [
    "### 12.2) LightGBM"
   ]
  },
  {
   "cell_type": "code",
   "execution_count": null,
   "metadata": {},
   "outputs": [],
   "source": [
    "from lightgbm import LGBMRegressor"
   ]
  },
  {
   "cell_type": "code",
   "execution_count": null,
   "metadata": {},
   "outputs": [],
   "source": [
    "params = {\n",
    "    'num_leaves': 81,\n",
    "    'n_estimators': 25,\n",
    "    'max_depth': 10,\n",
    "    'learning_rate': 0.1,\n",
    "    'objective': 'regression_l2',\n",
    "    'boosting_type': 'gbdt',\n",
    "    'early_stopping_rounds': None,\n",
    "}"
   ]
  },
  {
   "cell_type": "code",
   "execution_count": null,
   "metadata": {},
   "outputs": [],
   "source": [
    "# weight = np.random.uniform(0, 3, size=6392)\n",
    "weight = sample_weights = np.random.rand(len(X))\n",
    "weight"
   ]
  },
  {
   "cell_type": "code",
   "execution_count": null,
   "metadata": {},
   "outputs": [],
   "source": [
    "X = x_train_scaled\n",
    "y = y_train\n",
    "\n",
    "lgbm = LGBMRegressor(**params)\n",
    "lgbm.fit(X, y, sample_weight=weight)\n",
    "\n",
    "predicted_train = lgbm.predict(X)\n",
    "predicted_test = lgbm.predict(x_test_scaled)\n",
    "\n",
    "x_train_transformed['Outlet_Sales'] = y_train\n",
    "x_test_transformed['Outlet_Sales'] = y_test\n",
    "\n",
    "x_train_transformed['Predicted'] = predicted_train\n",
    "x_test_transformed['Predicted'] = predicted_test"
   ]
  },
  {
   "cell_type": "code",
   "execution_count": null,
   "metadata": {},
   "outputs": [],
   "source": [
    "train_mape = round(mean_absolute_percentage_error(x_train_transformed['Outlet_Sales'], x_train_transformed['Predicted']), 3)\n",
    "test_mape = round(mean_absolute_percentage_error(x_test_transformed['Outlet_Sales'], x_test_transformed['Predicted']), 3)\n",
    "train_r2 = round(r2_score(x_train_transformed['Outlet_Sales'], x_train_transformed['Predicted']), 3)\n",
    "test_r2 = round(r2_score(x_test_transformed['Outlet_Sales'], x_test_transformed['Predicted']), 3)\n",
    "\n",
    "print('MAPE Results:')\n",
    "print(f'Train: {train_mape}')\n",
    "print(f'Test: {test_mape}')\n",
    "\n",
    "print('\\nR2 Results:')\n",
    "print(f'Train: {train_r2}')\n",
    "print(f'Test: {test_r2}')\n"
   ]
  },
  {
   "cell_type": "markdown",
   "metadata": {},
   "source": [
    "---\n",
    "**Grid Search**"
   ]
  },
  {
   "cell_type": "code",
   "execution_count": null,
   "metadata": {},
   "outputs": [],
   "source": [
    "lgbm = LGBMRegressor()\n",
    "\n",
    "param_grid = {\n",
    "    'num_leaves': [10, 20, 40, 50, 80, 100, 1000],\n",
    "    'n_estimators': [10, 25, 45, 100],\n",
    "    'max_depth': [10, 30, 50],\n",
    "    'learning_rate': [0.1, 0.01, 0.001],\n",
    "    'objective': ['mape'],\n",
    "    'boosting_type': ['gbdt'],\n",
    "}\n",
    "\n",
    "scorer = make_scorer(mean_absolute_percentage_error, greater_is_better=False)\n",
    "\n",
    "\n",
    "grid_search = GridSearchCV(lgbm, param_grid, scoring=scorer, cv=5, n_jobs=-1)\n",
    "\n",
    "grid_search.fit(X, y)"
   ]
  },
  {
   "cell_type": "code",
   "execution_count": null,
   "metadata": {},
   "outputs": [],
   "source": [
    "print(\"Best parameters found: \", grid_search.best_params_)\n",
    "print(\"Best score found: \", grid_search.best_score_)"
   ]
  },
  {
   "cell_type": "code",
   "execution_count": null,
   "metadata": {},
   "outputs": [],
   "source": [
    "params = {\n",
    "    'num_leaves': grid_search.best_params_['num_leaves'],\n",
    "    'n_estimators': grid_search.best_params_['n_estimators'],\n",
    "    'max_depth': grid_search.best_params_['max_depth'],\n",
    "    'learning_rate': grid_search.best_params_['learning_rate'],\n",
    "    'objective': grid_search.best_params_['objective'],\n",
    "    'boosting_type': grid_search.best_params_['boosting_type'],\n",
    "}\n",
    "\n",
    "X = x_train_scaled\n",
    "y = y_train\n",
    "\n",
    "lgbm = LGBMRegressor(**params)\n",
    "lgbm.fit(X, y)\n",
    "\n",
    "predicted_train = lgbm.predict(X)\n",
    "predicted_test = lgbm.predict(x_test_scaled)\n",
    "\n",
    "x_train_transformed['Outlet_Sales'] = y_train\n",
    "x_test_transformed['Outlet_Sales'] = y_test\n",
    "\n",
    "x_train_transformed['Predicted'] = predicted_train\n",
    "x_test_transformed['Predicted'] = predicted_test"
   ]
  },
  {
   "cell_type": "code",
   "execution_count": null,
   "metadata": {},
   "outputs": [],
   "source": [
    "train_mape = round(mean_absolute_percentage_error(x_train_transformed['Outlet_Sales'], x_train_transformed['Predicted']), 3)\n",
    "test_mape = round(mean_absolute_percentage_error(x_test_transformed['Outlet_Sales'], x_test_transformed['Predicted']), 3)\n",
    "train_r2 = round(r2_score(x_train_transformed['Outlet_Sales'], x_train_transformed['Predicted']), 3)\n",
    "test_r2 = round(r2_score(x_test_transformed['Outlet_Sales'], x_test_transformed['Predicted']), 3)\n",
    "\n",
    "print('MAPE Results:')\n",
    "print(f'Train: {train_mape}')\n",
    "print(f'Test: {test_mape}')\n",
    "\n",
    "print('\\nR2 Results:')\n",
    "print(f'Train: {train_r2}')\n",
    "print(f'Test: {test_r2}')\n"
   ]
  },
  {
   "cell_type": "markdown",
   "metadata": {},
   "source": [
    "### 12.3) XGBoost"
   ]
  },
  {
   "cell_type": "code",
   "execution_count": null,
   "metadata": {},
   "outputs": [],
   "source": [
    "# !pip install xgboost"
   ]
  },
  {
   "cell_type": "code",
   "execution_count": null,
   "metadata": {},
   "outputs": [],
   "source": [
    "import xgboost as xgb"
   ]
  },
  {
   "cell_type": "code",
   "execution_count": null,
   "metadata": {},
   "outputs": [],
   "source": [
    "X = x_train_scaled\n",
    "y = y_train\n",
    "\n",
    "xgb_reg = xgb.XGBRegressor()\n",
    "xgb_reg.fit(X, y)\n",
    "\n",
    "predicted_train = xgb_reg.predict(X)\n",
    "predicted_test = xgb_reg.predict(x_test_scaled)\n",
    "\n",
    "x_train_transformed['Outlet_Sales'] = y_train\n",
    "x_test_transformed['Outlet_Sales'] = y_test\n",
    "\n",
    "x_train_transformed['Predicted'] = predicted_train\n",
    "x_test_transformed['Predicted'] = predicted_test"
   ]
  },
  {
   "cell_type": "code",
   "execution_count": null,
   "metadata": {},
   "outputs": [],
   "source": [
    "train_mape = round(mean_absolute_percentage_error(x_train_transformed['Outlet_Sales'], x_train_transformed['Predicted']), 3)\n",
    "test_mape = round(mean_absolute_percentage_error(x_test_transformed['Outlet_Sales'], x_test_transformed['Predicted']), 3)\n",
    "train_r2 = round(r2_score(x_train_transformed['Outlet_Sales'], x_train_transformed['Predicted']), 3)\n",
    "test_r2 = round(r2_score(x_test_transformed['Outlet_Sales'], x_test_transformed['Predicted']), 3)\n",
    "\n",
    "print('MAPE Results:')\n",
    "print(f'Train: {train_mape}')\n",
    "print(f'Test: {test_mape}')\n",
    "\n",
    "print('\\nR2 Results:')\n",
    "print(f'Train: {train_r2}')\n",
    "print(f'Test: {test_r2}')"
   ]
  },
  {
   "cell_type": "markdown",
   "metadata": {},
   "source": [
    "### 12.4) SVM (Support Vector Machine)"
   ]
  },
  {
   "cell_type": "code",
   "execution_count": null,
   "metadata": {},
   "outputs": [],
   "source": [
    "from sklearn.svm import SVR"
   ]
  },
  {
   "cell_type": "code",
   "execution_count": null,
   "metadata": {},
   "outputs": [],
   "source": [
    "X = x_train_scaled\n",
    "y = y_train\n",
    "\n",
    "svm_reg = SVR()\n",
    "svm_reg.fit(X, y)\n",
    "\n",
    "predicted_train = svm_reg.predict(X)\n",
    "predicted_test = svm_reg.predict(x_test_scaled)\n",
    "\n",
    "x_train_transformed['Outlet_Sales'] = y_train\n",
    "x_test_transformed['Outlet_Sales'] = y_test\n",
    "\n",
    "x_train_transformed['Predicted'] = predicted_train\n",
    "x_test_transformed['Predicted'] = predicted_test"
   ]
  },
  {
   "cell_type": "code",
   "execution_count": null,
   "metadata": {},
   "outputs": [],
   "source": [
    "train_mape = round(mean_absolute_percentage_error(x_train_transformed['Outlet_Sales'], x_train_transformed['Predicted']), 3)\n",
    "test_mape = round(mean_absolute_percentage_error(x_test_transformed['Outlet_Sales'], x_test_transformed['Predicted']), 3)\n",
    "train_r2 = round(r2_score(x_train_transformed['Outlet_Sales'], x_train_transformed['Predicted']), 3)\n",
    "test_r2 = round(r2_score(x_test_transformed['Outlet_Sales'], x_test_transformed['Predicted']), 3)\n",
    "\n",
    "print('MAPE Results:')\n",
    "print(f'Train: {train_mape}')\n",
    "print(f'Test: {test_mape}')\n",
    "\n",
    "print('\\nR2 Results:')\n",
    "print(f'Train: {train_r2}')\n",
    "print(f'Test: {test_r2}')"
   ]
  },
  {
   "cell_type": "markdown",
   "metadata": {},
   "source": [
    "## 13) Ajustar Hiperparâmetros"
   ]
  },
  {
   "cell_type": "code",
   "execution_count": null,
   "metadata": {},
   "outputs": [],
   "source": [
    "xgb_reg = xgb.XGBRegressor()\n",
    "\n",
    "param_grid = {\n",
    "    'booster': ['gbtree', 'gblinear', 'dart'],\n",
    "    'eta': [0.01, 0.05, 0.1, 0.5],\n",
    "    'max_depth': [2,8,12,15,20],\n",
    "    'min_child_weight': [1,2,5],\n",
    "    # 'lambda': [0, 0.1, 0.5, 1],\n",
    "    # 'alpha': [0, 0.1, 0.5, 1],\n",
    "    # 'max_leaves': [0,1,4],\n",
    "    # 'max_bin': [10, 100, 256, 512]\n",
    "}\n",
    "\n",
    "scorer = make_scorer(mean_absolute_percentage_error, greater_is_better=False)\n",
    "\n",
    "\n",
    "grid_search = GridSearchCV(xgb_reg, param_grid, scoring=scorer, cv=5, n_jobs=-1)\n",
    "\n",
    "grid_search.fit(X, y)"
   ]
  },
  {
   "cell_type": "code",
   "execution_count": null,
   "metadata": {},
   "outputs": [],
   "source": [
    "print(\"Best parameters found: \", grid_search.best_params_)\n",
    "print(\"Best score found: \", grid_search.best_score_)"
   ]
  },
  {
   "cell_type": "code",
   "execution_count": null,
   "metadata": {},
   "outputs": [],
   "source": [
    "params = {\n",
    "    'booster': grid_search.best_params_['booster'],\n",
    "    'eta': grid_search.best_params_['eta'],\n",
    "    'max_depth': grid_search.best_params_['max_depth'],\n",
    "    'min_child_weight': grid_search.best_params_['min_child_weight'],\n",
    "}\n",
    "\n",
    "X = x_train_scaled\n",
    "y = y_train\n",
    "\n",
    "xgb_reg = xgb.XGBRegressor()\n",
    "xgb_reg.fit(X, y)\n",
    "\n",
    "predicted_train = xgb_reg.predict(X)\n",
    "predicted_test = xgb_reg.predict(x_test_scaled)\n",
    "\n",
    "x_train_transformed['Outlet_Sales'] = y_train\n",
    "x_test_transformed['Outlet_Sales'] = y_test\n",
    "\n",
    "x_train_transformed['Predicted'] = predicted_train\n",
    "x_test_transformed['Predicted'] = predicted_test"
   ]
  },
  {
   "cell_type": "code",
   "execution_count": null,
   "metadata": {},
   "outputs": [],
   "source": [
    "train_mape = round(mean_absolute_percentage_error(x_train_transformed['Outlet_Sales'], x_train_transformed['Predicted']), 3)\n",
    "test_mape = round(mean_absolute_percentage_error(x_test_transformed['Outlet_Sales'], x_test_transformed['Predicted']), 3)\n",
    "train_r2 = round(r2_score(x_train_transformed['Outlet_Sales'], x_train_transformed['Predicted']), 3)\n",
    "test_r2 = round(r2_score(x_test_transformed['Outlet_Sales'], x_test_transformed['Predicted']), 3)\n",
    "\n",
    "print('MAPE Results:')\n",
    "print(f'Train: {train_mape}')\n",
    "print(f'Test: {test_mape}')\n",
    "\n",
    "print('\\nR2 Results:')\n",
    "print(f'Train: {train_r2}')\n",
    "print(f'Test: {test_r2}')"
   ]
  },
  {
   "cell_type": "markdown",
   "metadata": {},
   "source": [
    "# Fim"
   ]
  },
  {
   "cell_type": "code",
   "execution_count": null,
   "metadata": {},
   "outputs": [],
   "source": [
    "x_train_transformed.drop(columns=['Predicted'], inplace=True)\n",
    "x_test_transformed.drop(columns=['Predicted'], inplace=True)"
   ]
  },
  {
   "cell_type": "code",
   "execution_count": null,
   "metadata": {},
   "outputs": [],
   "source": [
    "x_train_transformed.to_parquet('../data/x_train_transformed.parquet', compression='gzip', engine='pyarrow')\n",
    "x_test_transformed.to_parquet('../data/x_test_transformed.parquet', compression='gzip', engine='pyarrow')"
   ]
  }
 ],
 "metadata": {
  "kernelspec": {
   "display_name": "base",
   "language": "python",
   "name": "python3"
  },
  "language_info": {
   "codemirror_mode": {
    "name": "ipython",
    "version": 3
   },
   "file_extension": ".py",
   "mimetype": "text/x-python",
   "name": "python",
   "nbconvert_exporter": "python",
   "pygments_lexer": "ipython3",
   "version": "3.11.7"
  }
 },
 "nbformat": 4,
 "nbformat_minor": 2
}
