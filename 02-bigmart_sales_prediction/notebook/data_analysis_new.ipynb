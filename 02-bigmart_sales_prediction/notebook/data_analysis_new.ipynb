{
 "cells": [
  {
   "cell_type": "markdown",
   "metadata": {},
   "source": [
    "# Data Analysis - Sales Prediction for Big Mart Outlets"
   ]
  },
  {
   "cell_type": "markdown",
   "metadata": {},
   "source": [
    "## 1) Business problem\n",
    "\n",
    "URL Project: [Sales Prediction for Big Mart Outlets](https://www.kaggle.com/datasets/shivan118/big-mart-sales-prediction-datasets?select=test.csv)\n",
    "\n",
    "The data scientists at BigMart have collected 2013 sales data for 1559 products across 10 stores in different cities. Also, certain attributes of each product and store have been defined. The aim is to build a predictive model and predict the sales of each product at a particular outlet.\n",
    "\n",
    "Using this model, BigMart will try to understand the properties of products and outlets which play a key role in increasing sales.\n",
    "\n",
    "Please note that the data may have missing values as some stores might not report all the data due to technical glitches. Hence, it will be required to treat them accordingly.\n",
    "\n",
    "**Data Dictionary**\n",
    "\n",
    "We have a train (8523) and test (5681) data set, the train data set has both input and output variable(s). You need to predict the sales for the test data set.\n",
    "\n",
    "#### Train file:\n",
    "CSV containing the item outlet information with a sales value\n",
    "\n",
    "**Variable Description**\n",
    "* *Item_Identifier*: Unique product ID\n",
    "* *Item_Weight*: Weight of product\n",
    "* *Item_Fat_Content*: Whether the product is low fat or not\n",
    "* *Item_Visibility*: The % of the total display area of all products in a store allocated to the particular product\n",
    "* *Item_Type*: The category to which the product belongs\n",
    "* *Item_MRP*: Maximum Retail Price (list price) of the product\n",
    "* *Outlet_Identifier*: Unique store ID\n",
    "* *Outlet_Establishment_Year*: The year in which the store was established\n",
    "* *Outlet_Size*: The size of the store in terms of ground area covered\n",
    "* *Outlet_Location_Type*: The type of city in which the store is located\n",
    "* *Outlet_Type*: Whether the outlet is just a grocery store or some sort of supermarket\n",
    "* *Item_Outlet_Sales*: sales of the product in t particular store. This is the outcome variable to be predicted.\n",
    "\n",
    "### Test file:\n",
    "CSV containing item outlet combinations for which sales need to be forecasted\n",
    "\n",
    "**Variable Description**\n",
    "* *Item_Identifier*:  Unique product ID\n",
    "* *Item_Weight*: Weight of product\n",
    "* *Item_Fat_Content*:  Whether the product is low fat or not\n",
    "* *Item_Visibility*: The % of the total display area of all products in a store allocated to the particular product\n",
    "* *Item_Type*: The category to which the product belongs\n",
    "* *Item_MRP*:  Maximum Retail Price (list price) of the product\n",
    "* *Outlet_Identifier*:  Unique store ID\n",
    "* *Outlet_Establishment_Year*:  The year in which store store was established\n",
    "* *Outlet_Size*:  The size of the store in terms of ground area covered\n",
    "* *Outlet_Location_Type*: The type of city in which the store is located\n",
    "* *Outlet_Type*: whether the outlet is just a grocery store or some sort of supermarket\n",
    "\n",
    "### Submission file format\n",
    "**Variable Description**\n",
    "* *Item_Identifier*:  Unique product ID\n",
    "* *Outlet_Identifier*:  Unique store ID\n",
    "* *Item_Outlet_Sales*:  Sales of the product in t particular store. This is the outcome variable to be predicted.\n",
    "\n",
    "**Evaluation Metric**\n",
    "\n",
    "Your model performance will be evaluated on the basis of your prediction of the sales for the test data (test.csv), which contains similar data-points as train except for the sales to be predicted. Your submission needs to be in the format as shown in the same sample submission.\n",
    "\n",
    "We at our end, have the actual sales for the test dataset, against which your predictions will be evaluated. We will use the Root Mean Square Error value to judge your response."
   ]
  },
  {
   "cell_type": "markdown",
   "metadata": {},
   "source": [
    "### 1.1) Imports and Load Data"
   ]
  },
  {
   "cell_type": "code",
   "execution_count": 74,
   "metadata": {},
   "outputs": [],
   "source": [
    "import pandas as pd\n",
    "import numpy as np\n",
    "\n",
    "from scipy.stats import normaltest, zscore\n",
    "from sklearn.preprocessing import LabelEncoder\n",
    "\n",
    "import matplotlib.pyplot as plt\n",
    "import seaborn as sns\n",
    "import plotly.graph_objects as go\n",
    "import missingno\n",
    "\n",
    "\n",
    "import warnings\n",
    "warnings.filterwarnings(\"ignore\")\n",
    "pd.set_option('display.max_columns', None)\n",
    "sns.set_style(\"darkgrid\", {\"axes.facecolor\": \".95\"})\n",
    "sns.set_context(\"paper\")"
   ]
  },
  {
   "cell_type": "markdown",
   "metadata": {},
   "source": [
    "### 1.2) Utilities Functions"
   ]
  },
  {
   "cell_type": "code",
   "execution_count": 2,
   "metadata": {},
   "outputs": [],
   "source": [
    "def currencyFormatting(value):\n",
    "    if value / 1000000 > 1:\n",
    "        return f'$ {str(round(value/1000000, 2))}M'\n",
    "    elif value / 100000 > 1:\n",
    "        return f'$ {str(round(value/100000, 2))}KK'\n",
    "    elif value / 1000 > 1:\n",
    "        return f'$ {str(round(value/10000, 2))}k'\n",
    "    else: \n",
    "        return f'$ {str(round(value, 2))}'"
   ]
  },
  {
   "cell_type": "code",
   "execution_count": 3,
   "metadata": {},
   "outputs": [],
   "source": [
    "def resumeNumber(value):\n",
    "    if value / 1000000 > 1:\n",
    "        return f'{str(round(value/1000000, 2))}M'\n",
    "    elif value / 100000 > 1:\n",
    "        return f'{str(round(value/100000, 2))}KK'\n",
    "    elif value / 1000 > 1:\n",
    "        return f'{str(round(value/10000, 2))}k'\n",
    "    else: \n",
    "        return f'{str(round(value, 2))}'"
   ]
  },
  {
   "cell_type": "markdown",
   "metadata": {},
   "source": [
    "## 2) EDA - Exploratory Data Analysis"
   ]
  },
  {
   "cell_type": "code",
   "execution_count": 4,
   "metadata": {},
   "outputs": [],
   "source": [
    "df_train_raw = pd.read_csv('../data/train.csv')\n",
    "df_test_raw = pd.read_csv('../data/test.csv')"
   ]
  },
  {
   "cell_type": "code",
   "execution_count": 5,
   "metadata": {},
   "outputs": [
    {
     "data": {
      "text/plain": [
       "(8523, 12)"
      ]
     },
     "metadata": {},
     "output_type": "display_data"
    },
    {
     "data": {
      "text/html": [
       "<div>\n",
       "<style scoped>\n",
       "    .dataframe tbody tr th:only-of-type {\n",
       "        vertical-align: middle;\n",
       "    }\n",
       "\n",
       "    .dataframe tbody tr th {\n",
       "        vertical-align: top;\n",
       "    }\n",
       "\n",
       "    .dataframe thead th {\n",
       "        text-align: right;\n",
       "    }\n",
       "</style>\n",
       "<table border=\"1\" class=\"dataframe\">\n",
       "  <thead>\n",
       "    <tr style=\"text-align: right;\">\n",
       "      <th></th>\n",
       "      <th>Item_Identifier</th>\n",
       "      <th>Item_Weight</th>\n",
       "      <th>Item_Fat_Content</th>\n",
       "      <th>Item_Visibility</th>\n",
       "      <th>Item_Type</th>\n",
       "      <th>Item_MRP</th>\n",
       "      <th>Outlet_Identifier</th>\n",
       "      <th>Outlet_Establishment_Year</th>\n",
       "      <th>Outlet_Size</th>\n",
       "      <th>Outlet_Location_Type</th>\n",
       "      <th>Outlet_Type</th>\n",
       "      <th>Item_Outlet_Sales</th>\n",
       "    </tr>\n",
       "  </thead>\n",
       "  <tbody>\n",
       "    <tr>\n",
       "      <th>0</th>\n",
       "      <td>FDA15</td>\n",
       "      <td>9.30</td>\n",
       "      <td>Low Fat</td>\n",
       "      <td>0.016047</td>\n",
       "      <td>Dairy</td>\n",
       "      <td>249.8092</td>\n",
       "      <td>OUT049</td>\n",
       "      <td>1999</td>\n",
       "      <td>Medium</td>\n",
       "      <td>Tier 1</td>\n",
       "      <td>Supermarket Type1</td>\n",
       "      <td>3735.1380</td>\n",
       "    </tr>\n",
       "    <tr>\n",
       "      <th>1</th>\n",
       "      <td>DRC01</td>\n",
       "      <td>5.92</td>\n",
       "      <td>Regular</td>\n",
       "      <td>0.019278</td>\n",
       "      <td>Soft Drinks</td>\n",
       "      <td>48.2692</td>\n",
       "      <td>OUT018</td>\n",
       "      <td>2009</td>\n",
       "      <td>Medium</td>\n",
       "      <td>Tier 3</td>\n",
       "      <td>Supermarket Type2</td>\n",
       "      <td>443.4228</td>\n",
       "    </tr>\n",
       "    <tr>\n",
       "      <th>2</th>\n",
       "      <td>FDN15</td>\n",
       "      <td>17.50</td>\n",
       "      <td>Low Fat</td>\n",
       "      <td>0.016760</td>\n",
       "      <td>Meat</td>\n",
       "      <td>141.6180</td>\n",
       "      <td>OUT049</td>\n",
       "      <td>1999</td>\n",
       "      <td>Medium</td>\n",
       "      <td>Tier 1</td>\n",
       "      <td>Supermarket Type1</td>\n",
       "      <td>2097.2700</td>\n",
       "    </tr>\n",
       "    <tr>\n",
       "      <th>3</th>\n",
       "      <td>FDX07</td>\n",
       "      <td>19.20</td>\n",
       "      <td>Regular</td>\n",
       "      <td>0.000000</td>\n",
       "      <td>Fruits and Vegetables</td>\n",
       "      <td>182.0950</td>\n",
       "      <td>OUT010</td>\n",
       "      <td>1998</td>\n",
       "      <td>NaN</td>\n",
       "      <td>Tier 3</td>\n",
       "      <td>Grocery Store</td>\n",
       "      <td>732.3800</td>\n",
       "    </tr>\n",
       "    <tr>\n",
       "      <th>4</th>\n",
       "      <td>NCD19</td>\n",
       "      <td>8.93</td>\n",
       "      <td>Low Fat</td>\n",
       "      <td>0.000000</td>\n",
       "      <td>Household</td>\n",
       "      <td>53.8614</td>\n",
       "      <td>OUT013</td>\n",
       "      <td>1987</td>\n",
       "      <td>High</td>\n",
       "      <td>Tier 3</td>\n",
       "      <td>Supermarket Type1</td>\n",
       "      <td>994.7052</td>\n",
       "    </tr>\n",
       "  </tbody>\n",
       "</table>\n",
       "</div>"
      ],
      "text/plain": [
       "  Item_Identifier  Item_Weight Item_Fat_Content  Item_Visibility  \\\n",
       "0           FDA15         9.30          Low Fat         0.016047   \n",
       "1           DRC01         5.92          Regular         0.019278   \n",
       "2           FDN15        17.50          Low Fat         0.016760   \n",
       "3           FDX07        19.20          Regular         0.000000   \n",
       "4           NCD19         8.93          Low Fat         0.000000   \n",
       "\n",
       "               Item_Type  Item_MRP Outlet_Identifier  \\\n",
       "0                  Dairy  249.8092            OUT049   \n",
       "1            Soft Drinks   48.2692            OUT018   \n",
       "2                   Meat  141.6180            OUT049   \n",
       "3  Fruits and Vegetables  182.0950            OUT010   \n",
       "4              Household   53.8614            OUT013   \n",
       "\n",
       "   Outlet_Establishment_Year Outlet_Size Outlet_Location_Type  \\\n",
       "0                       1999      Medium               Tier 1   \n",
       "1                       2009      Medium               Tier 3   \n",
       "2                       1999      Medium               Tier 1   \n",
       "3                       1998         NaN               Tier 3   \n",
       "4                       1987        High               Tier 3   \n",
       "\n",
       "         Outlet_Type  Item_Outlet_Sales  \n",
       "0  Supermarket Type1          3735.1380  \n",
       "1  Supermarket Type2           443.4228  \n",
       "2  Supermarket Type1          2097.2700  \n",
       "3      Grocery Store           732.3800  \n",
       "4  Supermarket Type1           994.7052  "
      ]
     },
     "metadata": {},
     "output_type": "display_data"
    }
   ],
   "source": [
    "display(df_train_raw.shape)\n",
    "display(df_train_raw.head())"
   ]
  },
  {
   "cell_type": "code",
   "execution_count": 6,
   "metadata": {},
   "outputs": [
    {
     "data": {
      "text/plain": [
       "(5681, 11)"
      ]
     },
     "metadata": {},
     "output_type": "display_data"
    },
    {
     "data": {
      "text/html": [
       "<div>\n",
       "<style scoped>\n",
       "    .dataframe tbody tr th:only-of-type {\n",
       "        vertical-align: middle;\n",
       "    }\n",
       "\n",
       "    .dataframe tbody tr th {\n",
       "        vertical-align: top;\n",
       "    }\n",
       "\n",
       "    .dataframe thead th {\n",
       "        text-align: right;\n",
       "    }\n",
       "</style>\n",
       "<table border=\"1\" class=\"dataframe\">\n",
       "  <thead>\n",
       "    <tr style=\"text-align: right;\">\n",
       "      <th></th>\n",
       "      <th>Item_Identifier</th>\n",
       "      <th>Item_Weight</th>\n",
       "      <th>Item_Fat_Content</th>\n",
       "      <th>Item_Visibility</th>\n",
       "      <th>Item_Type</th>\n",
       "      <th>Item_MRP</th>\n",
       "      <th>Outlet_Identifier</th>\n",
       "      <th>Outlet_Establishment_Year</th>\n",
       "      <th>Outlet_Size</th>\n",
       "      <th>Outlet_Location_Type</th>\n",
       "      <th>Outlet_Type</th>\n",
       "    </tr>\n",
       "  </thead>\n",
       "  <tbody>\n",
       "    <tr>\n",
       "      <th>0</th>\n",
       "      <td>FDW58</td>\n",
       "      <td>20.750</td>\n",
       "      <td>Low Fat</td>\n",
       "      <td>0.007565</td>\n",
       "      <td>Snack Foods</td>\n",
       "      <td>107.8622</td>\n",
       "      <td>OUT049</td>\n",
       "      <td>1999</td>\n",
       "      <td>Medium</td>\n",
       "      <td>Tier 1</td>\n",
       "      <td>Supermarket Type1</td>\n",
       "    </tr>\n",
       "    <tr>\n",
       "      <th>1</th>\n",
       "      <td>FDW14</td>\n",
       "      <td>8.300</td>\n",
       "      <td>reg</td>\n",
       "      <td>0.038428</td>\n",
       "      <td>Dairy</td>\n",
       "      <td>87.3198</td>\n",
       "      <td>OUT017</td>\n",
       "      <td>2007</td>\n",
       "      <td>NaN</td>\n",
       "      <td>Tier 2</td>\n",
       "      <td>Supermarket Type1</td>\n",
       "    </tr>\n",
       "    <tr>\n",
       "      <th>2</th>\n",
       "      <td>NCN55</td>\n",
       "      <td>14.600</td>\n",
       "      <td>Low Fat</td>\n",
       "      <td>0.099575</td>\n",
       "      <td>Others</td>\n",
       "      <td>241.7538</td>\n",
       "      <td>OUT010</td>\n",
       "      <td>1998</td>\n",
       "      <td>NaN</td>\n",
       "      <td>Tier 3</td>\n",
       "      <td>Grocery Store</td>\n",
       "    </tr>\n",
       "    <tr>\n",
       "      <th>3</th>\n",
       "      <td>FDQ58</td>\n",
       "      <td>7.315</td>\n",
       "      <td>Low Fat</td>\n",
       "      <td>0.015388</td>\n",
       "      <td>Snack Foods</td>\n",
       "      <td>155.0340</td>\n",
       "      <td>OUT017</td>\n",
       "      <td>2007</td>\n",
       "      <td>NaN</td>\n",
       "      <td>Tier 2</td>\n",
       "      <td>Supermarket Type1</td>\n",
       "    </tr>\n",
       "    <tr>\n",
       "      <th>4</th>\n",
       "      <td>FDY38</td>\n",
       "      <td>NaN</td>\n",
       "      <td>Regular</td>\n",
       "      <td>0.118599</td>\n",
       "      <td>Dairy</td>\n",
       "      <td>234.2300</td>\n",
       "      <td>OUT027</td>\n",
       "      <td>1985</td>\n",
       "      <td>Medium</td>\n",
       "      <td>Tier 3</td>\n",
       "      <td>Supermarket Type3</td>\n",
       "    </tr>\n",
       "  </tbody>\n",
       "</table>\n",
       "</div>"
      ],
      "text/plain": [
       "  Item_Identifier  Item_Weight Item_Fat_Content  Item_Visibility    Item_Type  \\\n",
       "0           FDW58       20.750          Low Fat         0.007565  Snack Foods   \n",
       "1           FDW14        8.300              reg         0.038428        Dairy   \n",
       "2           NCN55       14.600          Low Fat         0.099575       Others   \n",
       "3           FDQ58        7.315          Low Fat         0.015388  Snack Foods   \n",
       "4           FDY38          NaN          Regular         0.118599        Dairy   \n",
       "\n",
       "   Item_MRP Outlet_Identifier  Outlet_Establishment_Year Outlet_Size  \\\n",
       "0  107.8622            OUT049                       1999      Medium   \n",
       "1   87.3198            OUT017                       2007         NaN   \n",
       "2  241.7538            OUT010                       1998         NaN   \n",
       "3  155.0340            OUT017                       2007         NaN   \n",
       "4  234.2300            OUT027                       1985      Medium   \n",
       "\n",
       "  Outlet_Location_Type        Outlet_Type  \n",
       "0               Tier 1  Supermarket Type1  \n",
       "1               Tier 2  Supermarket Type1  \n",
       "2               Tier 3      Grocery Store  \n",
       "3               Tier 2  Supermarket Type1  \n",
       "4               Tier 3  Supermarket Type3  "
      ]
     },
     "metadata": {},
     "output_type": "display_data"
    }
   ],
   "source": [
    "display(df_test_raw.shape)\n",
    "display(df_test_raw.head())"
   ]
  },
  {
   "cell_type": "code",
   "execution_count": 7,
   "metadata": {},
   "outputs": [
    {
     "name": "stdout",
     "output_type": "stream",
     "text": [
      "<class 'pandas.core.frame.DataFrame'>\n",
      "RangeIndex: 8523 entries, 0 to 8522\n",
      "Data columns (total 12 columns):\n",
      " #   Column                     Non-Null Count  Dtype  \n",
      "---  ------                     --------------  -----  \n",
      " 0   Item_Identifier            8523 non-null   object \n",
      " 1   Item_Weight                7060 non-null   float64\n",
      " 2   Item_Fat_Content           8523 non-null   object \n",
      " 3   Item_Visibility            8523 non-null   float64\n",
      " 4   Item_Type                  8523 non-null   object \n",
      " 5   Item_MRP                   8523 non-null   float64\n",
      " 6   Outlet_Identifier          8523 non-null   object \n",
      " 7   Outlet_Establishment_Year  8523 non-null   int64  \n",
      " 8   Outlet_Size                6113 non-null   object \n",
      " 9   Outlet_Location_Type       8523 non-null   object \n",
      " 10  Outlet_Type                8523 non-null   object \n",
      " 11  Item_Outlet_Sales          8523 non-null   float64\n",
      "dtypes: float64(4), int64(1), object(7)\n",
      "memory usage: 799.2+ KB\n"
     ]
    }
   ],
   "source": [
    "df_train_raw.info()"
   ]
  },
  {
   "cell_type": "markdown",
   "metadata": {},
   "source": [
    "Observações:\n",
    "* O dataframe é bem leve, eliminando a necessidade de qualquer tratamento de performance ou uso de frameworks mais robustos;\n",
    "* Há apenas duas variáveis com valores missing;\n",
    "* Temos 4 atributos float, 1 int e 7 strings;"
   ]
  },
  {
   "cell_type": "code",
   "execution_count": 8,
   "metadata": {},
   "outputs": [
    {
     "data": {
      "text/html": [
       "<div>\n",
       "<style scoped>\n",
       "    .dataframe tbody tr th:only-of-type {\n",
       "        vertical-align: middle;\n",
       "    }\n",
       "\n",
       "    .dataframe tbody tr th {\n",
       "        vertical-align: top;\n",
       "    }\n",
       "\n",
       "    .dataframe thead th {\n",
       "        text-align: right;\n",
       "    }\n",
       "</style>\n",
       "<table border=\"1\" class=\"dataframe\">\n",
       "  <thead>\n",
       "    <tr style=\"text-align: right;\">\n",
       "      <th></th>\n",
       "      <th>Item_Weight</th>\n",
       "      <th>Item_Visibility</th>\n",
       "      <th>Item_MRP</th>\n",
       "      <th>Outlet_Establishment_Year</th>\n",
       "      <th>Item_Outlet_Sales</th>\n",
       "    </tr>\n",
       "  </thead>\n",
       "  <tbody>\n",
       "    <tr>\n",
       "      <th>count</th>\n",
       "      <td>7060.000000</td>\n",
       "      <td>8523.000000</td>\n",
       "      <td>8523.000000</td>\n",
       "      <td>8523.000000</td>\n",
       "      <td>8523.000000</td>\n",
       "    </tr>\n",
       "    <tr>\n",
       "      <th>mean</th>\n",
       "      <td>12.857645</td>\n",
       "      <td>0.066132</td>\n",
       "      <td>140.992782</td>\n",
       "      <td>1997.831867</td>\n",
       "      <td>2181.288914</td>\n",
       "    </tr>\n",
       "    <tr>\n",
       "      <th>std</th>\n",
       "      <td>4.643456</td>\n",
       "      <td>0.051598</td>\n",
       "      <td>62.275067</td>\n",
       "      <td>8.371760</td>\n",
       "      <td>1706.499616</td>\n",
       "    </tr>\n",
       "    <tr>\n",
       "      <th>min</th>\n",
       "      <td>4.555000</td>\n",
       "      <td>0.000000</td>\n",
       "      <td>31.290000</td>\n",
       "      <td>1985.000000</td>\n",
       "      <td>33.290000</td>\n",
       "    </tr>\n",
       "    <tr>\n",
       "      <th>25%</th>\n",
       "      <td>8.773750</td>\n",
       "      <td>0.026989</td>\n",
       "      <td>93.826500</td>\n",
       "      <td>1987.000000</td>\n",
       "      <td>834.247400</td>\n",
       "    </tr>\n",
       "    <tr>\n",
       "      <th>50%</th>\n",
       "      <td>12.600000</td>\n",
       "      <td>0.053931</td>\n",
       "      <td>143.012800</td>\n",
       "      <td>1999.000000</td>\n",
       "      <td>1794.331000</td>\n",
       "    </tr>\n",
       "    <tr>\n",
       "      <th>75%</th>\n",
       "      <td>16.850000</td>\n",
       "      <td>0.094585</td>\n",
       "      <td>185.643700</td>\n",
       "      <td>2004.000000</td>\n",
       "      <td>3101.296400</td>\n",
       "    </tr>\n",
       "    <tr>\n",
       "      <th>max</th>\n",
       "      <td>21.350000</td>\n",
       "      <td>0.328391</td>\n",
       "      <td>266.888400</td>\n",
       "      <td>2009.000000</td>\n",
       "      <td>13086.964800</td>\n",
       "    </tr>\n",
       "  </tbody>\n",
       "</table>\n",
       "</div>"
      ],
      "text/plain": [
       "       Item_Weight  Item_Visibility     Item_MRP  Outlet_Establishment_Year  \\\n",
       "count  7060.000000      8523.000000  8523.000000                8523.000000   \n",
       "mean     12.857645         0.066132   140.992782                1997.831867   \n",
       "std       4.643456         0.051598    62.275067                   8.371760   \n",
       "min       4.555000         0.000000    31.290000                1985.000000   \n",
       "25%       8.773750         0.026989    93.826500                1987.000000   \n",
       "50%      12.600000         0.053931   143.012800                1999.000000   \n",
       "75%      16.850000         0.094585   185.643700                2004.000000   \n",
       "max      21.350000         0.328391   266.888400                2009.000000   \n",
       "\n",
       "       Item_Outlet_Sales  \n",
       "count        8523.000000  \n",
       "mean         2181.288914  \n",
       "std          1706.499616  \n",
       "min            33.290000  \n",
       "25%           834.247400  \n",
       "50%          1794.331000  \n",
       "75%          3101.296400  \n",
       "max         13086.964800  "
      ]
     },
     "execution_count": 8,
     "metadata": {},
     "output_type": "execute_result"
    }
   ],
   "source": [
    "df_train_raw.describe()"
   ]
  },
  {
   "cell_type": "markdown",
   "metadata": {},
   "source": [
    "Observações:\n",
    "\n",
    "**Item_Weight**\n",
    "* Temos 7060 registos, há dados missing.\n",
    "* A média e a mediana(50%) estão bem próximas, indicando que a distribuição dos dados pode ser simétrica (Isso não é regra);\n",
    "* O menor valor é 4.5 e o maior é 21.3. Isto é, um intervalo pequeno de dados. Além disso a diferença de um percentil para o seguinte é baixa, indicando que a quantidade de dados em cada intervalo é bem próxima.\n",
    "* E que possivelmente não há outliers nesse atributo. \n",
    "\n",
    "**Item_Visibility**\n",
    "* Não há dados missing\n",
    "* A média e a mediana não são tão próximos. Ao contrário do atributo anterior, isto pode indicar uma assimetria nos dados.\n",
    "* Há itens que sequer são visualizados na loja e itens que são muito visualizados nas lojas. Intuitivamente falando, esse atributo parece ser extremamente relevante para as vendas.\n",
    "\n",
    "**Item_MRP**\n",
    "* Não há dados missing.\n",
    "* A diferença entre o menor preço e o maior preço é baixa, considerando que são dados de uma loja de varejo, onde os preços costumam ter bastante amplitude.\n",
    "* A média e a mediana são próximas com uma leve diferença, indicando uma leve assimetria nos dados.\n",
    "\n",
    "**Outlet_Establishment_Year**\n",
    "* Não há dados missing\n",
    "* O ano da primeira loja foi 1985, o ano da última loja até o momento foi 2009. Será que isso impacta na venda das lojas?\n",
    "\n",
    "**Item_Outlet_Sales**\n",
    "* A variação de vendas nas lojas é bastante alta. O que é esperado, já que os produtos têm demandas diferentes entre si e em lojas diferentes.\n"
   ]
  },
  {
   "cell_type": "markdown",
   "metadata": {},
   "source": [
    "### 2.1) Variable: Item_Weight (numerical)"
   ]
  },
  {
   "cell_type": "code",
   "execution_count": 9,
   "metadata": {},
   "outputs": [
    {
     "name": "stdout",
     "output_type": "stream",
     "text": [
      "Skewness : 0.082\n",
      "Kurtosis : -1.228\n"
     ]
    },
    {
     "data": {
      "image/png": "[encoded data removed]",
      "text/plain": [
       "<Figure size 900x500 with 1 Axes>"
      ]
     },
     "metadata": {},
     "output_type": "display_data"
    }
   ],
   "source": [
    "skewness = round(df_train_raw['Item_Weight'].skew(), 3)\n",
    "kurtosis = round(df_train_raw['Item_Weight'].kurt(), 3)\n",
    "mean = round(df_train_raw['Item_Weight'].mean(), 2)\n",
    "median = round(df_train_raw['Item_Weight'].median(), 2)\n",
    "\n",
    "print(f'Skewness : {skewness}')\n",
    "print(f'Kurtosis : {kurtosis}')\n",
    "\n",
    "fig, ax = plt.subplots(figsize=(9, 5))\n",
    "ax.hist(df_train_raw['Item_Weight'], bins=15, density=True)\n",
    "\n",
    "# Linha da mediana\n",
    "ax.axvline(x = df_train_raw['Item_Weight'].mean(), color='black', lw=2)\n",
    "ax.text(13.5, 0.065, f'Mean: {mean}', bbox={'facecolor':'white'})\n",
    "\n",
    "# Linha da média\n",
    "ax.axvline(x = df_train_raw['Item_Weight'].median(), color='green', lw=2)\n",
    "ax.text(10.2, 0.075, f'Median: {median}', bbox={'facecolor':'white'})\n",
    "\n",
    "plt.show()"
   ]
  },
  {
   "cell_type": "markdown",
   "metadata": {},
   "source": [
    "Observações:\n",
    "\n",
    "**Skewness**:\n",
    "\n",
    "Descreve a distribuição de um conjunto de dados em relação à sua média. Ela pode ser:\n",
    "* Uma assimetria positiva (ou à direita): Significa que a cauda do lado direito é mais longa ou mais espessa do que a do lado esquerdo.\n",
    "* Uma assimetria negativa (ou à esquerda): Significa que a cauda do lado esquerdo é mais longa ou mais espessa do que a do lado direito.\n",
    "* Uma assimetria zero: Sugere que os valores são relativamente igualmente distribuídos em ambos os lados da média.\n",
    "\n",
    "> Nesse caso, nota-se que o skewness `0.082` é bastante próximo de zero, levemente positivo, o que indica uma assimétrica quase zero e com uma leve cauda à direita, que pode se confirmar visualizando o gráfico."
   ]
  },
  {
   "cell_type": "markdown",
   "metadata": {},
   "source": [
    "---\n",
    "**Kurtosis**\n",
    "\n",
    "É uma medida estatística que descreve o \"achatamento\" de uma distribuição de probabilidade em relação à distribuição normal. Ela indica o peso das caudas e o pico da distribuição.\n",
    "\n",
    "* Uma curtose positiva (ou leptocúrtica) significa que a distribuição tem caudas mais pesadas (mais valores extremos) e um pico mais agudo em comparação com a distribuição normal. Isso indica uma maior ocorrência de valores extremos.\n",
    "* Uma curtose negativa (ou platicúrtica) significa que a distribuição tem caudas mais leves (menos valores extremos) e um pico mais achatado em comparação com a distribuição normal. Isso indica uma menor ocorrência de valores extremos.\n",
    "* Uma curtose zero sugere que a distribuição tem a mesma curtose que a distribuição normal, ou seja, tem a mesma proporção de valores extremos.\n",
    "\n",
    "> Nesse caso temos a kurtosis de `-1.228`, que mostra que a nossa distribuição é platicúrtica."
   ]
  },
  {
   "cell_type": "markdown",
   "metadata": {},
   "source": [
    "---\n",
    "\n",
    "**Distribuição Normal**\n",
    "\n",
    "Em Estatística, a distribuição normal é uma das distribuições de probabilidade mais utilizadas para modelar fenômenos naturais. Isso se deve ao fato de que um grande número de fenômenos naturais apresenta sua distribuição de probabilidade tão proximamente normal, que a ela pode ser com sucesso referida, e, portanto, com adequado acerto por ela representada como se normal fosse.\n",
    "\n",
    "A distribuição normal, também conhecida como distribuição gaussiana, é uma curva simétrica em torno do seu ponto médio, apresentando assim seu famoso formato de sino.\n",
    "\n",
    "Uma distribuição estatística é uma função que define uma curva, e a área sob essa curva determina a probabilidade de ocorrer o evento por ela correlacionado.\n",
    "\n",
    "E o que é distribuição normal? É a mais importante dentre as distribuições estatísticas.\n",
    "\n",
    "A curva de distribuição normal representa o comportamento de diversos processos nas empresas e muitos fenômenos comuns, como por exemplo, altura ou peso de uma população, a pressão sanguínea de um grupo de pessoas, o tempo que um grupo de estudantes gasta para realizar uma prova.\n",
    "\n",
    "A distribuição normal pode ser usada para aproximar distribuições discretas de probabilidade, como por exemplo a distribuição binomial. Além disso, a distribuição normal serve também como base para a inferência estatística clássica.\n",
    "\n",
    "Nela, a média, mediana e moda dos dados possuem o mesmo valor.\n",
    "\n",
    "> Nesse caso, a média e a mediana não estão no centro, indicando que a distribuição não é simétrica. Além disso, as barras do histograma são mais altas no meio e diminuem em altura à medida que se afastam para os lados, o que também sugere uma distribuição não normal."
   ]
  },
  {
   "cell_type": "code",
   "execution_count": 10,
   "metadata": {},
   "outputs": [
    {
     "name": "stdout",
     "output_type": "stream",
     "text": [
      "Item_Weight : Distribuição Não Normal. Valor-p nan\n"
     ]
    }
   ],
   "source": [
    "stats, pval = normaltest(df_train_raw['Item_Weight'])\n",
    "\n",
    "# Checar valor-p\n",
    "if pval > 0.05:\n",
    "    \n",
    "    print(f'Item_Weight : Distribuição Normal. Valor-p {pval}')\n",
    "else:\n",
    "    print(f'Item_Weight : Distribuição Não Normal. Valor-p {pval}')"
   ]
  },
  {
   "cell_type": "markdown",
   "metadata": {},
   "source": [
    "Chegando através da função normaltest do scipy.stats concluímos que a distribuição não é normal."
   ]
  },
  {
   "cell_type": "markdown",
   "metadata": {},
   "source": [
    "---\n",
    "\n",
    "**Boxplot**"
   ]
  },
  {
   "cell_type": "code",
   "execution_count": 11,
   "metadata": {},
   "outputs": [
    {
     "data": {
      "text/plain": [
       "<Axes: >"
      ]
     },
     "execution_count": 11,
     "metadata": {},
     "output_type": "execute_result"
    },
    {
     "data": {
      "image/png": "[encoded data removed]",
      "text/plain": [
       "<Figure size 640x480 with 1 Axes>"
      ]
     },
     "metadata": {},
     "output_type": "display_data"
    }
   ],
   "source": [
    "sns.boxplot(df_train_raw['Item_Weight'])"
   ]
  },
  {
   "cell_type": "markdown",
   "metadata": {},
   "source": [
    "Um boxplot, também conhecido como diagrama de caixa, é um tipo de gráfico usado para ilustrar a distribuição de um conjunto de dados. Ele fornece uma boa indicação de como os valores estão distribuídos. O boxplot é formado por cinco números principais: mínimo, primeiro quartil (Q1), mediana (ou segundo quartil, Q2), terceiro quartil (Q3) e máximo.\n",
    "\n",
    "Aqui está uma descrição mais detalhada de cada componente de um boxplot:\n",
    "\n",
    "* *Mínimo*: É o valor mínimo do conjunto de dados, mas que respeita um certo limite. É possível a existência de valores discrepantes que são ainda menores (outliers).\n",
    "* *Primeiro Quartil (Q1)*: É a base da caixa retangular. Uma demarcação que distingue que 25% dos dados estão abaixo e os outros 75% dos dados estão acima desse valor.\n",
    "* *Mediana ou Segundo Quartil (Q2)*: A linha mais ao centro do gráfico, demarcar o valor central do conjunto de dados. 50% dos dados são maiores que esse valor e os outros 50% dos dados são menores.\n",
    "* *Terceiro Quartil (Q3)*: O topo da caixa retangular. Essa linha informa o número que fica entre os 75% valores mais baixos e os 25% valores mais altos.\n",
    "* *Máximo*: Valor máximo do conjunto de dados, mas respeitando um limite calculado. É possível a existência de valores acima deste na base de dados (outliers).\n",
    "\n",
    "> Podemos confirmar que os dados estão bem distribuídos entre os quartis e não há outliers nesse dataset."
   ]
  },
  {
   "cell_type": "markdown",
   "metadata": {},
   "source": [
    "### 2.2) Item Visibility (numerical)"
   ]
  },
  {
   "cell_type": "code",
   "execution_count": 12,
   "metadata": {},
   "outputs": [
    {
     "name": "stdout",
     "output_type": "stream",
     "text": [
      "Skewness : 1.167\n",
      "Kurtosis : 1.679\n"
     ]
    },
    {
     "data": {
      "image/png": "[encoded data removed]",
      "text/plain": [
       "<Figure size 1200x600 with 1 Axes>"
      ]
     },
     "metadata": {},
     "output_type": "display_data"
    }
   ],
   "source": [
    "skewness = round(df_train_raw['Item_Visibility'].skew(), 3)\n",
    "kurtosis = round(df_train_raw['Item_Visibility'].kurt(), 3)\n",
    "\n",
    "print(f'Skewness : {skewness}')\n",
    "print(f'Kurtosis : {kurtosis}')\n",
    "\n",
    "fig, ax = plt.subplots(figsize=(12, 6))\n",
    "ax.hist(df_train_raw['Item_Visibility'], bins=10, density=True)\n",
    "\n",
    "# Linha da mediana\n",
    "ax.axvline(x = df_train_raw['Item_Visibility'].mean(), color='black', lw=2)\n",
    "# ax.text(50, 0.007, 'Mean', bbox={'facecolor':'white'})\n",
    "\n",
    "# # Linha da média\n",
    "ax.axvline(x = df_train_raw['Item_Visibility'].median(), color='green', lw=2)\n",
    "# ax.text(11.2, 0.075, 'Median', bbox={'facecolor':'white'})\n",
    "\n",
    "plt.show()"
   ]
  },
  {
   "cell_type": "markdown",
   "metadata": {},
   "source": [
    "Nessa variável temos o skewness bastante elevado e positivo, e vemos também uma cauda à direita, o que significa que temos uma assimetria positiva. Já a variável kurtosis indica que temos um historgrama de curtose positiva e leptocúrtico."
   ]
  },
  {
   "cell_type": "code",
   "execution_count": 13,
   "metadata": {},
   "outputs": [
    {
     "data": {
      "text/plain": [
       "<Axes: >"
      ]
     },
     "execution_count": 13,
     "metadata": {},
     "output_type": "execute_result"
    },
    {
     "data": {
      "image/png": "[encoded data removed]",
      "text/plain": [
       "<Figure size 640x480 with 1 Axes>"
      ]
     },
     "metadata": {},
     "output_type": "display_data"
    }
   ],
   "source": [
    "sns.boxplot(df_train_raw['Item_Visibility'])"
   ]
  },
  {
   "cell_type": "markdown",
   "metadata": {},
   "source": [
    "Neste atributo podemos ver que há outliers. Ou seja, pontos extremos que devemos tratar em um projeto de Machine Learning. Vamos verificar quais são estes dados através do zscore:\n",
    "\n",
    "**Z Score**\n",
    "\n",
    "O z-score, também conhecido como escore padrão, é uma medida estatística que indica o número de desvios padrão que um determinado valor está acima ou abaixo da média de uma distribuição12. Ele é calculado subtraindo a média da distribuição do valor observado e dividindo pelo desvio padrão2.\n",
    "\n",
    "A fórmula matemática para o cálculo do z-score é a seguinte:\n",
    "\n",
    "$$\n",
    "z = \\frac{x - \\mu}{\\sigma}\n",
    "$$\n",
    "\n",
    "Onde:\n",
    "\n",
    "* Z é o z-score,\n",
    "* X é o valor observado,\n",
    "* μ é a média da população, e\n",
    "* σ é o desvio padrão da população.\n",
    "\n",
    "\n",
    "O z-score é usado para identificar outliers em um conjunto de dados. Em estatísticas, um outlier é um ponto de observação que se encontra a uma distância anormal de outros valores em uma amostra aleatória de uma população3. Na maioria dos casos, um limite de 3 ou -3 é usado, ou seja, se o valor do z-score for maior ou menor que 3 ou -3, respectivamente, esse ponto de dados será identificado como outliers3. Isso ajuda a garantir que os resultados da análise sejam mais precisos e confiáveis4."
   ]
  },
  {
   "cell_type": "code",
   "execution_count": 14,
   "metadata": {},
   "outputs": [
    {
     "data": {
      "text/html": [
       "<div>\n",
       "<style scoped>\n",
       "    .dataframe tbody tr th:only-of-type {\n",
       "        vertical-align: middle;\n",
       "    }\n",
       "\n",
       "    .dataframe tbody tr th {\n",
       "        vertical-align: top;\n",
       "    }\n",
       "\n",
       "    .dataframe thead th {\n",
       "        text-align: right;\n",
       "    }\n",
       "</style>\n",
       "<table border=\"1\" class=\"dataframe\">\n",
       "  <thead>\n",
       "    <tr style=\"text-align: right;\">\n",
       "      <th></th>\n",
       "      <th>Item_Identifier</th>\n",
       "      <th>Item_Visibility</th>\n",
       "      <th>outlier</th>\n",
       "    </tr>\n",
       "  </thead>\n",
       "  <tbody>\n",
       "    <tr>\n",
       "      <th>854</th>\n",
       "      <td>FDU13</td>\n",
       "      <td>0.328391</td>\n",
       "      <td>1</td>\n",
       "    </tr>\n",
       "    <tr>\n",
       "      <th>3750</th>\n",
       "      <td>NCZ18</td>\n",
       "      <td>0.325781</td>\n",
       "      <td>1</td>\n",
       "    </tr>\n",
       "    <tr>\n",
       "      <th>1805</th>\n",
       "      <td>FDJ56</td>\n",
       "      <td>0.321115</td>\n",
       "      <td>1</td>\n",
       "    </tr>\n",
       "    <tr>\n",
       "      <th>7250</th>\n",
       "      <td>FDT24</td>\n",
       "      <td>0.311090</td>\n",
       "      <td>1</td>\n",
       "    </tr>\n",
       "    <tr>\n",
       "      <th>2855</th>\n",
       "      <td>NCE31</td>\n",
       "      <td>0.309390</td>\n",
       "      <td>1</td>\n",
       "    </tr>\n",
       "    <tr>\n",
       "      <th>...</th>\n",
       "      <td>...</td>\n",
       "      <td>...</td>\n",
       "      <td>...</td>\n",
       "    </tr>\n",
       "    <tr>\n",
       "      <th>1560</th>\n",
       "      <td>FDL09</td>\n",
       "      <td>0.224175</td>\n",
       "      <td>1</td>\n",
       "    </tr>\n",
       "    <tr>\n",
       "      <th>6179</th>\n",
       "      <td>DRA59</td>\n",
       "      <td>0.223985</td>\n",
       "      <td>1</td>\n",
       "    </tr>\n",
       "    <tr>\n",
       "      <th>1291</th>\n",
       "      <td>FDY24</td>\n",
       "      <td>0.223440</td>\n",
       "      <td>1</td>\n",
       "    </tr>\n",
       "    <tr>\n",
       "      <th>2445</th>\n",
       "      <td>DRE27</td>\n",
       "      <td>0.222063</td>\n",
       "      <td>1</td>\n",
       "    </tr>\n",
       "    <tr>\n",
       "      <th>7107</th>\n",
       "      <td>FDE28</td>\n",
       "      <td>0.221856</td>\n",
       "      <td>1</td>\n",
       "    </tr>\n",
       "  </tbody>\n",
       "</table>\n",
       "<p>95 rows × 3 columns</p>\n",
       "</div>"
      ],
      "text/plain": [
       "     Item_Identifier  Item_Visibility outlier\n",
       "854            FDU13         0.328391       1\n",
       "3750           NCZ18         0.325781       1\n",
       "1805           FDJ56         0.321115       1\n",
       "7250           FDT24         0.311090       1\n",
       "2855           NCE31         0.309390       1\n",
       "...              ...              ...     ...\n",
       "1560           FDL09         0.224175       1\n",
       "6179           DRA59         0.223985       1\n",
       "1291           FDY24         0.223440       1\n",
       "2445           DRE27         0.222063       1\n",
       "7107           FDE28         0.221856       1\n",
       "\n",
       "[95 rows x 3 columns]"
      ]
     },
     "execution_count": 14,
     "metadata": {},
     "output_type": "execute_result"
    }
   ],
   "source": [
    "threshold = 3\n",
    "\n",
    "df_outlier = df_train_raw.copy()\n",
    "df_outlier['outlier'] = '0'\n",
    "\n",
    "\n",
    "z = np.abs(zscore(df_outlier['Item_Visibility']))\n",
    "indices = list(np.array(np.where(z > threshold)).reshape(-1))\n",
    "\n",
    "df_outlier.iloc[indices, df_outlier.columns.get_loc('outlier')] = '1'\n",
    "\n",
    "df_outlier.loc[df_outlier['outlier'] == '1', ['Item_Identifier', 'Item_Visibility', 'outlier']].sort_values(by=['Item_Visibility'], ascending=False)"
   ]
  },
  {
   "cell_type": "code",
   "execution_count": null,
   "metadata": {},
   "outputs": [],
   "source": [
    "fig = go.Figure()\n",
    "\n",
    "fig.add_trace(go.Scatter(\n",
    "    x=df_outlier.loc[df_outlier['outlier'] == '0', 'Item_Visibility'],\n",
    "    y=df_outlier.loc[df_outlier['outlier'] == '0', 'Item_Visibility'],\n",
    "    mode='markers',\n",
    "    name='Inlier'\n",
    "))\n",
    "\n",
    "fig.add_trace(go.Scatter(\n",
    "    x=df_outlier.loc[df_outlier['outlier'] == '1', 'Item_Visibility'],\n",
    "    y=df_outlier.loc[df_outlier['outlier'] == '1', 'Item_Visibility'],\n",
    "    mode='markers',\n",
    "    name='Outlier'  \n",
    "))\n",
    "\n",
    "fig.update_layout(\n",
    "        title=f'<span>Item Visibility outliers using z-score</span>', \n",
    "        autosize=False,\n",
    "        width=800,\n",
    "        height=600,\n",
    "        xaxis=dict(title=f'<span>Item_Visibility</span>'),\n",
    "        yaxis=dict(title=f'<span>Item_Visibility</span>')\n",
    "    )\n",
    "\n",
    "fig.show()"
   ]
  },
  {
   "cell_type": "markdown",
   "metadata": {},
   "source": [
    "Na verdade, os \"outliers\" são itens que estão bastante expostos nas vitrines do mercado."
   ]
  },
  {
   "cell_type": "markdown",
   "metadata": {},
   "source": [
    "---\n",
    "\n",
    "### 2.3) Item_MRP (Maximum Retail Price (list price) of the product) (numerical)"
   ]
  },
  {
   "cell_type": "code",
   "execution_count": 15,
   "metadata": {},
   "outputs": [
    {
     "name": "stdout",
     "output_type": "stream",
     "text": [
      "Skewness : 0.127\n",
      "Kurtosis : -0.89\n"
     ]
    },
    {
     "data": {
      "image/png": "[encoded data removed]",
      "text/plain": [
       "<Figure size 1200x600 with 1 Axes>"
      ]
     },
     "metadata": {},
     "output_type": "display_data"
    }
   ],
   "source": [
    "skewness = round(df_train_raw['Item_MRP'].skew(), 3)\n",
    "kurtosis = round(df_train_raw['Item_MRP'].kurt(), 3)\n",
    "mean = round(df_train_raw['Item_MRP'].mean(), 2)\n",
    "median = round(df_train_raw['Item_MRP'].median(), 2)\n",
    "\n",
    "print(f'Skewness : {skewness}')\n",
    "print(f'Kurtosis : {kurtosis}')\n",
    "\n",
    "fig, ax = plt.subplots(figsize=(12, 6))\n",
    "ax.hist(df_train_raw['Item_MRP'], bins=10, density=True)\n",
    "\n",
    "# Linha da mediana\n",
    "ax.axvline(x = df_train_raw['Item_MRP'].mean(), color='black', lw=2)\n",
    "ax.text(115, 0.006, f'Mean: {mean}', bbox={'facecolor':'white'})\n",
    "\n",
    "# Linha da média\n",
    "ax.axvline(x = df_train_raw['Item_MRP'].median(), color='green', lw=2)\n",
    "ax.text(150, 0.006, f'Median: {median}', bbox={'facecolor':'white'})\n",
    "\n",
    "plt.show()"
   ]
  },
  {
   "cell_type": "markdown",
   "metadata": {},
   "source": [
    "O skewnesse é positivo, então temos uma assimetria à direita. Já a kurtosis é negativa que indica que o histograma é platicúrtico."
   ]
  },
  {
   "cell_type": "code",
   "execution_count": 16,
   "metadata": {},
   "outputs": [
    {
     "data": {
      "text/plain": [
       "<Axes: >"
      ]
     },
     "execution_count": 16,
     "metadata": {},
     "output_type": "execute_result"
    },
    {
     "data": {
      "image/png": "[encoded data removed]",
      "text/plain": [
       "<Figure size 640x480 with 1 Axes>"
      ]
     },
     "metadata": {},
     "output_type": "display_data"
    }
   ],
   "source": [
    "sns.boxplot(df_train_raw['Item_MRP'])"
   ]
  },
  {
   "cell_type": "markdown",
   "metadata": {},
   "source": [
    "Nesse atributo também não temos dados outliers."
   ]
  },
  {
   "cell_type": "markdown",
   "metadata": {},
   "source": [
    "---\n",
    "\n",
    "### 2.4) Item Outlet Sales (numerical)"
   ]
  },
  {
   "cell_type": "code",
   "execution_count": 17,
   "metadata": {},
   "outputs": [
    {
     "name": "stdout",
     "output_type": "stream",
     "text": [
      "Skewness : 1.178\n",
      "Kurtosis : 1.616\n",
      "Mean : 2181.29\n",
      "Median : 1794.33\n"
     ]
    },
    {
     "data": {
      "image/png": "[encoded data removed]",
      "text/plain": [
       "<Figure size 1200x600 with 1 Axes>"
      ]
     },
     "metadata": {},
     "output_type": "display_data"
    }
   ],
   "source": [
    "df_train_raw['Item_Outlet_Sales']\n",
    "\n",
    "skewness = round(df_train_raw['Item_Outlet_Sales'].skew(), 3)\n",
    "kurtosis = round(df_train_raw['Item_Outlet_Sales'].kurt(), 3)\n",
    "mean = round(df_train_raw['Item_Outlet_Sales'].mean(), 2)\n",
    "median = round(df_train_raw['Item_Outlet_Sales'].median(), 2)\n",
    "\n",
    "print(f'Skewness : {skewness}')\n",
    "print(f'Kurtosis : {kurtosis}')\n",
    "print(f'Mean : {mean}')\n",
    "print(f'Median : {median}')\n",
    "\n",
    "fig, ax = plt.subplots(figsize=(12, 6))\n",
    "ax.hist(df_train_raw['Item_Outlet_Sales'], bins=10, density=True)\n",
    "\n",
    "# Linha da mediana\n",
    "ax.axvline(x = df_train_raw['Item_Outlet_Sales'].mean(), color='black', lw=2)\n",
    "\n",
    "# Linha da média\n",
    "ax.axvline(x = df_train_raw['Item_Outlet_Sales'].median(), color='green', lw=2)\n",
    "\n",
    "plt.show()"
   ]
  },
  {
   "cell_type": "code",
   "execution_count": 18,
   "metadata": {},
   "outputs": [
    {
     "data": {
      "text/plain": [
       "<Axes: >"
      ]
     },
     "execution_count": 18,
     "metadata": {},
     "output_type": "execute_result"
    },
    {
     "data": {
      "image/png": "[encoded data removed]",
      "text/plain": [
       "<Figure size 640x480 with 1 Axes>"
      ]
     },
     "metadata": {},
     "output_type": "display_data"
    }
   ],
   "source": [
    "sns.boxplot(df_train_raw['Item_Outlet_Sales'])"
   ]
  },
  {
   "cell_type": "code",
   "execution_count": 19,
   "metadata": {},
   "outputs": [
    {
     "data": {
      "text/html": [
       "<div>\n",
       "<style scoped>\n",
       "    .dataframe tbody tr th:only-of-type {\n",
       "        vertical-align: middle;\n",
       "    }\n",
       "\n",
       "    .dataframe tbody tr th {\n",
       "        vertical-align: top;\n",
       "    }\n",
       "\n",
       "    .dataframe thead th {\n",
       "        text-align: right;\n",
       "    }\n",
       "</style>\n",
       "<table border=\"1\" class=\"dataframe\">\n",
       "  <thead>\n",
       "    <tr style=\"text-align: right;\">\n",
       "      <th></th>\n",
       "      <th>Item_Identifier</th>\n",
       "      <th>Item_Outlet_Sales</th>\n",
       "      <th>outlier</th>\n",
       "    </tr>\n",
       "  </thead>\n",
       "  <tbody>\n",
       "    <tr>\n",
       "      <th>7188</th>\n",
       "      <td>NCE42</td>\n",
       "      <td>13086.9648</td>\n",
       "      <td>1</td>\n",
       "    </tr>\n",
       "    <tr>\n",
       "      <th>5223</th>\n",
       "      <td>FDQ19</td>\n",
       "      <td>12117.5600</td>\n",
       "      <td>1</td>\n",
       "    </tr>\n",
       "    <tr>\n",
       "      <th>1450</th>\n",
       "      <td>FDZ20</td>\n",
       "      <td>11445.1020</td>\n",
       "      <td>1</td>\n",
       "    </tr>\n",
       "    <tr>\n",
       "      <th>4349</th>\n",
       "      <td>FDP33</td>\n",
       "      <td>10993.6896</td>\n",
       "      <td>1</td>\n",
       "    </tr>\n",
       "    <tr>\n",
       "      <th>6541</th>\n",
       "      <td>FDI50</td>\n",
       "      <td>10306.5840</td>\n",
       "      <td>1</td>\n",
       "    </tr>\n",
       "    <tr>\n",
       "      <th>...</th>\n",
       "      <td>...</td>\n",
       "      <td>...</td>\n",
       "      <td>...</td>\n",
       "    </tr>\n",
       "    <tr>\n",
       "      <th>145</th>\n",
       "      <td>FDP16</td>\n",
       "      <td>7370.4060</td>\n",
       "      <td>1</td>\n",
       "    </tr>\n",
       "    <tr>\n",
       "      <th>3667</th>\n",
       "      <td>FDP52</td>\n",
       "      <td>7350.4320</td>\n",
       "      <td>1</td>\n",
       "    </tr>\n",
       "    <tr>\n",
       "      <th>3407</th>\n",
       "      <td>NCK42</td>\n",
       "      <td>7334.4528</td>\n",
       "      <td>1</td>\n",
       "    </tr>\n",
       "    <tr>\n",
       "      <th>7560</th>\n",
       "      <td>FDB56</td>\n",
       "      <td>7322.4684</td>\n",
       "      <td>1</td>\n",
       "    </tr>\n",
       "    <tr>\n",
       "      <th>5812</th>\n",
       "      <td>FDI22</td>\n",
       "      <td>7317.1420</td>\n",
       "      <td>1</td>\n",
       "    </tr>\n",
       "  </tbody>\n",
       "</table>\n",
       "<p>90 rows × 3 columns</p>\n",
       "</div>"
      ],
      "text/plain": [
       "     Item_Identifier  Item_Outlet_Sales outlier\n",
       "7188           NCE42         13086.9648       1\n",
       "5223           FDQ19         12117.5600       1\n",
       "1450           FDZ20         11445.1020       1\n",
       "4349           FDP33         10993.6896       1\n",
       "6541           FDI50         10306.5840       1\n",
       "...              ...                ...     ...\n",
       "145            FDP16          7370.4060       1\n",
       "3667           FDP52          7350.4320       1\n",
       "3407           NCK42          7334.4528       1\n",
       "7560           FDB56          7322.4684       1\n",
       "5812           FDI22          7317.1420       1\n",
       "\n",
       "[90 rows x 3 columns]"
      ]
     },
     "execution_count": 19,
     "metadata": {},
     "output_type": "execute_result"
    }
   ],
   "source": [
    "threshold = 3\n",
    "\n",
    "df_outlier = df_train_raw.copy()\n",
    "df_outlier['outlier'] = '0'\n",
    "\n",
    "\n",
    "z = np.abs(zscore(df_outlier['Item_Outlet_Sales']))\n",
    "indices = list(np.array(np.where(z > threshold)).reshape(-1))\n",
    "\n",
    "df_outlier.iloc[indices, df_outlier.columns.get_loc('outlier')] = '1'\n",
    "\n",
    "df_outlier.loc[df_outlier['outlier'] == '1', ['Item_Identifier', 'Item_Outlet_Sales', 'outlier']].sort_values(by=['Item_Outlet_Sales'], ascending=False)"
   ]
  },
  {
   "cell_type": "code",
   "execution_count": null,
   "metadata": {},
   "outputs": [],
   "source": [
    "fig = go.Figure()\n",
    "\n",
    "fig.add_trace(go.Scatter(\n",
    "    x=df_outlier.loc[df_outlier['outlier'] == '0', 'Item_Outlet_Sales'],\n",
    "    y=df_outlier.loc[df_outlier['outlier'] == '0', 'Item_Outlet_Sales'],\n",
    "    mode='markers',\n",
    "    name='Inlier'\n",
    "))\n",
    "\n",
    "fig.add_trace(go.Scatter(\n",
    "    x=df_outlier.loc[df_outlier['outlier'] == '1', 'Item_Outlet_Sales'],\n",
    "    y=df_outlier.loc[df_outlier['outlier'] == '1', 'Item_Outlet_Sales'],\n",
    "    mode='markers',\n",
    "    name='Outlier'  \n",
    "))\n",
    "\n",
    "fig.update_layout(\n",
    "        title=f'<span>Item Visibility outliers using z-score</span>', \n",
    "        autosize=False,\n",
    "        width=800,\n",
    "        height=600,\n",
    "        xaxis=dict(title=f'<span>Item_Outlet_Sales</span>'),\n",
    "        yaxis=dict(title=f'<span>Item_Outlet_Sales</span>')\n",
    "    )\n",
    "\n",
    "fig.show()"
   ]
  },
  {
   "cell_type": "code",
   "execution_count": 20,
   "metadata": {},
   "outputs": [
    {
     "data": {
      "text/html": [
       "<div>\n",
       "<style scoped>\n",
       "    .dataframe tbody tr th:only-of-type {\n",
       "        vertical-align: middle;\n",
       "    }\n",
       "\n",
       "    .dataframe tbody tr th {\n",
       "        vertical-align: top;\n",
       "    }\n",
       "\n",
       "    .dataframe thead th {\n",
       "        text-align: right;\n",
       "    }\n",
       "</style>\n",
       "<table border=\"1\" class=\"dataframe\">\n",
       "  <thead>\n",
       "    <tr style=\"text-align: right;\">\n",
       "      <th></th>\n",
       "      <th>Item_Identifier</th>\n",
       "      <th>Item_Weight</th>\n",
       "      <th>Item_Fat_Content</th>\n",
       "      <th>Item_Visibility</th>\n",
       "      <th>Item_Type</th>\n",
       "      <th>Item_MRP</th>\n",
       "      <th>Outlet_Identifier</th>\n",
       "      <th>Outlet_Establishment_Year</th>\n",
       "      <th>Outlet_Size</th>\n",
       "      <th>Outlet_Location_Type</th>\n",
       "      <th>Outlet_Type</th>\n",
       "      <th>Item_Outlet_Sales</th>\n",
       "    </tr>\n",
       "  </thead>\n",
       "  <tbody>\n",
       "    <tr>\n",
       "      <th>0</th>\n",
       "      <td>FDA15</td>\n",
       "      <td>9.30</td>\n",
       "      <td>Low Fat</td>\n",
       "      <td>0.016047</td>\n",
       "      <td>Dairy</td>\n",
       "      <td>249.8092</td>\n",
       "      <td>OUT049</td>\n",
       "      <td>1999</td>\n",
       "      <td>Medium</td>\n",
       "      <td>Tier 1</td>\n",
       "      <td>Supermarket Type1</td>\n",
       "      <td>3735.1380</td>\n",
       "    </tr>\n",
       "    <tr>\n",
       "      <th>1</th>\n",
       "      <td>DRC01</td>\n",
       "      <td>5.92</td>\n",
       "      <td>Regular</td>\n",
       "      <td>0.019278</td>\n",
       "      <td>Soft Drinks</td>\n",
       "      <td>48.2692</td>\n",
       "      <td>OUT018</td>\n",
       "      <td>2009</td>\n",
       "      <td>Medium</td>\n",
       "      <td>Tier 3</td>\n",
       "      <td>Supermarket Type2</td>\n",
       "      <td>443.4228</td>\n",
       "    </tr>\n",
       "    <tr>\n",
       "      <th>2</th>\n",
       "      <td>FDN15</td>\n",
       "      <td>17.50</td>\n",
       "      <td>Low Fat</td>\n",
       "      <td>0.016760</td>\n",
       "      <td>Meat</td>\n",
       "      <td>141.6180</td>\n",
       "      <td>OUT049</td>\n",
       "      <td>1999</td>\n",
       "      <td>Medium</td>\n",
       "      <td>Tier 1</td>\n",
       "      <td>Supermarket Type1</td>\n",
       "      <td>2097.2700</td>\n",
       "    </tr>\n",
       "    <tr>\n",
       "      <th>3</th>\n",
       "      <td>FDX07</td>\n",
       "      <td>19.20</td>\n",
       "      <td>Regular</td>\n",
       "      <td>0.000000</td>\n",
       "      <td>Fruits and Vegetables</td>\n",
       "      <td>182.0950</td>\n",
       "      <td>OUT010</td>\n",
       "      <td>1998</td>\n",
       "      <td>NaN</td>\n",
       "      <td>Tier 3</td>\n",
       "      <td>Grocery Store</td>\n",
       "      <td>732.3800</td>\n",
       "    </tr>\n",
       "    <tr>\n",
       "      <th>4</th>\n",
       "      <td>NCD19</td>\n",
       "      <td>8.93</td>\n",
       "      <td>Low Fat</td>\n",
       "      <td>0.000000</td>\n",
       "      <td>Household</td>\n",
       "      <td>53.8614</td>\n",
       "      <td>OUT013</td>\n",
       "      <td>1987</td>\n",
       "      <td>High</td>\n",
       "      <td>Tier 3</td>\n",
       "      <td>Supermarket Type1</td>\n",
       "      <td>994.7052</td>\n",
       "    </tr>\n",
       "  </tbody>\n",
       "</table>\n",
       "</div>"
      ],
      "text/plain": [
       "  Item_Identifier  Item_Weight Item_Fat_Content  Item_Visibility  \\\n",
       "0           FDA15         9.30          Low Fat         0.016047   \n",
       "1           DRC01         5.92          Regular         0.019278   \n",
       "2           FDN15        17.50          Low Fat         0.016760   \n",
       "3           FDX07        19.20          Regular         0.000000   \n",
       "4           NCD19         8.93          Low Fat         0.000000   \n",
       "\n",
       "               Item_Type  Item_MRP Outlet_Identifier  \\\n",
       "0                  Dairy  249.8092            OUT049   \n",
       "1            Soft Drinks   48.2692            OUT018   \n",
       "2                   Meat  141.6180            OUT049   \n",
       "3  Fruits and Vegetables  182.0950            OUT010   \n",
       "4              Household   53.8614            OUT013   \n",
       "\n",
       "   Outlet_Establishment_Year Outlet_Size Outlet_Location_Type  \\\n",
       "0                       1999      Medium               Tier 1   \n",
       "1                       2009      Medium               Tier 3   \n",
       "2                       1999      Medium               Tier 1   \n",
       "3                       1998         NaN               Tier 3   \n",
       "4                       1987        High               Tier 3   \n",
       "\n",
       "         Outlet_Type  Item_Outlet_Sales  \n",
       "0  Supermarket Type1          3735.1380  \n",
       "1  Supermarket Type2           443.4228  \n",
       "2  Supermarket Type1          2097.2700  \n",
       "3      Grocery Store           732.3800  \n",
       "4  Supermarket Type1           994.7052  "
      ]
     },
     "execution_count": 20,
     "metadata": {},
     "output_type": "execute_result"
    }
   ],
   "source": [
    "df_train_raw.head()"
   ]
  },
  {
   "cell_type": "code",
   "execution_count": null,
   "metadata": {},
   "outputs": [],
   "source": [
    "df_scatter = df_train_raw[['Item_Weight', 'Item_Outlet_Sales']]\n",
    "\n",
    "fig = go.Figure()\n",
    "\n",
    "fig.add_trace(go.Scatter(\n",
    "    x=df_scatter['Item_Weight'],\n",
    "    y=df_scatter['Item_Outlet_Sales'],\n",
    "    mode='markers',\n",
    "    name='Item Weight x Item Outlet Sales'\n",
    "))\n",
    "\n",
    "fig.update_layout(\n",
    "        title=f'<span>Item Weight x Item Outlet Sales</span>', \n",
    "        autosize=False,\n",
    "        width=1200,\n",
    "        height=400,\n",
    "        xaxis=dict(title=f'<span>Item Weight</span>'),\n",
    "        yaxis=dict(title=f'<span> Item Outlet Sales</span>')\n",
    "    )\n",
    "\n",
    "fig.show()"
   ]
  },
  {
   "cell_type": "code",
   "execution_count": null,
   "metadata": {},
   "outputs": [],
   "source": [
    "df_scatter = df_train_raw[['Item_Visibility', 'Item_Outlet_Sales']]\n",
    "\n",
    "fig = go.Figure()\n",
    "\n",
    "fig.add_trace(go.Scatter(\n",
    "    x=df_scatter['Item_Visibility'],\n",
    "    y=df_scatter['Item_Outlet_Sales'],\n",
    "    mode='markers',\n",
    "    name='Item Weight x Item Outlet Sales'\n",
    "))\n",
    "\n",
    "fig.update_layout(\n",
    "        title=f'<span>Item Visibility x Item Outlet Sales</span>', \n",
    "        autosize=False,\n",
    "        width=1200,\n",
    "        height=600,\n",
    "        xaxis=dict(title=f'<span>Item Visibility</span>'),\n",
    "        yaxis=dict(title=f'<span> Item Outlet Sales</span>')\n",
    "    )\n",
    "\n",
    "fig.show()"
   ]
  },
  {
   "cell_type": "code",
   "execution_count": null,
   "metadata": {},
   "outputs": [],
   "source": [
    "df_scatter = df_train_raw[['Item_MRP', 'Item_Outlet_Sales']]\n",
    "\n",
    "fig = go.Figure()\n",
    "\n",
    "fig.add_trace(go.Scatter(\n",
    "    x=df_scatter['Item_MRP'],\n",
    "    y=df_scatter['Item_Outlet_Sales'],\n",
    "    mode='markers',\n",
    "    name='Item_MRP x Item Outlet Sales'\n",
    "))\n",
    "\n",
    "fig.update_layout(\n",
    "        title=f'<span>Item MRP x Item Outlet Sales</span>', \n",
    "        autosize=False,\n",
    "        width=1200,\n",
    "        height=600,\n",
    "        xaxis=dict(title=f'<span>Item MRP</span>'),\n",
    "        yaxis=dict(title=f'<span> Item Outlet Sales</span>')\n",
    "    )\n",
    "\n",
    "fig.show()"
   ]
  },
  {
   "cell_type": "markdown",
   "metadata": {},
   "source": [
    "---\n",
    "\n",
    "### 2.5 ) Item Identifier (categorical)"
   ]
  },
  {
   "cell_type": "code",
   "execution_count": 21,
   "metadata": {},
   "outputs": [
    {
     "name": "stdout",
     "output_type": "stream",
     "text": [
      "Total quantity of distincts items: 1559\n"
     ]
    }
   ],
   "source": [
    "qty_distincts_items = len(df_train_raw['Item_Identifier'].unique())\n",
    "\n",
    "print(f\"Total quantity of distincts items: {qty_distincts_items}\")"
   ]
  },
  {
   "cell_type": "code",
   "execution_count": null,
   "metadata": {},
   "outputs": [],
   "source": [
    "df_temp = df_train_raw['Item_Identifier'].value_counts().reset_index()\n",
    "df_temp.columns = ['Item_Identifier', 'Occurence']\n",
    "\n",
    "df_temp = df_temp['Occurence'].value_counts().reset_index().sort_values(by=['Occurence'])\n",
    "df_temp['Occurence'] = df_temp['Occurence'].astype(str)\n",
    "\n",
    "\n",
    "fig = go.Figure()\n",
    "\n",
    "fig.add_trace(go.Bar(\n",
    "    x=df_temp['Occurence'].values,\n",
    "    y=df_temp['count'].values,\n",
    "    text=df_temp['count'].values\n",
    "))\n",
    "\n",
    "fig.update_layout(\n",
    "        title=f'<span>Most Occurrencies by Item Identifier</span>', \n",
    "        autosize=False,\n",
    "        width=1200,\n",
    "        height=600,\n",
    "        xaxis=dict(title=f'<span>Count of occurrences in the table</span>'),\n",
    "        yaxis=dict(title=f'<span>Occurrence Items</span>')\n",
    "    )\n",
    "\n",
    "fig.show()"
   ]
  },
  {
   "cell_type": "markdown",
   "metadata": {},
   "source": [
    "Esse barplot, visualmente parece um histograma. Porém, o que ele de fato está mostrando é a quantidade de vezes que um mesmo item aparece na tabela. Por exemplo:\n",
    "* Na primeira barra: 9 itens aparecem apenas 1 vez;\n",
    "* Na quarta barra: 234 itens aparecem 4 vezes;"
   ]
  },
  {
   "cell_type": "code",
   "execution_count": null,
   "metadata": {},
   "outputs": [],
   "source": [
    "df_item_sales = df_train_raw.copy()\n",
    "df_item_sales['Item_Identifier_Type'] = df_item_sales['Item_Identifier'] + ' - ' + df_item_sales['Item_Type']\n",
    "\n",
    "df_item_sales = df_item_sales.groupby(['Item_Identifier_Type'])['Item_Outlet_Sales'].sum().reset_index().sort_values(by=['Item_Outlet_Sales'], ascending=False)\n",
    "df_item_sales['Item_Outlet_Sales_resumed'] = df_item_sales['Item_Outlet_Sales'].apply(resumeNumber)\n",
    "\n",
    "fig = go.Figure()\n",
    "\n",
    "fig.add_trace(go.Bar(\n",
    "    x=df_item_sales['Item_Identifier_Type'][0:10].values,\n",
    "    y=df_item_sales['Item_Outlet_Sales'][0:10].values,\n",
    "    text=df_item_sales['Item_Outlet_Sales_resumed'][0:10].values\n",
    "))\n",
    "\n",
    "fig.update_layout(\n",
    "        title=f'<span>Quantity Sold by Item (top 10)</span>', \n",
    "        autosize=False,\n",
    "        width=1200,\n",
    "        height=600,\n",
    "        xaxis=dict(title=f'<span>Item</span>'),\n",
    "        yaxis=dict(title=f'<span>Quantity Sold</span>')\n",
    "    )\n",
    "\n",
    "fig.show()"
   ]
  },
  {
   "cell_type": "code",
   "execution_count": null,
   "metadata": {},
   "outputs": [],
   "source": []
  },
  {
   "cell_type": "markdown",
   "metadata": {},
   "source": [
    "**Correlação das variáveis numéricas**"
   ]
  },
  {
   "cell_type": "code",
   "execution_count": 22,
   "metadata": {},
   "outputs": [
    {
     "data": {
      "text/plain": [
       "<Axes: >"
      ]
     },
     "execution_count": 22,
     "metadata": {},
     "output_type": "execute_result"
    },
    {
     "data": {
      "image/png": "[encoded data removed]",
      "text/plain": [
       "<Figure size 640x480 with 2 Axes>"
      ]
     },
     "metadata": {},
     "output_type": "display_data"
    }
   ],
   "source": [
    "sns.heatmap(df_train_raw[['Item_Weight', 'Item_Visibility', 'Item_MRP', 'Item_Outlet_Sales']].corr(), annot=True)"
   ]
  },
  {
   "cell_type": "markdown",
   "metadata": {},
   "source": [
    "**Correlaação para variáveis categóricas**"
   ]
  },
  {
   "cell_type": "code",
   "execution_count": 57,
   "metadata": {},
   "outputs": [],
   "source": [
    "df_corr = df_train_raw.copy()"
   ]
  },
  {
   "cell_type": "code",
   "execution_count": 65,
   "metadata": {},
   "outputs": [],
   "source": [
    "le = LabelEncoder()\n",
    "df_corr['Item_Identifier'] = le.fit_transform(df_corr['Item_Identifier'])\n",
    "df_corr['Item_Fat_Content'] = le.fit_transform(df_corr['Item_Fat_Content'])\n",
    "df_corr['Item_Type'] = le.fit_transform(df_corr['Item_Type'])\n",
    "df_corr['Outlet_Identifier'] = le.fit_transform(df_corr['Outlet_Identifier'])\n",
    "df_corr['Outlet_Size'] = le.fit_transform(df_corr['Outlet_Size'])\n",
    "df_corr['Outlet_Location_Type'] = le.fit_transform(df_corr['Outlet_Location_Type'])\n",
    "df_corr['Outlet_Type'] = le.fit_transform(df_corr['Outlet_Type'])\n",
    "\n"
   ]
  },
  {
   "cell_type": "code",
   "execution_count": 73,
   "metadata": {},
   "outputs": [
    {
     "data": {
      "text/plain": [
       "<Axes: >"
      ]
     },
     "execution_count": 73,
     "metadata": {},
     "output_type": "execute_result"
    },
    {
     "data": {
      "image/png": "[encoded data removed]",
      "text/plain": [
       "<Figure size 1200x800 with 2 Axes>"
      ]
     },
     "metadata": {},
     "output_type": "display_data"
    }
   ],
   "source": [
    "plt.figure(figsize=(12, 8))\n",
    "sns.heatmap(df_corr.corr(), annot=True, cmap='coolwarm')"
   ]
  },
  {
   "cell_type": "markdown",
   "metadata": {},
   "source": [
    "---\n",
    "\n",
    "### 2.6) Item Fat Content (categorical)\n",
    "\n",
    "Se o produto tem baixo teor de gordura ou não."
   ]
  },
  {
   "cell_type": "code",
   "execution_count": null,
   "metadata": {},
   "outputs": [],
   "source": [
    "fig = go.Figure()\n",
    "\n",
    "fig.add_trace(go.Bar(\n",
    "    x=df_train_raw['Item_Fat_Content'].value_counts().index,\n",
    "    y=df_train_raw['Item_Fat_Content'].value_counts().values,\n",
    "    text=df_train_raw['Item_Fat_Content'].value_counts().values\n",
    "))"
   ]
  },
  {
   "cell_type": "markdown",
   "metadata": {},
   "source": [
    "Aqui temos 5 valores distintos para a categoria Item Fat. Porém, podemos inferir algumas coisas:\n",
    "* **Q**. O item deve ser Low Fat ou Regular. Então o que são LF e reg?\n",
    "* **A**. Ora, pelo senso lógico LF = Low Fat e reg = Regular.\n",
    "* **Q**. Por que Low Fat e low fat estão em categorias diferentes?\n",
    "* **A**. Simples. Low Fat tem suas iniciais em maiúsculo enquanto que low fat têm suas iniciais todas em minúsculos. Isso o classifica em classes diferentes."
   ]
  },
  {
   "cell_type": "markdown",
   "metadata": {},
   "source": [
    "---\n",
    "\n",
    "### 2.7) Item Type (categorical)"
   ]
  },
  {
   "cell_type": "code",
   "execution_count": null,
   "metadata": {},
   "outputs": [],
   "source": [
    "df_occurencies = df_train_raw['Item_Type'].value_counts().reset_index()\n",
    "\n",
    "fig = go.Figure()\n",
    "\n",
    "fig.add_trace(go.Bar(\n",
    "    x=df_occurencies['Item_Type'],\n",
    "    y=df_occurencies['count'],\n",
    "    text=df_occurencies['count'],\n",
    "    marker={'color': '#F20505'},\n",
    "))\n",
    "\n",
    "fig.update_layout(\n",
    "        title=f'<span>Most Occurrencies by Item Type</span>', \n",
    "        autosize=False,\n",
    "        width=1200,\n",
    "        height=600,\n",
    "        xaxis=dict(title=f'<span>Item Type</span>'),\n",
    "        yaxis=dict(title=f'<span>Occurrence</span>')\n",
    "    )\n",
    "\n",
    "fig.show()"
   ]
  },
  {
   "cell_type": "code",
   "execution_count": null,
   "metadata": {},
   "outputs": [],
   "source": [
    "df_sales = df_train_raw.groupby(['Item_Type'])['Item_Outlet_Sales'].sum().reset_index().sort_values(by=['Item_Outlet_Sales'], ascending=False)\n",
    "df_sales['Item_Outlet_Sales_resumed'] = df_sales['Item_Outlet_Sales'].apply(resumeNumber)\n",
    "\n",
    "fig = go.Figure()\n",
    "\n",
    "fig.add_trace(go.Bar(\n",
    "    x=df_sales['Item_Type'],\n",
    "    y=df_sales['Item_Outlet_Sales'],\n",
    "    text=df_sales['Item_Outlet_Sales_resumed'],\n",
    "    marker={'color': '#F20505'},\n",
    "))\n",
    "\n",
    "fig.update_layout(\n",
    "        title=f'<span>Most Sales by Item Type</span>', \n",
    "        autosize=False,\n",
    "        width=1200,\n",
    "        height=600,\n",
    "        xaxis=dict(title=f'<span>Item Type</span>'),\n",
    "        yaxis=dict(title=f'<span>Quantity Sold</span>')\n",
    "    )\n",
    "\n",
    "fig.show()"
   ]
  },
  {
   "cell_type": "markdown",
   "metadata": {},
   "source": [
    "---\n",
    "\n",
    "### 2.8) Outlet Identifier (categorical)"
   ]
  },
  {
   "cell_type": "code",
   "execution_count": null,
   "metadata": {},
   "outputs": [],
   "source": [
    "df_occurencies = df_train_raw.copy()\n",
    "df_occurencies['Outlet_Year'] = df_occurencies['Outlet_Identifier'] + '-' + df_occurencies['Outlet_Establishment_Year'].astype(str)\n",
    "\n",
    "df_occurencies = df_occurencies['Outlet_Year'].value_counts().reset_index()\n",
    "\n",
    "fig = go.Figure()\n",
    "\n",
    "fig.add_trace(go.Bar(\n",
    "    x=df_occurencies['Outlet_Year'],\n",
    "    y=df_occurencies['count'],\n",
    "    text=df_occurencies['count'],\n",
    "    marker={'color': '#9902FF'},\n",
    "))\n",
    "\n",
    "fig.update_layout(\n",
    "        title=f'<span>Most Occurrencies by Outlet Type</span>', \n",
    "        autosize=False,\n",
    "        width=1200,\n",
    "        height=600,\n",
    "        xaxis=dict(title=f'<span>Outlet Identifier</span>'),\n",
    "        yaxis=dict(title=f'<span>Occurrence</span>')\n",
    "    )\n",
    "\n",
    "fig.show()"
   ]
  },
  {
   "cell_type": "code",
   "execution_count": null,
   "metadata": {},
   "outputs": [],
   "source": [
    "df_occurencies = df_train_raw.copy()\n",
    "df_occurencies['Outlet_Year'] = df_occurencies['Outlet_Identifier'] + '-' + df_occurencies['Outlet_Establishment_Year'].astype(str)\n",
    "\n",
    "df_occurencies = df_occurencies.groupby(['Outlet_Year'], as_index=False)['Item_Outlet_Sales'].sum()\n",
    "df_occurencies['Item_Outlet_Sales_Resumed'] = df_occurencies['Item_Outlet_Sales'].apply(resumeNumber)\n",
    "df_occurencies = df_occurencies.sort_values(by=['Item_Outlet_Sales'], ascending=False)\n",
    "\n",
    "fig = go.Figure()\n",
    "\n",
    "fig.add_trace(go.Bar(\n",
    "    x=df_occurencies['Outlet_Year'],\n",
    "    y=df_occurencies['Item_Outlet_Sales'],\n",
    "    text=df_occurencies['Item_Outlet_Sales_Resumed'],\n",
    "    marker={'color': '#9902FF'},\n",
    "))\n",
    "\n",
    "fig.update_layout(\n",
    "        title=f'<span>Most Sales by Store</span>', \n",
    "        autosize=False,\n",
    "        width=1200,\n",
    "        height=600,\n",
    "        xaxis=dict(title=f'<span>Store Identifier</span>'),\n",
    "        yaxis=dict(title=f'<span>Sales</span>')\n",
    "    )\n",
    "\n",
    "fig.show()\n"
   ]
  },
  {
   "cell_type": "markdown",
   "metadata": {},
   "source": [
    "---\n",
    "\n",
    "### 2.9) Outlet Establishment Year (numerical)"
   ]
  },
  {
   "cell_type": "markdown",
   "metadata": {},
   "source": [
    "---\n",
    "\n",
    "### 2.10) Outlet Size (categorical)"
   ]
  },
  {
   "cell_type": "markdown",
   "metadata": {},
   "source": [
    "---\n",
    "\n",
    "### 2.11) Outlet Location Type (categorical)"
   ]
  },
  {
   "cell_type": "markdown",
   "metadata": {},
   "source": [
    "---\n",
    "\n",
    "### 2.10) Outlet Type (categorical)"
   ]
  },
  {
   "cell_type": "markdown",
   "metadata": {},
   "source": [
    "## 3) Missing Values"
   ]
  },
  {
   "cell_type": "code",
   "execution_count": null,
   "metadata": {},
   "outputs": [],
   "source": [
    "# Gera a visualização\n",
    "\n",
    "# Dataframe\n",
    "df_nan = pd.DataFrame(df_train_raw.isna().sum())\n",
    "\n",
    "# Plot - Mapa de Valores Ausentes\n",
    "if df_train_raw.isna().any(axis = None):\n",
    "    missingno.matrix(df_train_raw[df_nan[df_nan[0]>0].index])\n",
    "    plt.show()"
   ]
  },
  {
   "cell_type": "code",
   "execution_count": null,
   "metadata": {},
   "outputs": [],
   "source": [
    "# Gera a visualização\n",
    "\n",
    "# Dataframe\n",
    "df_nan = pd.DataFrame(df_woe.isna().sum())\n",
    "\n",
    "# Plot - Mapa de Valores Ausentes\n",
    "if df_woe.isna().any(axis = None):\n",
    "    missingno.matrix(df_woe[df_nan[df_nan[0]>0].index])\n",
    "    plt.show()"
   ]
  },
  {
   "cell_type": "markdown",
   "metadata": {},
   "source": []
  }
 ],
 "metadata": {
  "kernelspec": {
   "display_name": "base",
   "language": "python",
   "name": "python3"
  },
  "language_info": {
   "codemirror_mode": {
    "name": "ipython",
    "version": 3
   },
   "file_extension": ".py",
   "mimetype": "text/x-python",
   "name": "python",
   "nbconvert_exporter": "python",
   "pygments_lexer": "ipython3",
   "version": "3.11.5"
  }
 },
 "nbformat": 4,
 "nbformat_minor": 2
}
