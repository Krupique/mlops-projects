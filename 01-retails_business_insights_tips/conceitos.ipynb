{
 "cells": [
  {
   "cell_type": "markdown",
   "metadata": {},
   "source": [
    "# Conceitos importantes do Varejo"
   ]
  },
  {
   "cell_type": "markdown",
   "metadata": {},
   "source": [
    "**Elasticidade**:\n",
    "* [Khan Academy](https://pt.khanacademy.org/economics-finance-domain/microeconomics/elasticity-tutorial/price-elasticity-tutorial/a/price-elasticity-of-demand-and-price-elasticity-of-supply-cnx)\n",
    "* [Khan Academy: Curso básio de Economia](https://pt.khanacademy.org/economics-finance-domain/microeconomics)\n",
    "\n",
    "**CMV**:\n",
    "* [CMV o que é](https://blog.contaazul.com/cmv-custo-de-mercadorias-vendidas)\n",
    "* [CMV](https://arquivei.com.br/blog/cmv-custo-de-mercadorias-vendidas/#:~:text=O%20que%20é%20CMV%20(Custo%20de%20Mercadorias%20Vendidas)%3F,-Primeiramente%2C%20o%20Custo&text=São%20os%20gastos%20com%20a,dos%20custos%20de%20produção%2Fcompra.)\n",
    "\n",
    "**GMV**:\n",
    "* [GMV](https://blog.contaazul.com/gmv-entenda-o-que-e-e-como-calcular)\n",
    "* [GMV 2](https://pagar.me/blog/gmv-o-que-e/?utm_source=google&utm_medium=cpc&utm_campaign=Performance_Max&origin=&media=google&type=pago&campaign=14465604185&ad_group=&ad=&theme=&gclid=CjwKCAjw2K6lBhBXEiwA5RjtCXFlEA9ODw95741cCa9w-o6wlBIwnAd8fSWO5yaPTNAqzvdL922OTRoCEhcQAvD_BwE)\n",
    "\n",
    "**Margem**:\n",
    "* [Margem Líquida](https://celero.com.br/blog/margem-liquida/#:~:text=É%20basicamente%20o%20valor%20que,mostra%20a%20lucratividade%20da%20empresa.)\n",
    "* [Diferença entre mg bruta e mg líquida](https://www.linkedin.com/pulse/entenda-diferença-entre-margem-bruta-e-líquida-v3cap/?originalSubdomain=pt)\n",
    "* [Margem Bruta x Margem Líquida](https://www.treasy.com.br/blog/margem-bruta/)\n",
    "\n",
    "**Livros:**\n",
    "* [Lista de livros economia](https://economiamainstream.com.br/artigo/lista-de-livros-para-estudar-economia/#1_Introducao_a_Economia)\n",
    "* [*Economia* - Microeconomia: Uma Abordagem moderna](https://edisciplinas.usp.br/pluginfile.php/6909148/mod_resource/content/1/Microeconomia%20-%20Hal%20Varian%209a%20edição.pdf)\n",
    "\n",
    "**VPC (Verba de Propaganda Cooperada)**\n",
    "* [VPC](https://21live.com.br/21live/verba-cooperada/#:~:text=O%20que%20é%20verba%20cooperada,do%20dinheiro%20investido%20em%20publicidade.)"
   ]
  },
  {
   "cell_type": "markdown",
   "metadata": {},
   "source": [
    "---\n",
    "\n",
    "## Receita\n",
    "\n",
    "A receita é a soma dos valores que uma organização arrecada com venda de produtos, prestação de serviços, aplicações financeiras, licenciamento de marcas ou patentes, entre outras atividades. Em resumo, a receita consiste em todo o dinheiro que a organização arrecada em determinado período.\n",
    "\n",
    "### Receita Bruta\n",
    "\n",
    "É a soma dos valores arrecadados pela organização em determinado período, de acordo com a descrição de receita feita anteriormente.\n",
    "\n",
    "### Receita Líquida\n",
    "\n",
    "Consiste no que foi arrecadado menos os valores de determinados impostos, descontos, devoluções de produtos, comissões ou multas."
   ]
  },
  {
   "cell_type": "markdown",
   "metadata": {},
   "source": [
    "--- \n",
    "\n",
    "## Lucro\n",
    "\n",
    "### Lucro Bruto\n",
    "\n",
    "Em resumo, o lucro bruto, também conhecido como lucro operacional bruto, é o resultado da conta do que a empresa obtém de receita líquida, menos os gastos variáveis. Por levar em conta os ganhos obtidos e os custos variáveis em um determinado período de tempo, o lucro bruto é um indicador que varia de acordo com o nível de produção, tendo em vista que as receitas e despesas podem aumentar ou diminuir. \n",
    "\n",
    "Entre outros pontos, o lucro bruto é crucial para o cálculo da margem bruta, mas é apenas um dos vários parâmetros importantes para o funcionamento de um negócio. Por isso, ele deve ser analisado de forma conjunta com outros números.\n",
    "\n",
    "Cálculo: \n",
    "\n",
    "> *Lucro Bruto = Receita líquida - Custos Variáveis*\n",
    "\n",
    "Exemplos de custos variáveis:\n",
    "* Matérias-primas;\n",
    "* Remuneração extra de colaboradores por hora trabalhada;\n",
    "* Gasto com transporte dos produtos;\n",
    "* Qualquer outro custo que tenha variação pela quantidade produzida.\n",
    "\n",
    "### Lucro Líquido\n",
    "\n",
    "Em complemento, o lucro líquido é a diferença positiva entre o que a empresa ganha e o que gasta, contando nesse caso tanto os custos variáveis quanto os fixos. Enquanto o lucro bruto serve mais como um indicador de produtividade, o lucro líquido é o que o negócio realmente está ganhando ou perdendo em determinado período de tempo, após o pagamento de todas as despesas, incluindo impostos.\n",
    "\n",
    "Cálculo:\n",
    "\n",
    "> *Lucro Líquido = Receita líquida - Custos Variáveis - Custos Fixos* ou<br/>\n",
    "> *Lucro Líquido = Lucro Bruto - Custos Fixos*\n",
    "\n",
    "No caso dos custos fixos, é possível citar alguns exemplos mais comuns:\n",
    "* Aluguel;\n",
    "* Salário de funcionários;\n",
    "* Materiais para o escritório;\n",
    "* Todos os outros custos que são recorrentes e não variam de valor de acordo com o nível de produção.\n",
    "\n",
    "### Lucro ajustado\n",
    "\n",
    "Também chamado de *lucro líquida ajustado*, essa medida considera números que podem variar de organização para organização, mas geralmente, corresponde ao lucro líquido menos a reserva legal, que vai para:\n",
    "* Patrimônio;\n",
    "* Contingência;\n",
    "* Remuneração de ações."
   ]
  },
  {
   "cell_type": "markdown",
   "metadata": {},
   "source": [
    "---\n",
    "\n",
    "## Margem\n",
    "\n",
    "### Margem Bruta\n",
    "\n",
    "A Margem Bruta mede a rentabilidade do negócio e indica o percentual de retorno do investimento realizado na empresa.\n",
    "\n",
    "Analisar a Margem Bruta significa verificar quais produtos estão com a margem baixa, o que pode resultar em revisão da estratégia. Além disso, ela é um dos principais fatores a se verificar na formação do preço de venda. Basicamente, a Margem Bruta é quanto sua empresa ganha com a venda de um produto ou serviço após diminuir as despesas para produzi-lo e vendê-lo. Para esclarecer melhor, vamos ver como funciona o cálculo.\n",
    "\n",
    "**Como calcular a Margem Bruta?**\n",
    "\n",
    "Para encontrar a Margem Bruta, deve-se dividir o Lucro Bruto pela Receita Líquida, e multiplicar o valor por 100 para obter o percentual. Ou seja:\n",
    "> *Margem Bruta = (Lucro Bruto / Receita Líquida) x 100*\n",
    "\n",
    "> *Minhas palavras: ((gmv - (despesas)) / gmv * 100)*\n",
    "\n",
    "Lembrando que o Lucro Bruto é resultante da subtração dos Custos Diretos Variáveis da Receita Líquida, por exemplo, a matéria-prima e fichas-técnicas. O raciocínio é simples: quanto mais a empresa vende, mais ela fabrica e mais matéria-prima irá precisar. O atributo “variável” é justamente porque a quantidade de matéria-prima varia conforme a produção (ou seja, os custos variáveis variam em função do volume produzido ou vendido).\n",
    "\n",
    "Já a Receita Líquida é resultante da subtração das Deduções de Vendas da Receita Bruta , por exemplo, impostos, abatimentos etc.\n",
    "\n",
    "Importante observar que para fins de cálculo de Margem Bruta deve-se considerar apenas aqueles custos diretamente envolvidos na venda e na produção de um produto (e aqui podemos incluir, além da matéria-prima, o frete ou a manutenção da fábrica), ou na execução de um serviço (como o salário de quem executa o serviço, despesas dos materiais). Custos administrativos não devem ser considerados."
   ]
  },
  {
   "cell_type": "markdown",
   "metadata": {},
   "source": [
    "### Margem Líquida\n",
    "\n",
    "A Margem Líquida mostra o quanto sua empresa faz de lucro líquido para cada real que entra como receita no caixa da sua empresa. Isso significa dividir o Lucro Líquido da empresa pela Receita Líquida, após deduzirmos os impostos e tributos. O resultado será, portanto, a margem líquida ou o lucro líquido. Assim, se a margem líquida da empresa for de 10%, significa que para cada R$ 100,00 gastos ela tem um lucro líquido de R$ 10,00.\n",
    "\n",
    "A Margem Líquida é de extrema importância para entender se uma empresa tem lucro e qual é o valor deste lucro. \n",
    "\n",
    "Para encontrar a Margem Líquida, deve-se dividir o Lucro Líquido pela Receita Líquida, e multiplicar por 100. Ou seja:\n",
    "> *Margem Líquida = (Lucro Líquido / Receita Líquida) x 100*\n",
    "\n",
    "Você vai perceber neste cálculo que é possível a empresa apresentar uma margem de lucro negativa em determinado período analisado. Um cenário de exemplo seria a empresa em questão apresentar um prejuízo líquido, que substituiria o Lucro Líquido da fórmula com um valor negativo, resultado em uma margem também negativa."
   ]
  },
  {
   "cell_type": "markdown",
   "metadata": {},
   "source": [
    "### Diferença entre Margem Bruta e Margem Líquida\n",
    "\n",
    "* A Margem Bruta indica quanto a empresa obtém de retorno com as vendas. Dizemos que quanto maior for a margem bruta, maior será a rentabilidade do negócio.\n",
    "* A Margem Líquida mostra qual é o lucro líquido para cada unidade de venda da empresa. Quanto maior for a margem líquida, maior será a sobra que a empresa terá após o recebimento das vendas e a retirada de todas as taxas e deduções"
   ]
  },
  {
   "cell_type": "markdown",
   "metadata": {},
   "source": []
  }
 ],
 "metadata": {
  "language_info": {
   "name": "python"
  },
  "orig_nbformat": 4
 },
 "nbformat": 4,
 "nbformat_minor": 2
}
