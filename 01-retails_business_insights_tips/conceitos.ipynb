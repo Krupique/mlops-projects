{
 "cells": [
  {
   "cell_type": "markdown",
   "metadata": {},
   "source": [
    "# Conceitos importantes do Varejo"
   ]
  },
  {
   "cell_type": "markdown",
   "metadata": {},
   "source": [
    "**Elasticidade**:\n",
    "* [Khan Academy](https://pt.khanacademy.org/economics-finance-domain/microeconomics/elasticity-tutorial/price-elasticity-tutorial/a/price-elasticity-of-demand-and-price-elasticity-of-supply-cnx)\n",
    "* [Khan Academy: Curso básio de Economia](https://pt.khanacademy.org/economics-finance-domain/microeconomics)\n",
    "\n",
    "**CMV**:\n",
    "* [CMV o que é](https://blog.contaazul.com/cmv-custo-de-mercadorias-vendidas)\n",
    "* [CMV](https://arquivei.com.br/blog/cmv-custo-de-mercadorias-vendidas/#:~:text=O%20que%20é%20CMV%20(Custo%20de%20Mercadorias%20Vendidas)%3F,-Primeiramente%2C%20o%20Custo&text=São%20os%20gastos%20com%20a,dos%20custos%20de%20produção%2Fcompra.)\n",
    "\n",
    "**GMV**:\n",
    "* [GMV](https://blog.contaazul.com/gmv-entenda-o-que-e-e-como-calcular)\n",
    "* [GMV 2](https://pagar.me/blog/gmv-o-que-e/?utm_source=google&utm_medium=cpc&utm_campaign=Performance_Max&origin=&media=google&type=pago&campaign=14465604185&ad_group=&ad=&theme=&gclid=CjwKCAjw2K6lBhBXEiwA5RjtCXFlEA9ODw95741cCa9w-o6wlBIwnAd8fSWO5yaPTNAqzvdL922OTRoCEhcQAvD_BwE)\n",
    "\n",
    "**Margem**:\n",
    "* [Margem Líquida](https://celero.com.br/blog/margem-liquida/#:~:text=É%20basicamente%20o%20valor%20que,mostra%20a%20lucratividade%20da%20empresa.)\n",
    "* [Diferença entre mg bruta e mg líquida](https://www.linkedin.com/pulse/entenda-diferença-entre-margem-bruta-e-líquida-v3cap/?originalSubdomain=pt)\n",
    "* [Margem Bruta x Margem Líquida](https://www.treasy.com.br/blog/margem-bruta/)\n",
    "\n",
    "**Livros:**\n",
    "* [Lista de livros economia](https://economiamainstream.com.br/artigo/lista-de-livros-para-estudar-economia/#1_Introducao_a_Economia)\n",
    "* [*Economia* - Microeconomia: Uma Abordagem moderna](https://edisciplinas.usp.br/pluginfile.php/6909148/mod_resource/content/1/Microeconomia%20-%20Hal%20Varian%209a%20edição.pdf)"
   ]
  },
  {
   "cell_type": "markdown",
   "metadata": {},
   "source": []
  }
 ],
 "metadata": {
  "language_info": {
   "name": "python"
  },
  "orig_nbformat": 4
 },
 "nbformat": 4,
 "nbformat_minor": 2
}
