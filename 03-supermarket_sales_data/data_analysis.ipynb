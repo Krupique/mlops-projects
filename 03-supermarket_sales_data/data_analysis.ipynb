{
 "cells": [
  {
   "cell_type": "markdown",
   "metadata": {},
   "source": [
    "# Supermarket Sales Data\n",
    "\n",
    "Link: https://www.kaggle.com/datasets/yapwh1208/supermarket-sales-data?select=annex4.csv\n",
    "\n",
    "This is a dataset of sales data of vegetables in a supermarket."
   ]
  },
  {
   "cell_type": "code",
   "execution_count": null,
   "metadata": {},
   "outputs": [],
   "source": [
    "import pandas as pd\n",
    "import numpy as np\n",
    "\n",
    "import matplotlib.pyplot as plt\n",
    "import seaborn as sns\n"
   ]
  },
  {
   "cell_type": "code",
   "execution_count": null,
   "metadata": {},
   "outputs": [],
   "source": [
    "df1 = pd.read_csv('data/annex1.csv')\n",
    "df2 = pd.read_csv('data/annex2.csv')\n",
    "df3 = pd.read_csv('data/annex3.csv')\n",
    "df4 = pd.read_csv('data/annex4.csv')"
   ]
  },
  {
   "cell_type": "code",
   "execution_count": null,
   "metadata": {},
   "outputs": [],
   "source": [
    "display(df1.shape)\n",
    "display(df1.head(3))\n",
    "\n",
    "display(df2.shape)\n",
    "display(df2.head(3))\n",
    "\n",
    "display(df3.shape)\n",
    "display(df3.head(3))\n",
    "\n",
    "display(df4.shape)\n",
    "display(df4.head(3))"
   ]
  },
  {
   "cell_type": "code",
   "execution_count": null,
   "metadata": {},
   "outputs": [],
   "source": [
    "len(df2['Item Code'].unique())"
   ]
  },
  {
   "cell_type": "code",
   "execution_count": null,
   "metadata": {},
   "outputs": [],
   "source": []
  }
 ],
 "metadata": {
  "kernelspec": {
   "display_name": "base",
   "language": "python",
   "name": "python3"
  },
  "language_info": {
   "codemirror_mode": {
    "name": "ipython",
    "version": 3
   },
   "file_extension": ".py",
   "mimetype": "text/x-python",
   "name": "python",
   "nbconvert_exporter": "python",
   "pygments_lexer": "ipython3",
   "version": "3.11.7"
  }
 },
 "nbformat": 4,
 "nbformat_minor": 2
}
